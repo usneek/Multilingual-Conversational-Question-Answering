{
  "nbformat": 4,
  "nbformat_minor": 0,
  "metadata": {
    "colab": {
      "name": "PDF_Question Answering.ipynb",
      "provenance": [],
      "collapsed_sections": [],
      "include_colab_link": true
    },
    "kernelspec": {
      "display_name": "Python 3",
      "name": "python3"
    },
    "language_info": {
      "name": "python"
    }
  },
  "cells": [
    {
      "cell_type": "markdown",
      "metadata": {
        "id": "view-in-github",
        "colab_type": "text"
      },
      "source": [
        "<a href=\"https://colab.research.google.com/github/usneek/Multilingual-Conversational-Question-Answering/blob/main/PDF_Question_Answering.ipynb\" target=\"_parent\"><img src=\"https://colab.research.google.com/assets/colab-badge.svg\" alt=\"Open In Colab\"/></a>"
      ]
    },
    {
      "cell_type": "code",
      "metadata": {
        "colab": {
          "base_uri": "https://localhost:8080/"
        },
        "id": "w--mNncya2pE",
        "outputId": "04ae83c5-9e46-49b4-a168-c566567416b1"
      },
      "source": [
        "!git clone https://github.com/cdqa-suite/cdQA.git\n",
        "!cd cdQA"
      ],
      "execution_count": null,
      "outputs": [
        {
          "output_type": "stream",
          "name": "stdout",
          "text": [
            "Cloning into 'cdQA'...\n",
            "remote: Enumerating objects: 1548, done.\u001b[K\n",
            "remote: Total 1548 (delta 0), reused 0 (delta 0), pack-reused 1548\u001b[K\n",
            "Receiving objects: 100% (1548/1548), 560.46 KiB | 9.50 MiB/s, done.\n",
            "Resolving deltas: 100% (955/955), done.\n",
            "\u001b[31mERROR: File \"setup.py\" or \"setup.cfg\" not found. Directory cannot be installed in editable mode: /content\u001b[0m\n"
          ]
        }
      ]
    },
    {
      "cell_type": "code",
      "metadata": {
        "colab": {
          "base_uri": "https://localhost:8080/",
          "height": 374
        },
        "id": "dIFiPFZnprBH",
        "outputId": "9226827d-65d9-4fad-bac0-35318c665a4a"
      },
      "source": [
        "import os\n",
        "import pandas as pd\n",
        "from ast import literal_eval\n",
        "from cdqa.utils.converters import pdf_converter\n",
        "from cdqa.pipeline import QAPipeline\n",
        "from cdqa.utils.download import download_model"
      ],
      "execution_count": null,
      "outputs": [
        {
          "output_type": "error",
          "ename": "ModuleNotFoundError",
          "evalue": "ignored",
          "traceback": [
            "\u001b[0;31m---------------------------------------------------------------------------\u001b[0m",
            "\u001b[0;31mModuleNotFoundError\u001b[0m                       Traceback (most recent call last)",
            "\u001b[0;32m<ipython-input-7-953bd553d416>\u001b[0m in \u001b[0;36m<module>\u001b[0;34m()\u001b[0m\n\u001b[1;32m      2\u001b[0m \u001b[0;32mimport\u001b[0m \u001b[0mpandas\u001b[0m \u001b[0;32mas\u001b[0m \u001b[0mpd\u001b[0m\u001b[0;34m\u001b[0m\u001b[0;34m\u001b[0m\u001b[0m\n\u001b[1;32m      3\u001b[0m \u001b[0;32mfrom\u001b[0m \u001b[0mast\u001b[0m \u001b[0;32mimport\u001b[0m \u001b[0mliteral_eval\u001b[0m\u001b[0;34m\u001b[0m\u001b[0;34m\u001b[0m\u001b[0m\n\u001b[0;32m----> 4\u001b[0;31m \u001b[0;32mfrom\u001b[0m \u001b[0mcdqa\u001b[0m\u001b[0;34m.\u001b[0m\u001b[0mutils\u001b[0m\u001b[0;34m.\u001b[0m\u001b[0mconverters\u001b[0m \u001b[0;32mimport\u001b[0m \u001b[0mpdf_converter\u001b[0m\u001b[0;34m\u001b[0m\u001b[0;34m\u001b[0m\u001b[0m\n\u001b[0m\u001b[1;32m      5\u001b[0m \u001b[0;32mfrom\u001b[0m \u001b[0mcdqa\u001b[0m\u001b[0;34m.\u001b[0m\u001b[0mpipeline\u001b[0m \u001b[0;32mimport\u001b[0m \u001b[0mQAPipeline\u001b[0m\u001b[0;34m\u001b[0m\u001b[0;34m\u001b[0m\u001b[0m\n\u001b[1;32m      6\u001b[0m \u001b[0;32mfrom\u001b[0m \u001b[0mcdqa\u001b[0m\u001b[0;34m.\u001b[0m\u001b[0mutils\u001b[0m\u001b[0;34m.\u001b[0m\u001b[0mdownload\u001b[0m \u001b[0;32mimport\u001b[0m \u001b[0mdownload_model\u001b[0m\u001b[0;34m\u001b[0m\u001b[0;34m\u001b[0m\u001b[0m\n",
            "\u001b[0;31mModuleNotFoundError\u001b[0m: No module named 'cdqa'",
            "",
            "\u001b[0;31m---------------------------------------------------------------------------\u001b[0;32m\nNOTE: If your import is failing due to a missing package, you can\nmanually install dependencies using either !pip or !apt.\n\nTo view examples of installing some common dependencies, click the\n\"Open Examples\" button below.\n\u001b[0;31m---------------------------------------------------------------------------\u001b[0m\n"
          ],
          "errorDetails": {
            "actions": [
              {
                "action": "open_url",
                "actionText": "Open Examples",
                "url": "/notebooks/snippets/importing_libraries.ipynb"
              }
            ]
          }
        }
      ]
    },
    {
      "cell_type": "code",
      "metadata": {
        "colab": {
          "base_uri": "https://localhost:8080/"
        },
        "id": "xLQ_YarPpt44",
        "outputId": "21a81475-6544-4a3b-e298-deddd41a5b0d"
      },
      "source": [
        "download_model(model='bert-squad_1.1', dir='./models')"
      ],
      "execution_count": null,
      "outputs": [
        {
          "output_type": "stream",
          "name": "stdout",
          "text": [
            "\n",
            "Downloading trained model...\n"
          ]
        }
      ]
    },
    {
      "cell_type": "code",
      "metadata": {
        "colab": {
          "base_uri": "https://localhost:8080/",
          "height": 278
        },
        "id": "02x6S7N7qpCo",
        "outputId": "2b163283-8e66-450b-924e-67c9cbec7fa8"
      },
      "source": [
        "df = pdf_converter(directory_path='drive/MyDrive/Conversational Question Answering System Code Notebooks/CDQA/')\n",
        "df.head()"
      ],
      "execution_count": null,
      "outputs": [
        {
          "output_type": "stream",
          "name": "stderr",
          "text": [
            "2021-12-07 04:54:49,825 [MainThread  ] [INFO ]  Retrieving http://search.maven.org/remotecontent?filepath=org/apache/tika/tika-server/1.19/tika-server-1.19.jar to /tmp/tika-server.jar.\n",
            "2021-12-07 04:54:50,534 [MainThread  ] [INFO ]  Retrieving http://search.maven.org/remotecontent?filepath=org/apache/tika/tika-server/1.19/tika-server-1.19.jar.md5 to /tmp/tika-server.jar.md5.\n",
            "2021-12-07 04:54:50,883 [MainThread  ] [WARNI]  Failed to see startup log message; retrying...\n"
          ]
        },
        {
          "output_type": "execute_result",
          "data": {
            "text/html": [
              "<div>\n",
              "<style scoped>\n",
              "    .dataframe tbody tr th:only-of-type {\n",
              "        vertical-align: middle;\n",
              "    }\n",
              "\n",
              "    .dataframe tbody tr th {\n",
              "        vertical-align: top;\n",
              "    }\n",
              "\n",
              "    .dataframe thead th {\n",
              "        text-align: right;\n",
              "    }\n",
              "</style>\n",
              "<table border=\"1\" class=\"dataframe\">\n",
              "  <thead>\n",
              "    <tr style=\"text-align: right;\">\n",
              "      <th></th>\n",
              "      <th>title</th>\n",
              "      <th>paragraphs</th>\n",
              "    </tr>\n",
              "  </thead>\n",
              "  <tbody>\n",
              "    <tr>\n",
              "      <th>0</th>\n",
              "      <td>Chapter 1</td>\n",
              "      <td>[16  , THE COMPANIES ACT, 2013 , ACT NO. 18 OF...</td>\n",
              "    </tr>\n",
              "    <tr>\n",
              "      <th>1</th>\n",
              "      <td>Chapter 10</td>\n",
              "      <td>[96  , Provided also that a company shall, alo...</td>\n",
              "    </tr>\n",
              "    <tr>\n",
              "      <th>2</th>\n",
              "      <td>Chapter 7</td>\n",
              "      <td>[66  (2) The register of charges and instrumen...</td>\n",
              "    </tr>\n",
              "    <tr>\n",
              "      <th>3</th>\n",
              "      <td>Chapter 5</td>\n",
              "      <td>[61  company and any other person interested i...</td>\n",
              "    </tr>\n",
              "    <tr>\n",
              "      <th>4</th>\n",
              "      <td>Chapter 6</td>\n",
              "      <td>[63  deposits had been accepted with intent to...</td>\n",
              "    </tr>\n",
              "  </tbody>\n",
              "</table>\n",
              "</div>"
            ],
            "text/plain": [
              "        title                                         paragraphs\n",
              "0   Chapter 1  [16  , THE COMPANIES ACT, 2013 , ACT NO. 18 OF...\n",
              "1  Chapter 10  [96  , Provided also that a company shall, alo...\n",
              "2   Chapter 7  [66  (2) The register of charges and instrumen...\n",
              "3   Chapter 5  [61  company and any other person interested i...\n",
              "4   Chapter 6  [63  deposits had been accepted with intent to..."
            ]
          },
          "metadata": {},
          "execution_count": 3
        }
      ]
    },
    {
      "cell_type": "code",
      "metadata": {
        "colab": {
          "base_uri": "https://localhost:8080/"
        },
        "id": "mNRnO1dsqti-",
        "outputId": "c087d2bf-b0c5-4901-b7b4-27eb0034eee0"
      },
      "source": [
        "cdqa_pipeline = QAPipeline(reader='./models/bert_qa.joblib', max_df=1.0)\n",
        "cdqa_pipeline.fit_retriever(df=df)"
      ],
      "execution_count": null,
      "outputs": [
        {
          "output_type": "stream",
          "name": "stderr",
          "text": [
            "100%|██████████| 231508/231508 [00:00<00:00, 1805518.24B/s]\n"
          ]
        },
        {
          "output_type": "execute_result",
          "data": {
            "text/plain": [
              "QAPipeline(reader=BertQA(adam_epsilon=1e-08, bert_model='bert-base-uncased',\n",
              "                         do_lower_case=True, fp16=False,\n",
              "                         gradient_accumulation_steps=1, learning_rate=5e-05,\n",
              "                         local_rank=-1, loss_scale=0, max_answer_length=30,\n",
              "                         n_best_size=20, no_cuda=False,\n",
              "                         null_score_diff_threshold=0.0, num_train_epochs=3.0,\n",
              "                         output_dir=None, predict_batch_size=8, seed=42,\n",
              "                         server_ip='', server_po..._size=8,\n",
              "                         verbose_logging=False, version_2_with_negative=False,\n",
              "                         warmup_proportion=0.1, warmup_steps=0),\n",
              "           retrieve_by_doc=False,\n",
              "           retriever=BM25Retriever(b=0.75, floor=None, k1=2.0, lowercase=True,\n",
              "                                   max_df=1.0, min_df=2, ngram_range=(1, 2),\n",
              "                                   preprocessor=None, stop_words='english',\n",
              "                                   token_pattern='(?u)\\\\b\\\\w\\\\w+\\\\b',\n",
              "                                   tokenizer=None, top_n=20, verbose=False,\n",
              "                                   vocabulary=None))"
            ]
          },
          "metadata": {},
          "execution_count": 4
        }
      ]
    },
    {
      "cell_type": "code",
      "metadata": {
        "colab": {
          "base_uri": "https://localhost:8080/"
        },
        "id": "fUiiWfh2q30t",
        "outputId": "8be1e73d-275f-4be7-c134-ab90d2097a80"
      },
      "source": [
        "import joblib\n",
        "joblib.dump(cdqa_pipeline, './models/bert_qa_custom.joblib')"
      ],
      "execution_count": null,
      "outputs": [
        {
          "output_type": "execute_result",
          "data": {
            "text/plain": [
              "['./models/bert_qa_custom.joblib']"
            ]
          },
          "metadata": {},
          "execution_count": 5
        }
      ]
    },
    {
      "cell_type": "code",
      "metadata": {
        "colab": {
          "base_uri": "https://localhost:8080/"
        },
        "id": "fiSkkWyaq7ZJ",
        "outputId": "7bf3bf29-6b55-4ff9-89f5-8c38ba1992f0"
      },
      "source": [
        "cdqa_pipeline=joblib.load('./models/bert_qa_custom.joblib')\n",
        "cdqa_pipeline"
      ],
      "execution_count": null,
      "outputs": [
        {
          "output_type": "execute_result",
          "data": {
            "text/plain": [
              "QAPipeline(reader=BertQA(adam_epsilon=1e-08, bert_model='bert-base-uncased',\n",
              "                         do_lower_case=True, fp16=False,\n",
              "                         gradient_accumulation_steps=1, learning_rate=5e-05,\n",
              "                         local_rank=-1, loss_scale=0, max_answer_length=30,\n",
              "                         n_best_size=20, no_cuda=False,\n",
              "                         null_score_diff_threshold=0.0, num_train_epochs=3.0,\n",
              "                         output_dir=None, predict_batch_size=8, seed=42,\n",
              "                         server_ip='', server_po..._size=8,\n",
              "                         verbose_logging=False, version_2_with_negative=False,\n",
              "                         warmup_proportion=0.1, warmup_steps=0),\n",
              "           retrieve_by_doc=False,\n",
              "           retriever=BM25Retriever(b=0.75, floor=None, k1=2.0, lowercase=True,\n",
              "                                   max_df=1.0, min_df=2, ngram_range=(1, 2),\n",
              "                                   preprocessor=None, stop_words='english',\n",
              "                                   token_pattern='(?u)\\\\b\\\\w\\\\w+\\\\b',\n",
              "                                   tokenizer=None, top_n=20, verbose=False,\n",
              "                                   vocabulary=None))"
            ]
          },
          "metadata": {},
          "execution_count": 6
        }
      ]
    },
    {
      "cell_type": "code",
      "metadata": {
        "id": "iW3o72Lbq_Qn",
        "colab": {
          "base_uri": "https://localhost:8080/"
        },
        "outputId": "07b06c66-8243-4aee-873d-89297e961e2b"
      },
      "source": [
        "query = 'What is registrar?'\n",
        "prediction = cdqa_pipeline.predict(query, 3)\n",
        "print(prediction)"
      ],
      "execution_count": null,
      "outputs": [
        {
          "output_type": "stream",
          "name": "stdout",
          "text": [
            "[('provisional liquidator', 'Chapter 20', '277. Intimation to Company Liquidator, provisional liquidator and Registrar.—(1) Where the ', 8.02054058563101), ('Registrar of Companies', 'Chapter 21', 'Registrar of Companies and to the Registrar of the Co-operative Societies under which it has been registered as a multi-State co-operative society or co-operative society, as the case may be. ', 7.880358265576074), ('Registrar of Companies', 'Chapter 22', 'Registrar of Companies and to the Registrar of the Co-operative Societies under which it has been registered as a multi-State co-operative society or co-operative society, as the case may be. ', 7.880358265576074)]\n"
          ]
        }
      ]
    },
    {
      "cell_type": "code",
      "metadata": {
        "colab": {
          "base_uri": "https://localhost:8080/"
        },
        "id": "Elo_nzYGP3xq",
        "outputId": "8e71d0f0-936b-496f-ed33-7f7ee8b3f135"
      },
      "source": [
        "query = 'What is the Punishment for fraudulently inducing persons to invest money'\n",
        "prediction = cdqa_pipeline.predict(query, 3)\n",
        "print(prediction)"
      ],
      "execution_count": null,
      "outputs": [
        {
          "output_type": "stream",
          "name": "stdout",
          "text": [
            "[('every officer in default', 'Chapter 2', 'Provided that when it is proved that the affairs of the company were conducted fraudulently, every officer in default shall be liable for action under section 447. ', 6.6431234513387505), ('personation of shareholder', 'Chapter 4', '57. Punishment for personation of shareholder.—If any person deceitfully personates as an owner of any security or interest in a company, or of any share warrant or coupon issued in pursuance of this Act, and thereby obtains or attempts to obtain any such security or interest or any such share warrant or coupon, or receives or attempts to receive any money due to any such owner, he shall be punishable with imprisonment for a term which shall not be less than one year but which may extend to three years and with fine which shall not be less than one lakh rupees but which may extend to five lakh rupees. ', 6.017715257385921), ('to invest otherwise in trust securities the amount of compensation received by it as a result of any merger or amalgamation', 'Chapter 12', 'Explanation.—For the purposes of this clause,— (i) “undertaking” shall mean an undertaking in which the investment of the company exceeds twenty per cent. of its net worth as per the audited balance sheet of the preceding financial year or an undertaking which generates twenty per cent. of the total income of the company during the previous financial year; (ii) the expression “substantially the whole of the undertaking” in any financial year shall mean twenty per cent. or more of the value of the undertaking as per the audited balance sheet of the preceding financial year; (b) to invest otherwise in trust securities the amount of compensation received by it as a result of any merger or amalgamation; (c) to borrow money, where the money to be borrowed, together with the money already borrowed by the company will exceed aggregate of its 1[paid-up share capital, free reserves and securities premium], apart from temporary loans obtained from the company’s bankers in the ordinary course of business: ', 5.829818850986087)]\n"
          ]
        }
      ]
    },
    {
      "cell_type": "code",
      "metadata": {
        "colab": {
          "base_uri": "https://localhost:8080/"
        },
        "id": "njpnVlCbP6Q9",
        "outputId": "9947c4b9-099b-491f-973b-7949a986f53c"
      },
      "source": [
        "query = 'What is the Compensation for loss of office of managing'\n",
        "prediction = cdqa_pipeline.predict(query, 3)\n",
        "print(prediction)"
      ],
      "execution_count": null,
      "outputs": [
        {
          "output_type": "stream",
          "name": "stdout",
          "text": [
            "[('Compensation for loss of office of managing or whole-time director or manager', 'Chapter 13', '202. Compensation for loss of office of managing or whole-time director or manager.—(1) A company may make payment to a managing or whole-time director or manager, but not to any other director, by way of compensation for loss of office, or as consideration for retirement from office or in connection with such loss or retirement. (2) No payment shall be made under sub-section (1) in the following cases, namely:— (a) where the director resigns from his office as a result of the reconstruction of the company, or of its amalgamation with any other body corporate or bodies corporate, and is appointed as the managing or whole-time director, manager or other officer of the reconstructed company or of the body corporate resulting from the amalgamation; (b) where the director resigns from his office otherwise than on the reconstruction of the company or its amalgamation as aforesaid; (c) where the office of the director is vacated under sub-section (1) of section 167; (d) where the company is being wound up, whether by an order of the Tribunal or voluntarily, provided the winding up was due to the negligence or default of the director;                                                            1. The words “the Central Government or” omitted by Act 1 of 2018, s. 69 (w.e.f. 12-9-2018).   ', 9.591963222241379), ('Payment to director for loss of office', 'Chapter 12', '191. Payment to director for loss of office, etc., in connection with transfer of undertaking, property or shares.—(1) No director of a company shall, in connection with— (a) the transfer of the whole or any part of any undertaking or property of the company; or (b) the transfer to any person of all or any of the shares in a company being a transfer resulting from— (i) an offer made to the general body of shareholders; (ii) an offer made by or on behalf of some other body corporate with a view to a company becoming a subsidiary company of such body corporate or a subsidiary company of its holding company; (iii) an offer made by or on behalf of an individual with a view to his obtaining the right to exercise, or control the exercise of, not less than one-third of the total voting power at any general meeting of the company; or (iv) any other offer which is conditional on acceptance to a given extent, receive any payment by way of compensation for loss of office or as consideration for retirement from office, or in connection with such loss or retirement from such company or from the transferee of such undertaking or property, or from the transferees of shares or from any other person, not being such company, unless particulars as may be prescribed with respect to the payment proposed to be made by such transferee or person, including the amount thereof, have been disclosed to the members of the company and the proposal has been approved by the company in general meeting. (2) Nothing in sub-section (1) shall affect any payment made by a company to a managing director or whole-time director or manager of the company by way of compensation for loss of office or as ', 9.42329368723177), ('such order shall not give rise to any claims whatever against the company by any person for damages', 'Chapter 16', '243. Consequence of termination or modification of certain agreements.—(1) Where an order made under section 242 terminates, sets aside or modifies an agreement such as is referred to in sub-section (2) of that section,— (a) such order shall not give rise to any claims whatever against the company by any person for damages or for compensation for loss of office or in any other respect either in pursuance of the agreement or otherwise; (b) no managing director or other director or manager whose agreement is so terminated or set aside shall, for a period of five years from the date of the order terminating or setting aside the agreement, without the leave of the Tribunal, be appointed, or act, as the managing director or other director or manager of the company: ', 8.597292351698256)]\n"
          ]
        }
      ]
    },
    {
      "cell_type": "code",
      "metadata": {
        "colab": {
          "base_uri": "https://localhost:8080/"
        },
        "id": "qyRejsayP7u9",
        "outputId": "31174016-ebc3-4b9c-ebec-5a327e044297"
      },
      "source": [
        "query = 'How does Appointment of auditors happen?'\n",
        "prediction = cdqa_pipeline.predict(query, 3)\n",
        "print(prediction)"
      ],
      "execution_count": null,
      "outputs": [
        {
          "output_type": "stream",
          "name": "stdout",
          "text": [
            "[('the text of the draft resolution', 'Chapter 21', 'Producer Company and its subsidiary, which have occurred in between the date of the annual accounts of the Producer Company to which the balance-sheet relates and the date of the report of the Board; (vi) any other matter of importance relating to energy conservation, environmental protection, expenditure or earnings in foreign exchanges; (vii) any other matter which is required to be, or may be, specified by the Board; (e) the text of the draft resolution for appointment of auditors; (f) the text of any draft resolution proposing amendment to the memorandum or articles to be considered at the general meeting, alongwith the recommendations of the Board. (5) The Board of Directors shall, on the requisition made in writing, duly signed and setting out the matters for the consideration, made by one-third of the Members entitled to vote in any general meeting, proceed to call an extraordinary general meeting in accordance with the relevant provisions contained in ', 9.427388466897344), ('in its general meeting', 'Chapter 10', '142. Remuneration of auditors.—(1) The remuneration of the auditor of a company shall be fixed in its general meeting or in such manner as may be determined therein: ', 7.711448197562707), ('if he is a chartered accountant', 'Chapter 10', '141. Eligibility, qualifications and disqualifications of auditors.—(1) A person shall be eligible for appointment as an auditor of a company only if he is a chartered accountant: ', 7.156542264670859)]\n"
          ]
        }
      ]
    }
  ]
}