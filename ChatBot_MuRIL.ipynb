{
  "nbformat": 4,
  "nbformat_minor": 0,
  "metadata": {
    "colab": {
      "name": "ChatBot_MuRIL.ipynb",
      "provenance": [],
      "collapsed_sections": [],
      "include_colab_link": true
    },
    "kernelspec": {
      "name": "python3",
      "display_name": "Python 3"
    },
    "language_info": {
      "name": "python"
    },
    "widgets": {
      "application/vnd.jupyter.widget-state+json": {
        "bdce14b9832e42d4a6c56720b236e545": {
          "model_module": "@jupyter-widgets/controls",
          "model_name": "HBoxModel",
          "model_module_version": "1.5.0",
          "state": {
            "_view_name": "HBoxView",
            "_dom_classes": [],
            "_model_name": "HBoxModel",
            "_view_module": "@jupyter-widgets/controls",
            "_model_module_version": "1.5.0",
            "_view_count": null,
            "_view_module_version": "1.5.0",
            "box_style": "",
            "layout": "IPY_MODEL_34a8993e2fa344b3a68a92ecab604328",
            "_model_module": "@jupyter-widgets/controls",
            "children": [
              "IPY_MODEL_8952fa9ca3b245708cfdce1390e72c8c",
              "IPY_MODEL_e69b5d36ba4947e2b178c366180c1fc6",
              "IPY_MODEL_def4ac1a6132485f81fdb450789e77fd"
            ]
          }
        },
        "34a8993e2fa344b3a68a92ecab604328": {
          "model_module": "@jupyter-widgets/base",
          "model_name": "LayoutModel",
          "model_module_version": "1.2.0",
          "state": {
            "_view_name": "LayoutView",
            "grid_template_rows": null,
            "right": null,
            "justify_content": null,
            "_view_module": "@jupyter-widgets/base",
            "overflow": null,
            "_model_module_version": "1.2.0",
            "_view_count": null,
            "flex_flow": null,
            "width": null,
            "min_width": null,
            "border": null,
            "align_items": null,
            "bottom": null,
            "_model_module": "@jupyter-widgets/base",
            "top": null,
            "grid_column": null,
            "overflow_y": null,
            "overflow_x": null,
            "grid_auto_flow": null,
            "grid_area": null,
            "grid_template_columns": null,
            "flex": null,
            "_model_name": "LayoutModel",
            "justify_items": null,
            "grid_row": null,
            "max_height": null,
            "align_content": null,
            "visibility": null,
            "align_self": null,
            "height": null,
            "min_height": null,
            "padding": null,
            "grid_auto_rows": null,
            "grid_gap": null,
            "max_width": null,
            "order": null,
            "_view_module_version": "1.2.0",
            "grid_template_areas": null,
            "object_position": null,
            "object_fit": null,
            "grid_auto_columns": null,
            "margin": null,
            "display": null,
            "left": null
          }
        },
        "8952fa9ca3b245708cfdce1390e72c8c": {
          "model_module": "@jupyter-widgets/controls",
          "model_name": "HTMLModel",
          "model_module_version": "1.5.0",
          "state": {
            "_view_name": "HTMLView",
            "style": "IPY_MODEL_d36fcaaeed4944da8bdadb16639e20cf",
            "_dom_classes": [],
            "description": "",
            "_model_name": "HTMLModel",
            "placeholder": "​",
            "_view_module": "@jupyter-widgets/controls",
            "_model_module_version": "1.5.0",
            "value": "Downloading: 100%",
            "_view_count": null,
            "_view_module_version": "1.5.0",
            "description_tooltip": null,
            "_model_module": "@jupyter-widgets/controls",
            "layout": "IPY_MODEL_402c91bb61ab40f991c6a165a241cac7"
          }
        },
        "e69b5d36ba4947e2b178c366180c1fc6": {
          "model_module": "@jupyter-widgets/controls",
          "model_name": "FloatProgressModel",
          "model_module_version": "1.5.0",
          "state": {
            "_view_name": "ProgressView",
            "style": "IPY_MODEL_f1d6a8a63a87489b8efd10fe79b0df33",
            "_dom_classes": [],
            "description": "",
            "_model_name": "FloatProgressModel",
            "bar_style": "success",
            "max": 736,
            "_view_module": "@jupyter-widgets/controls",
            "_model_module_version": "1.5.0",
            "value": 736,
            "_view_count": null,
            "_view_module_version": "1.5.0",
            "orientation": "horizontal",
            "min": 0,
            "description_tooltip": null,
            "_model_module": "@jupyter-widgets/controls",
            "layout": "IPY_MODEL_f12861b4188b4eaa960f8a21af010384"
          }
        },
        "def4ac1a6132485f81fdb450789e77fd": {
          "model_module": "@jupyter-widgets/controls",
          "model_name": "HTMLModel",
          "model_module_version": "1.5.0",
          "state": {
            "_view_name": "HTMLView",
            "style": "IPY_MODEL_2a73107b67bb40ddbff7b0acca733fca",
            "_dom_classes": [],
            "description": "",
            "_model_name": "HTMLModel",
            "placeholder": "​",
            "_view_module": "@jupyter-widgets/controls",
            "_model_module_version": "1.5.0",
            "value": " 736/736 [00:00&lt;00:00, 9.84kB/s]",
            "_view_count": null,
            "_view_module_version": "1.5.0",
            "description_tooltip": null,
            "_model_module": "@jupyter-widgets/controls",
            "layout": "IPY_MODEL_36d0b2a837e84911aa27601546610787"
          }
        },
        "d36fcaaeed4944da8bdadb16639e20cf": {
          "model_module": "@jupyter-widgets/controls",
          "model_name": "DescriptionStyleModel",
          "model_module_version": "1.5.0",
          "state": {
            "_view_name": "StyleView",
            "_model_name": "DescriptionStyleModel",
            "description_width": "",
            "_view_module": "@jupyter-widgets/base",
            "_model_module_version": "1.5.0",
            "_view_count": null,
            "_view_module_version": "1.2.0",
            "_model_module": "@jupyter-widgets/controls"
          }
        },
        "402c91bb61ab40f991c6a165a241cac7": {
          "model_module": "@jupyter-widgets/base",
          "model_name": "LayoutModel",
          "model_module_version": "1.2.0",
          "state": {
            "_view_name": "LayoutView",
            "grid_template_rows": null,
            "right": null,
            "justify_content": null,
            "_view_module": "@jupyter-widgets/base",
            "overflow": null,
            "_model_module_version": "1.2.0",
            "_view_count": null,
            "flex_flow": null,
            "width": null,
            "min_width": null,
            "border": null,
            "align_items": null,
            "bottom": null,
            "_model_module": "@jupyter-widgets/base",
            "top": null,
            "grid_column": null,
            "overflow_y": null,
            "overflow_x": null,
            "grid_auto_flow": null,
            "grid_area": null,
            "grid_template_columns": null,
            "flex": null,
            "_model_name": "LayoutModel",
            "justify_items": null,
            "grid_row": null,
            "max_height": null,
            "align_content": null,
            "visibility": null,
            "align_self": null,
            "height": null,
            "min_height": null,
            "padding": null,
            "grid_auto_rows": null,
            "grid_gap": null,
            "max_width": null,
            "order": null,
            "_view_module_version": "1.2.0",
            "grid_template_areas": null,
            "object_position": null,
            "object_fit": null,
            "grid_auto_columns": null,
            "margin": null,
            "display": null,
            "left": null
          }
        },
        "f1d6a8a63a87489b8efd10fe79b0df33": {
          "model_module": "@jupyter-widgets/controls",
          "model_name": "ProgressStyleModel",
          "model_module_version": "1.5.0",
          "state": {
            "_view_name": "StyleView",
            "_model_name": "ProgressStyleModel",
            "description_width": "",
            "_view_module": "@jupyter-widgets/base",
            "_model_module_version": "1.5.0",
            "_view_count": null,
            "_view_module_version": "1.2.0",
            "bar_color": null,
            "_model_module": "@jupyter-widgets/controls"
          }
        },
        "f12861b4188b4eaa960f8a21af010384": {
          "model_module": "@jupyter-widgets/base",
          "model_name": "LayoutModel",
          "model_module_version": "1.2.0",
          "state": {
            "_view_name": "LayoutView",
            "grid_template_rows": null,
            "right": null,
            "justify_content": null,
            "_view_module": "@jupyter-widgets/base",
            "overflow": null,
            "_model_module_version": "1.2.0",
            "_view_count": null,
            "flex_flow": null,
            "width": null,
            "min_width": null,
            "border": null,
            "align_items": null,
            "bottom": null,
            "_model_module": "@jupyter-widgets/base",
            "top": null,
            "grid_column": null,
            "overflow_y": null,
            "overflow_x": null,
            "grid_auto_flow": null,
            "grid_area": null,
            "grid_template_columns": null,
            "flex": null,
            "_model_name": "LayoutModel",
            "justify_items": null,
            "grid_row": null,
            "max_height": null,
            "align_content": null,
            "visibility": null,
            "align_self": null,
            "height": null,
            "min_height": null,
            "padding": null,
            "grid_auto_rows": null,
            "grid_gap": null,
            "max_width": null,
            "order": null,
            "_view_module_version": "1.2.0",
            "grid_template_areas": null,
            "object_position": null,
            "object_fit": null,
            "grid_auto_columns": null,
            "margin": null,
            "display": null,
            "left": null
          }
        },
        "2a73107b67bb40ddbff7b0acca733fca": {
          "model_module": "@jupyter-widgets/controls",
          "model_name": "DescriptionStyleModel",
          "model_module_version": "1.5.0",
          "state": {
            "_view_name": "StyleView",
            "_model_name": "DescriptionStyleModel",
            "description_width": "",
            "_view_module": "@jupyter-widgets/base",
            "_model_module_version": "1.5.0",
            "_view_count": null,
            "_view_module_version": "1.2.0",
            "_model_module": "@jupyter-widgets/controls"
          }
        },
        "36d0b2a837e84911aa27601546610787": {
          "model_module": "@jupyter-widgets/base",
          "model_name": "LayoutModel",
          "model_module_version": "1.2.0",
          "state": {
            "_view_name": "LayoutView",
            "grid_template_rows": null,
            "right": null,
            "justify_content": null,
            "_view_module": "@jupyter-widgets/base",
            "overflow": null,
            "_model_module_version": "1.2.0",
            "_view_count": null,
            "flex_flow": null,
            "width": null,
            "min_width": null,
            "border": null,
            "align_items": null,
            "bottom": null,
            "_model_module": "@jupyter-widgets/base",
            "top": null,
            "grid_column": null,
            "overflow_y": null,
            "overflow_x": null,
            "grid_auto_flow": null,
            "grid_area": null,
            "grid_template_columns": null,
            "flex": null,
            "_model_name": "LayoutModel",
            "justify_items": null,
            "grid_row": null,
            "max_height": null,
            "align_content": null,
            "visibility": null,
            "align_self": null,
            "height": null,
            "min_height": null,
            "padding": null,
            "grid_auto_rows": null,
            "grid_gap": null,
            "max_width": null,
            "order": null,
            "_view_module_version": "1.2.0",
            "grid_template_areas": null,
            "object_position": null,
            "object_fit": null,
            "grid_auto_columns": null,
            "margin": null,
            "display": null,
            "left": null
          }
        },
        "44ace198d2764616a19804eb0748e27c": {
          "model_module": "@jupyter-widgets/controls",
          "model_name": "HBoxModel",
          "model_module_version": "1.5.0",
          "state": {
            "_view_name": "HBoxView",
            "_dom_classes": [],
            "_model_name": "HBoxModel",
            "_view_module": "@jupyter-widgets/controls",
            "_model_module_version": "1.5.0",
            "_view_count": null,
            "_view_module_version": "1.5.0",
            "box_style": "",
            "layout": "IPY_MODEL_255051fbb67c40059fca80b36c9701cf",
            "_model_module": "@jupyter-widgets/controls",
            "children": [
              "IPY_MODEL_a4ab4064a4b445eea28c2a88d9e4b2ff",
              "IPY_MODEL_408c9ef48a37407d9076e257f667d8b5",
              "IPY_MODEL_e2b5753348c745cdb042267b7a1754d6"
            ]
          }
        },
        "255051fbb67c40059fca80b36c9701cf": {
          "model_module": "@jupyter-widgets/base",
          "model_name": "LayoutModel",
          "model_module_version": "1.2.0",
          "state": {
            "_view_name": "LayoutView",
            "grid_template_rows": null,
            "right": null,
            "justify_content": null,
            "_view_module": "@jupyter-widgets/base",
            "overflow": null,
            "_model_module_version": "1.2.0",
            "_view_count": null,
            "flex_flow": null,
            "width": null,
            "min_width": null,
            "border": null,
            "align_items": null,
            "bottom": null,
            "_model_module": "@jupyter-widgets/base",
            "top": null,
            "grid_column": null,
            "overflow_y": null,
            "overflow_x": null,
            "grid_auto_flow": null,
            "grid_area": null,
            "grid_template_columns": null,
            "flex": null,
            "_model_name": "LayoutModel",
            "justify_items": null,
            "grid_row": null,
            "max_height": null,
            "align_content": null,
            "visibility": null,
            "align_self": null,
            "height": null,
            "min_height": null,
            "padding": null,
            "grid_auto_rows": null,
            "grid_gap": null,
            "max_width": null,
            "order": null,
            "_view_module_version": "1.2.0",
            "grid_template_areas": null,
            "object_position": null,
            "object_fit": null,
            "grid_auto_columns": null,
            "margin": null,
            "display": null,
            "left": null
          }
        },
        "a4ab4064a4b445eea28c2a88d9e4b2ff": {
          "model_module": "@jupyter-widgets/controls",
          "model_name": "HTMLModel",
          "model_module_version": "1.5.0",
          "state": {
            "_view_name": "HTMLView",
            "style": "IPY_MODEL_dd14b92e5f10411f84b7483f02190e92",
            "_dom_classes": [],
            "description": "",
            "_model_name": "HTMLModel",
            "placeholder": "​",
            "_view_module": "@jupyter-widgets/controls",
            "_model_module_version": "1.5.0",
            "value": "Downloading: 100%",
            "_view_count": null,
            "_view_module_version": "1.5.0",
            "description_tooltip": null,
            "_model_module": "@jupyter-widgets/controls",
            "layout": "IPY_MODEL_d07ae2aa6bd74b41a1f0dc5589572421"
          }
        },
        "408c9ef48a37407d9076e257f667d8b5": {
          "model_module": "@jupyter-widgets/controls",
          "model_name": "FloatProgressModel",
          "model_module_version": "1.5.0",
          "state": {
            "_view_name": "ProgressView",
            "style": "IPY_MODEL_95523a32482e43e198d93b3444a8d970",
            "_dom_classes": [],
            "description": "",
            "_model_name": "FloatProgressModel",
            "bar_style": "success",
            "max": 9037,
            "_view_module": "@jupyter-widgets/controls",
            "_model_module_version": "1.5.0",
            "value": 9037,
            "_view_count": null,
            "_view_module_version": "1.5.0",
            "orientation": "horizontal",
            "min": 0,
            "description_tooltip": null,
            "_model_module": "@jupyter-widgets/controls",
            "layout": "IPY_MODEL_29948ed8c8574fe9b720807f5699c5fc"
          }
        },
        "e2b5753348c745cdb042267b7a1754d6": {
          "model_module": "@jupyter-widgets/controls",
          "model_name": "HTMLModel",
          "model_module_version": "1.5.0",
          "state": {
            "_view_name": "HTMLView",
            "style": "IPY_MODEL_5d59eb418a894c4e9176af4f90680d64",
            "_dom_classes": [],
            "description": "",
            "_model_name": "HTMLModel",
            "placeholder": "​",
            "_view_module": "@jupyter-widgets/controls",
            "_model_module_version": "1.5.0",
            "value": " 9.04k/9.04k [00:00&lt;00:00, 261kB/s]",
            "_view_count": null,
            "_view_module_version": "1.5.0",
            "description_tooltip": null,
            "_model_module": "@jupyter-widgets/controls",
            "layout": "IPY_MODEL_9ee40d30aac0404cb15c5431379eb2c9"
          }
        },
        "dd14b92e5f10411f84b7483f02190e92": {
          "model_module": "@jupyter-widgets/controls",
          "model_name": "DescriptionStyleModel",
          "model_module_version": "1.5.0",
          "state": {
            "_view_name": "StyleView",
            "_model_name": "DescriptionStyleModel",
            "description_width": "",
            "_view_module": "@jupyter-widgets/base",
            "_model_module_version": "1.5.0",
            "_view_count": null,
            "_view_module_version": "1.2.0",
            "_model_module": "@jupyter-widgets/controls"
          }
        },
        "d07ae2aa6bd74b41a1f0dc5589572421": {
          "model_module": "@jupyter-widgets/base",
          "model_name": "LayoutModel",
          "model_module_version": "1.2.0",
          "state": {
            "_view_name": "LayoutView",
            "grid_template_rows": null,
            "right": null,
            "justify_content": null,
            "_view_module": "@jupyter-widgets/base",
            "overflow": null,
            "_model_module_version": "1.2.0",
            "_view_count": null,
            "flex_flow": null,
            "width": null,
            "min_width": null,
            "border": null,
            "align_items": null,
            "bottom": null,
            "_model_module": "@jupyter-widgets/base",
            "top": null,
            "grid_column": null,
            "overflow_y": null,
            "overflow_x": null,
            "grid_auto_flow": null,
            "grid_area": null,
            "grid_template_columns": null,
            "flex": null,
            "_model_name": "LayoutModel",
            "justify_items": null,
            "grid_row": null,
            "max_height": null,
            "align_content": null,
            "visibility": null,
            "align_self": null,
            "height": null,
            "min_height": null,
            "padding": null,
            "grid_auto_rows": null,
            "grid_gap": null,
            "max_width": null,
            "order": null,
            "_view_module_version": "1.2.0",
            "grid_template_areas": null,
            "object_position": null,
            "object_fit": null,
            "grid_auto_columns": null,
            "margin": null,
            "display": null,
            "left": null
          }
        },
        "95523a32482e43e198d93b3444a8d970": {
          "model_module": "@jupyter-widgets/controls",
          "model_name": "ProgressStyleModel",
          "model_module_version": "1.5.0",
          "state": {
            "_view_name": "StyleView",
            "_model_name": "ProgressStyleModel",
            "description_width": "",
            "_view_module": "@jupyter-widgets/base",
            "_model_module_version": "1.5.0",
            "_view_count": null,
            "_view_module_version": "1.2.0",
            "bar_color": null,
            "_model_module": "@jupyter-widgets/controls"
          }
        },
        "29948ed8c8574fe9b720807f5699c5fc": {
          "model_module": "@jupyter-widgets/base",
          "model_name": "LayoutModel",
          "model_module_version": "1.2.0",
          "state": {
            "_view_name": "LayoutView",
            "grid_template_rows": null,
            "right": null,
            "justify_content": null,
            "_view_module": "@jupyter-widgets/base",
            "overflow": null,
            "_model_module_version": "1.2.0",
            "_view_count": null,
            "flex_flow": null,
            "width": null,
            "min_width": null,
            "border": null,
            "align_items": null,
            "bottom": null,
            "_model_module": "@jupyter-widgets/base",
            "top": null,
            "grid_column": null,
            "overflow_y": null,
            "overflow_x": null,
            "grid_auto_flow": null,
            "grid_area": null,
            "grid_template_columns": null,
            "flex": null,
            "_model_name": "LayoutModel",
            "justify_items": null,
            "grid_row": null,
            "max_height": null,
            "align_content": null,
            "visibility": null,
            "align_self": null,
            "height": null,
            "min_height": null,
            "padding": null,
            "grid_auto_rows": null,
            "grid_gap": null,
            "max_width": null,
            "order": null,
            "_view_module_version": "1.2.0",
            "grid_template_areas": null,
            "object_position": null,
            "object_fit": null,
            "grid_auto_columns": null,
            "margin": null,
            "display": null,
            "left": null
          }
        },
        "5d59eb418a894c4e9176af4f90680d64": {
          "model_module": "@jupyter-widgets/controls",
          "model_name": "DescriptionStyleModel",
          "model_module_version": "1.5.0",
          "state": {
            "_view_name": "StyleView",
            "_model_name": "DescriptionStyleModel",
            "description_width": "",
            "_view_module": "@jupyter-widgets/base",
            "_model_module_version": "1.5.0",
            "_view_count": null,
            "_view_module_version": "1.2.0",
            "_model_module": "@jupyter-widgets/controls"
          }
        },
        "9ee40d30aac0404cb15c5431379eb2c9": {
          "model_module": "@jupyter-widgets/base",
          "model_name": "LayoutModel",
          "model_module_version": "1.2.0",
          "state": {
            "_view_name": "LayoutView",
            "grid_template_rows": null,
            "right": null,
            "justify_content": null,
            "_view_module": "@jupyter-widgets/base",
            "overflow": null,
            "_model_module_version": "1.2.0",
            "_view_count": null,
            "flex_flow": null,
            "width": null,
            "min_width": null,
            "border": null,
            "align_items": null,
            "bottom": null,
            "_model_module": "@jupyter-widgets/base",
            "top": null,
            "grid_column": null,
            "overflow_y": null,
            "overflow_x": null,
            "grid_auto_flow": null,
            "grid_area": null,
            "grid_template_columns": null,
            "flex": null,
            "_model_name": "LayoutModel",
            "justify_items": null,
            "grid_row": null,
            "max_height": null,
            "align_content": null,
            "visibility": null,
            "align_self": null,
            "height": null,
            "min_height": null,
            "padding": null,
            "grid_auto_rows": null,
            "grid_gap": null,
            "max_width": null,
            "order": null,
            "_view_module_version": "1.2.0",
            "grid_template_areas": null,
            "object_position": null,
            "object_fit": null,
            "grid_auto_columns": null,
            "margin": null,
            "display": null,
            "left": null
          }
        },
        "de079b81f6a945d9af523a1daccf2858": {
          "model_module": "@jupyter-widgets/controls",
          "model_name": "HBoxModel",
          "model_module_version": "1.5.0",
          "state": {
            "_view_name": "HBoxView",
            "_dom_classes": [],
            "_model_name": "HBoxModel",
            "_view_module": "@jupyter-widgets/controls",
            "_model_module_version": "1.5.0",
            "_view_count": null,
            "_view_module_version": "1.5.0",
            "box_style": "",
            "layout": "IPY_MODEL_d1fc91db4dfb4be9aa1494ad0f9e82b7",
            "_model_module": "@jupyter-widgets/controls",
            "children": [
              "IPY_MODEL_269b0d2cec3b44799f8d67e84be84e41",
              "IPY_MODEL_a3c19ee1675144c98c957fffdbe917f8",
              "IPY_MODEL_33248264d1e745d598a82b176aeadaad"
            ]
          }
        },
        "d1fc91db4dfb4be9aa1494ad0f9e82b7": {
          "model_module": "@jupyter-widgets/base",
          "model_name": "LayoutModel",
          "model_module_version": "1.2.0",
          "state": {
            "_view_name": "LayoutView",
            "grid_template_rows": null,
            "right": null,
            "justify_content": null,
            "_view_module": "@jupyter-widgets/base",
            "overflow": null,
            "_model_module_version": "1.2.0",
            "_view_count": null,
            "flex_flow": null,
            "width": null,
            "min_width": null,
            "border": null,
            "align_items": null,
            "bottom": null,
            "_model_module": "@jupyter-widgets/base",
            "top": null,
            "grid_column": null,
            "overflow_y": null,
            "overflow_x": null,
            "grid_auto_flow": null,
            "grid_area": null,
            "grid_template_columns": null,
            "flex": null,
            "_model_name": "LayoutModel",
            "justify_items": null,
            "grid_row": null,
            "max_height": null,
            "align_content": null,
            "visibility": null,
            "align_self": null,
            "height": null,
            "min_height": null,
            "padding": null,
            "grid_auto_rows": null,
            "grid_gap": null,
            "max_width": null,
            "order": null,
            "_view_module_version": "1.2.0",
            "grid_template_areas": null,
            "object_position": null,
            "object_fit": null,
            "grid_auto_columns": null,
            "margin": null,
            "display": null,
            "left": null
          }
        },
        "269b0d2cec3b44799f8d67e84be84e41": {
          "model_module": "@jupyter-widgets/controls",
          "model_name": "HTMLModel",
          "model_module_version": "1.5.0",
          "state": {
            "_view_name": "HTMLView",
            "style": "IPY_MODEL_54e10072e4554695ba900af7614ac9e6",
            "_dom_classes": [],
            "description": "",
            "_model_name": "HTMLModel",
            "placeholder": "​",
            "_view_module": "@jupyter-widgets/controls",
            "_model_module_version": "1.5.0",
            "value": "Downloading: 100%",
            "_view_count": null,
            "_view_module_version": "1.5.0",
            "description_tooltip": null,
            "_model_module": "@jupyter-widgets/controls",
            "layout": "IPY_MODEL_61e18700928e4826b6bb47da88518b0c"
          }
        },
        "a3c19ee1675144c98c957fffdbe917f8": {
          "model_module": "@jupyter-widgets/controls",
          "model_name": "FloatProgressModel",
          "model_module_version": "1.5.0",
          "state": {
            "_view_name": "ProgressView",
            "style": "IPY_MODEL_001bc6b1ef854dd68f4316b8ee22b78b",
            "_dom_classes": [],
            "description": "",
            "_model_name": "FloatProgressModel",
            "bar_style": "success",
            "max": 411,
            "_view_module": "@jupyter-widgets/controls",
            "_model_module_version": "1.5.0",
            "value": 411,
            "_view_count": null,
            "_view_module_version": "1.5.0",
            "orientation": "horizontal",
            "min": 0,
            "description_tooltip": null,
            "_model_module": "@jupyter-widgets/controls",
            "layout": "IPY_MODEL_bfdd328350b5429eab747cf31cba2fb4"
          }
        },
        "33248264d1e745d598a82b176aeadaad": {
          "model_module": "@jupyter-widgets/controls",
          "model_name": "HTMLModel",
          "model_module_version": "1.5.0",
          "state": {
            "_view_name": "HTMLView",
            "style": "IPY_MODEL_de35f55435fc42b48237bd9e5bdfa8dc",
            "_dom_classes": [],
            "description": "",
            "_model_name": "HTMLModel",
            "placeholder": "​",
            "_view_module": "@jupyter-widgets/controls",
            "_model_module_version": "1.5.0",
            "value": " 411/411 [00:00&lt;00:00, 10.8kB/s]",
            "_view_count": null,
            "_view_module_version": "1.5.0",
            "description_tooltip": null,
            "_model_module": "@jupyter-widgets/controls",
            "layout": "IPY_MODEL_89e1640dec8e49bca2f89161de41ed32"
          }
        },
        "54e10072e4554695ba900af7614ac9e6": {
          "model_module": "@jupyter-widgets/controls",
          "model_name": "DescriptionStyleModel",
          "model_module_version": "1.5.0",
          "state": {
            "_view_name": "StyleView",
            "_model_name": "DescriptionStyleModel",
            "description_width": "",
            "_view_module": "@jupyter-widgets/base",
            "_model_module_version": "1.5.0",
            "_view_count": null,
            "_view_module_version": "1.2.0",
            "_model_module": "@jupyter-widgets/controls"
          }
        },
        "61e18700928e4826b6bb47da88518b0c": {
          "model_module": "@jupyter-widgets/base",
          "model_name": "LayoutModel",
          "model_module_version": "1.2.0",
          "state": {
            "_view_name": "LayoutView",
            "grid_template_rows": null,
            "right": null,
            "justify_content": null,
            "_view_module": "@jupyter-widgets/base",
            "overflow": null,
            "_model_module_version": "1.2.0",
            "_view_count": null,
            "flex_flow": null,
            "width": null,
            "min_width": null,
            "border": null,
            "align_items": null,
            "bottom": null,
            "_model_module": "@jupyter-widgets/base",
            "top": null,
            "grid_column": null,
            "overflow_y": null,
            "overflow_x": null,
            "grid_auto_flow": null,
            "grid_area": null,
            "grid_template_columns": null,
            "flex": null,
            "_model_name": "LayoutModel",
            "justify_items": null,
            "grid_row": null,
            "max_height": null,
            "align_content": null,
            "visibility": null,
            "align_self": null,
            "height": null,
            "min_height": null,
            "padding": null,
            "grid_auto_rows": null,
            "grid_gap": null,
            "max_width": null,
            "order": null,
            "_view_module_version": "1.2.0",
            "grid_template_areas": null,
            "object_position": null,
            "object_fit": null,
            "grid_auto_columns": null,
            "margin": null,
            "display": null,
            "left": null
          }
        },
        "001bc6b1ef854dd68f4316b8ee22b78b": {
          "model_module": "@jupyter-widgets/controls",
          "model_name": "ProgressStyleModel",
          "model_module_version": "1.5.0",
          "state": {
            "_view_name": "StyleView",
            "_model_name": "ProgressStyleModel",
            "description_width": "",
            "_view_module": "@jupyter-widgets/base",
            "_model_module_version": "1.5.0",
            "_view_count": null,
            "_view_module_version": "1.2.0",
            "bar_color": null,
            "_model_module": "@jupyter-widgets/controls"
          }
        },
        "bfdd328350b5429eab747cf31cba2fb4": {
          "model_module": "@jupyter-widgets/base",
          "model_name": "LayoutModel",
          "model_module_version": "1.2.0",
          "state": {
            "_view_name": "LayoutView",
            "grid_template_rows": null,
            "right": null,
            "justify_content": null,
            "_view_module": "@jupyter-widgets/base",
            "overflow": null,
            "_model_module_version": "1.2.0",
            "_view_count": null,
            "flex_flow": null,
            "width": null,
            "min_width": null,
            "border": null,
            "align_items": null,
            "bottom": null,
            "_model_module": "@jupyter-widgets/base",
            "top": null,
            "grid_column": null,
            "overflow_y": null,
            "overflow_x": null,
            "grid_auto_flow": null,
            "grid_area": null,
            "grid_template_columns": null,
            "flex": null,
            "_model_name": "LayoutModel",
            "justify_items": null,
            "grid_row": null,
            "max_height": null,
            "align_content": null,
            "visibility": null,
            "align_self": null,
            "height": null,
            "min_height": null,
            "padding": null,
            "grid_auto_rows": null,
            "grid_gap": null,
            "max_width": null,
            "order": null,
            "_view_module_version": "1.2.0",
            "grid_template_areas": null,
            "object_position": null,
            "object_fit": null,
            "grid_auto_columns": null,
            "margin": null,
            "display": null,
            "left": null
          }
        },
        "de35f55435fc42b48237bd9e5bdfa8dc": {
          "model_module": "@jupyter-widgets/controls",
          "model_name": "DescriptionStyleModel",
          "model_module_version": "1.5.0",
          "state": {
            "_view_name": "StyleView",
            "_model_name": "DescriptionStyleModel",
            "description_width": "",
            "_view_module": "@jupyter-widgets/base",
            "_model_module_version": "1.5.0",
            "_view_count": null,
            "_view_module_version": "1.2.0",
            "_model_module": "@jupyter-widgets/controls"
          }
        },
        "89e1640dec8e49bca2f89161de41ed32": {
          "model_module": "@jupyter-widgets/base",
          "model_name": "LayoutModel",
          "model_module_version": "1.2.0",
          "state": {
            "_view_name": "LayoutView",
            "grid_template_rows": null,
            "right": null,
            "justify_content": null,
            "_view_module": "@jupyter-widgets/base",
            "overflow": null,
            "_model_module_version": "1.2.0",
            "_view_count": null,
            "flex_flow": null,
            "width": null,
            "min_width": null,
            "border": null,
            "align_items": null,
            "bottom": null,
            "_model_module": "@jupyter-widgets/base",
            "top": null,
            "grid_column": null,
            "overflow_y": null,
            "overflow_x": null,
            "grid_auto_flow": null,
            "grid_area": null,
            "grid_template_columns": null,
            "flex": null,
            "_model_name": "LayoutModel",
            "justify_items": null,
            "grid_row": null,
            "max_height": null,
            "align_content": null,
            "visibility": null,
            "align_self": null,
            "height": null,
            "min_height": null,
            "padding": null,
            "grid_auto_rows": null,
            "grid_gap": null,
            "max_width": null,
            "order": null,
            "_view_module_version": "1.2.0",
            "grid_template_areas": null,
            "object_position": null,
            "object_fit": null,
            "grid_auto_columns": null,
            "margin": null,
            "display": null,
            "left": null
          }
        },
        "d79c70c79e9d4fbf940de11b417bcad9": {
          "model_module": "@jupyter-widgets/controls",
          "model_name": "HBoxModel",
          "model_module_version": "1.5.0",
          "state": {
            "_view_name": "HBoxView",
            "_dom_classes": [],
            "_model_name": "HBoxModel",
            "_view_module": "@jupyter-widgets/controls",
            "_model_module_version": "1.5.0",
            "_view_count": null,
            "_view_module_version": "1.5.0",
            "box_style": "",
            "layout": "IPY_MODEL_9eb454593a6546c5a95697849e2d52a0",
            "_model_module": "@jupyter-widgets/controls",
            "children": [
              "IPY_MODEL_a3ec4af28c1844858a89a2145e2b47d8",
              "IPY_MODEL_35be9eb480a0458fbbbe6111b27dc621",
              "IPY_MODEL_0037c6017eeb4edc9729255cf2f9e382"
            ]
          }
        },
        "9eb454593a6546c5a95697849e2d52a0": {
          "model_module": "@jupyter-widgets/base",
          "model_name": "LayoutModel",
          "model_module_version": "1.2.0",
          "state": {
            "_view_name": "LayoutView",
            "grid_template_rows": null,
            "right": null,
            "justify_content": null,
            "_view_module": "@jupyter-widgets/base",
            "overflow": null,
            "_model_module_version": "1.2.0",
            "_view_count": null,
            "flex_flow": null,
            "width": null,
            "min_width": null,
            "border": null,
            "align_items": null,
            "bottom": null,
            "_model_module": "@jupyter-widgets/base",
            "top": null,
            "grid_column": null,
            "overflow_y": null,
            "overflow_x": null,
            "grid_auto_flow": null,
            "grid_area": null,
            "grid_template_columns": null,
            "flex": null,
            "_model_name": "LayoutModel",
            "justify_items": null,
            "grid_row": null,
            "max_height": null,
            "align_content": null,
            "visibility": null,
            "align_self": null,
            "height": null,
            "min_height": null,
            "padding": null,
            "grid_auto_rows": null,
            "grid_gap": null,
            "max_width": null,
            "order": null,
            "_view_module_version": "1.2.0",
            "grid_template_areas": null,
            "object_position": null,
            "object_fit": null,
            "grid_auto_columns": null,
            "margin": null,
            "display": null,
            "left": null
          }
        },
        "a3ec4af28c1844858a89a2145e2b47d8": {
          "model_module": "@jupyter-widgets/controls",
          "model_name": "HTMLModel",
          "model_module_version": "1.5.0",
          "state": {
            "_view_name": "HTMLView",
            "style": "IPY_MODEL_958c18b2dae842fd933ea465a1cb52a4",
            "_dom_classes": [],
            "description": "",
            "_model_name": "HTMLModel",
            "placeholder": "​",
            "_view_module": "@jupyter-widgets/controls",
            "_model_module_version": "1.5.0",
            "value": "Downloading: 100%",
            "_view_count": null,
            "_view_module_version": "1.5.0",
            "description_tooltip": null,
            "_model_module": "@jupyter-widgets/controls",
            "layout": "IPY_MODEL_7f5a937ce7c04dde917c8fd1f4f6b083"
          }
        },
        "35be9eb480a0458fbbbe6111b27dc621": {
          "model_module": "@jupyter-widgets/controls",
          "model_name": "FloatProgressModel",
          "model_module_version": "1.5.0",
          "state": {
            "_view_name": "ProgressView",
            "style": "IPY_MODEL_b1d42832eb8c4706a8b92a62357bb62b",
            "_dom_classes": [],
            "description": "",
            "_model_name": "FloatProgressModel",
            "bar_style": "success",
            "max": 953477430,
            "_view_module": "@jupyter-widgets/controls",
            "_model_module_version": "1.5.0",
            "value": 953477430,
            "_view_count": null,
            "_view_module_version": "1.5.0",
            "orientation": "horizontal",
            "min": 0,
            "description_tooltip": null,
            "_model_module": "@jupyter-widgets/controls",
            "layout": "IPY_MODEL_6ae3358b6fea41a19112f4cccc8f71d6"
          }
        },
        "0037c6017eeb4edc9729255cf2f9e382": {
          "model_module": "@jupyter-widgets/controls",
          "model_name": "HTMLModel",
          "model_module_version": "1.5.0",
          "state": {
            "_view_name": "HTMLView",
            "style": "IPY_MODEL_b644f82d41f74762ab6420c52e247b80",
            "_dom_classes": [],
            "description": "",
            "_model_name": "HTMLModel",
            "placeholder": "​",
            "_view_module": "@jupyter-widgets/controls",
            "_model_module_version": "1.5.0",
            "value": " 953M/953M [00:23&lt;00:00, 43.0MB/s]",
            "_view_count": null,
            "_view_module_version": "1.5.0",
            "description_tooltip": null,
            "_model_module": "@jupyter-widgets/controls",
            "layout": "IPY_MODEL_40fb40eb1acf49b4b14d4a1eafc0d0ba"
          }
        },
        "958c18b2dae842fd933ea465a1cb52a4": {
          "model_module": "@jupyter-widgets/controls",
          "model_name": "DescriptionStyleModel",
          "model_module_version": "1.5.0",
          "state": {
            "_view_name": "StyleView",
            "_model_name": "DescriptionStyleModel",
            "description_width": "",
            "_view_module": "@jupyter-widgets/base",
            "_model_module_version": "1.5.0",
            "_view_count": null,
            "_view_module_version": "1.2.0",
            "_model_module": "@jupyter-widgets/controls"
          }
        },
        "7f5a937ce7c04dde917c8fd1f4f6b083": {
          "model_module": "@jupyter-widgets/base",
          "model_name": "LayoutModel",
          "model_module_version": "1.2.0",
          "state": {
            "_view_name": "LayoutView",
            "grid_template_rows": null,
            "right": null,
            "justify_content": null,
            "_view_module": "@jupyter-widgets/base",
            "overflow": null,
            "_model_module_version": "1.2.0",
            "_view_count": null,
            "flex_flow": null,
            "width": null,
            "min_width": null,
            "border": null,
            "align_items": null,
            "bottom": null,
            "_model_module": "@jupyter-widgets/base",
            "top": null,
            "grid_column": null,
            "overflow_y": null,
            "overflow_x": null,
            "grid_auto_flow": null,
            "grid_area": null,
            "grid_template_columns": null,
            "flex": null,
            "_model_name": "LayoutModel",
            "justify_items": null,
            "grid_row": null,
            "max_height": null,
            "align_content": null,
            "visibility": null,
            "align_self": null,
            "height": null,
            "min_height": null,
            "padding": null,
            "grid_auto_rows": null,
            "grid_gap": null,
            "max_width": null,
            "order": null,
            "_view_module_version": "1.2.0",
            "grid_template_areas": null,
            "object_position": null,
            "object_fit": null,
            "grid_auto_columns": null,
            "margin": null,
            "display": null,
            "left": null
          }
        },
        "b1d42832eb8c4706a8b92a62357bb62b": {
          "model_module": "@jupyter-widgets/controls",
          "model_name": "ProgressStyleModel",
          "model_module_version": "1.5.0",
          "state": {
            "_view_name": "StyleView",
            "_model_name": "ProgressStyleModel",
            "description_width": "",
            "_view_module": "@jupyter-widgets/base",
            "_model_module_version": "1.5.0",
            "_view_count": null,
            "_view_module_version": "1.2.0",
            "bar_color": null,
            "_model_module": "@jupyter-widgets/controls"
          }
        },
        "6ae3358b6fea41a19112f4cccc8f71d6": {
          "model_module": "@jupyter-widgets/base",
          "model_name": "LayoutModel",
          "model_module_version": "1.2.0",
          "state": {
            "_view_name": "LayoutView",
            "grid_template_rows": null,
            "right": null,
            "justify_content": null,
            "_view_module": "@jupyter-widgets/base",
            "overflow": null,
            "_model_module_version": "1.2.0",
            "_view_count": null,
            "flex_flow": null,
            "width": null,
            "min_width": null,
            "border": null,
            "align_items": null,
            "bottom": null,
            "_model_module": "@jupyter-widgets/base",
            "top": null,
            "grid_column": null,
            "overflow_y": null,
            "overflow_x": null,
            "grid_auto_flow": null,
            "grid_area": null,
            "grid_template_columns": null,
            "flex": null,
            "_model_name": "LayoutModel",
            "justify_items": null,
            "grid_row": null,
            "max_height": null,
            "align_content": null,
            "visibility": null,
            "align_self": null,
            "height": null,
            "min_height": null,
            "padding": null,
            "grid_auto_rows": null,
            "grid_gap": null,
            "max_width": null,
            "order": null,
            "_view_module_version": "1.2.0",
            "grid_template_areas": null,
            "object_position": null,
            "object_fit": null,
            "grid_auto_columns": null,
            "margin": null,
            "display": null,
            "left": null
          }
        },
        "b644f82d41f74762ab6420c52e247b80": {
          "model_module": "@jupyter-widgets/controls",
          "model_name": "DescriptionStyleModel",
          "model_module_version": "1.5.0",
          "state": {
            "_view_name": "StyleView",
            "_model_name": "DescriptionStyleModel",
            "description_width": "",
            "_view_module": "@jupyter-widgets/base",
            "_model_module_version": "1.5.0",
            "_view_count": null,
            "_view_module_version": "1.2.0",
            "_model_module": "@jupyter-widgets/controls"
          }
        },
        "40fb40eb1acf49b4b14d4a1eafc0d0ba": {
          "model_module": "@jupyter-widgets/base",
          "model_name": "LayoutModel",
          "model_module_version": "1.2.0",
          "state": {
            "_view_name": "LayoutView",
            "grid_template_rows": null,
            "right": null,
            "justify_content": null,
            "_view_module": "@jupyter-widgets/base",
            "overflow": null,
            "_model_module_version": "1.2.0",
            "_view_count": null,
            "flex_flow": null,
            "width": null,
            "min_width": null,
            "border": null,
            "align_items": null,
            "bottom": null,
            "_model_module": "@jupyter-widgets/base",
            "top": null,
            "grid_column": null,
            "overflow_y": null,
            "overflow_x": null,
            "grid_auto_flow": null,
            "grid_area": null,
            "grid_template_columns": null,
            "flex": null,
            "_model_name": "LayoutModel",
            "justify_items": null,
            "grid_row": null,
            "max_height": null,
            "align_content": null,
            "visibility": null,
            "align_self": null,
            "height": null,
            "min_height": null,
            "padding": null,
            "grid_auto_rows": null,
            "grid_gap": null,
            "max_width": null,
            "order": null,
            "_view_module_version": "1.2.0",
            "grid_template_areas": null,
            "object_position": null,
            "object_fit": null,
            "grid_auto_columns": null,
            "margin": null,
            "display": null,
            "left": null
          }
        },
        "8fb2ae001f1f43c2983fc4be355086b4": {
          "model_module": "@jupyter-widgets/controls",
          "model_name": "HBoxModel",
          "model_module_version": "1.5.0",
          "state": {
            "_view_name": "HBoxView",
            "_dom_classes": [],
            "_model_name": "HBoxModel",
            "_view_module": "@jupyter-widgets/controls",
            "_model_module_version": "1.5.0",
            "_view_count": null,
            "_view_module_version": "1.5.0",
            "box_style": "",
            "layout": "IPY_MODEL_54f40b1ae4b34b149d1f86da759f0e54",
            "_model_module": "@jupyter-widgets/controls",
            "children": [
              "IPY_MODEL_5b25eb5cd10b4a9b9b7e71334331cb24",
              "IPY_MODEL_339a6e17309848ef88d6ca62538165d5",
              "IPY_MODEL_c8437df083444482b11ed51a826016fe"
            ]
          }
        },
        "54f40b1ae4b34b149d1f86da759f0e54": {
          "model_module": "@jupyter-widgets/base",
          "model_name": "LayoutModel",
          "model_module_version": "1.2.0",
          "state": {
            "_view_name": "LayoutView",
            "grid_template_rows": null,
            "right": null,
            "justify_content": null,
            "_view_module": "@jupyter-widgets/base",
            "overflow": null,
            "_model_module_version": "1.2.0",
            "_view_count": null,
            "flex_flow": null,
            "width": null,
            "min_width": null,
            "border": null,
            "align_items": null,
            "bottom": null,
            "_model_module": "@jupyter-widgets/base",
            "top": null,
            "grid_column": null,
            "overflow_y": null,
            "overflow_x": null,
            "grid_auto_flow": null,
            "grid_area": null,
            "grid_template_columns": null,
            "flex": null,
            "_model_name": "LayoutModel",
            "justify_items": null,
            "grid_row": null,
            "max_height": null,
            "align_content": null,
            "visibility": null,
            "align_self": null,
            "height": null,
            "min_height": null,
            "padding": null,
            "grid_auto_rows": null,
            "grid_gap": null,
            "max_width": null,
            "order": null,
            "_view_module_version": "1.2.0",
            "grid_template_areas": null,
            "object_position": null,
            "object_fit": null,
            "grid_auto_columns": null,
            "margin": null,
            "display": null,
            "left": null
          }
        },
        "5b25eb5cd10b4a9b9b7e71334331cb24": {
          "model_module": "@jupyter-widgets/controls",
          "model_name": "HTMLModel",
          "model_module_version": "1.5.0",
          "state": {
            "_view_name": "HTMLView",
            "style": "IPY_MODEL_19c2fc1fa38846e5ba20ab56e00ef509",
            "_dom_classes": [],
            "description": "",
            "_model_name": "HTMLModel",
            "placeholder": "​",
            "_view_module": "@jupyter-widgets/controls",
            "_model_module_version": "1.5.0",
            "value": "Downloading: 100%",
            "_view_count": null,
            "_view_module_version": "1.5.0",
            "description_tooltip": null,
            "_model_module": "@jupyter-widgets/controls",
            "layout": "IPY_MODEL_860e8c78d3874b68a797b16831cce292"
          }
        },
        "339a6e17309848ef88d6ca62538165d5": {
          "model_module": "@jupyter-widgets/controls",
          "model_name": "FloatProgressModel",
          "model_module_version": "1.5.0",
          "state": {
            "_view_name": "ProgressView",
            "style": "IPY_MODEL_5ae9619bf5bd4c249a86297cad804836",
            "_dom_classes": [],
            "description": "",
            "_model_name": "FloatProgressModel",
            "bar_style": "success",
            "max": 113,
            "_view_module": "@jupyter-widgets/controls",
            "_model_module_version": "1.5.0",
            "value": 113,
            "_view_count": null,
            "_view_module_version": "1.5.0",
            "orientation": "horizontal",
            "min": 0,
            "description_tooltip": null,
            "_model_module": "@jupyter-widgets/controls",
            "layout": "IPY_MODEL_2db225df5dea4e43abbf1edacaacc48c"
          }
        },
        "c8437df083444482b11ed51a826016fe": {
          "model_module": "@jupyter-widgets/controls",
          "model_name": "HTMLModel",
          "model_module_version": "1.5.0",
          "state": {
            "_view_name": "HTMLView",
            "style": "IPY_MODEL_4650fdba65ea4e71b30b3a2faf5113bb",
            "_dom_classes": [],
            "description": "",
            "_model_name": "HTMLModel",
            "placeholder": "​",
            "_view_module": "@jupyter-widgets/controls",
            "_model_module_version": "1.5.0",
            "value": " 113/113 [00:00&lt;00:00, 3.53kB/s]",
            "_view_count": null,
            "_view_module_version": "1.5.0",
            "description_tooltip": null,
            "_model_module": "@jupyter-widgets/controls",
            "layout": "IPY_MODEL_7c5760ff261c4a28ac77f2fef0237ab6"
          }
        },
        "19c2fc1fa38846e5ba20ab56e00ef509": {
          "model_module": "@jupyter-widgets/controls",
          "model_name": "DescriptionStyleModel",
          "model_module_version": "1.5.0",
          "state": {
            "_view_name": "StyleView",
            "_model_name": "DescriptionStyleModel",
            "description_width": "",
            "_view_module": "@jupyter-widgets/base",
            "_model_module_version": "1.5.0",
            "_view_count": null,
            "_view_module_version": "1.2.0",
            "_model_module": "@jupyter-widgets/controls"
          }
        },
        "860e8c78d3874b68a797b16831cce292": {
          "model_module": "@jupyter-widgets/base",
          "model_name": "LayoutModel",
          "model_module_version": "1.2.0",
          "state": {
            "_view_name": "LayoutView",
            "grid_template_rows": null,
            "right": null,
            "justify_content": null,
            "_view_module": "@jupyter-widgets/base",
            "overflow": null,
            "_model_module_version": "1.2.0",
            "_view_count": null,
            "flex_flow": null,
            "width": null,
            "min_width": null,
            "border": null,
            "align_items": null,
            "bottom": null,
            "_model_module": "@jupyter-widgets/base",
            "top": null,
            "grid_column": null,
            "overflow_y": null,
            "overflow_x": null,
            "grid_auto_flow": null,
            "grid_area": null,
            "grid_template_columns": null,
            "flex": null,
            "_model_name": "LayoutModel",
            "justify_items": null,
            "grid_row": null,
            "max_height": null,
            "align_content": null,
            "visibility": null,
            "align_self": null,
            "height": null,
            "min_height": null,
            "padding": null,
            "grid_auto_rows": null,
            "grid_gap": null,
            "max_width": null,
            "order": null,
            "_view_module_version": "1.2.0",
            "grid_template_areas": null,
            "object_position": null,
            "object_fit": null,
            "grid_auto_columns": null,
            "margin": null,
            "display": null,
            "left": null
          }
        },
        "5ae9619bf5bd4c249a86297cad804836": {
          "model_module": "@jupyter-widgets/controls",
          "model_name": "ProgressStyleModel",
          "model_module_version": "1.5.0",
          "state": {
            "_view_name": "StyleView",
            "_model_name": "ProgressStyleModel",
            "description_width": "",
            "_view_module": "@jupyter-widgets/base",
            "_model_module_version": "1.5.0",
            "_view_count": null,
            "_view_module_version": "1.2.0",
            "bar_color": null,
            "_model_module": "@jupyter-widgets/controls"
          }
        },
        "2db225df5dea4e43abbf1edacaacc48c": {
          "model_module": "@jupyter-widgets/base",
          "model_name": "LayoutModel",
          "model_module_version": "1.2.0",
          "state": {
            "_view_name": "LayoutView",
            "grid_template_rows": null,
            "right": null,
            "justify_content": null,
            "_view_module": "@jupyter-widgets/base",
            "overflow": null,
            "_model_module_version": "1.2.0",
            "_view_count": null,
            "flex_flow": null,
            "width": null,
            "min_width": null,
            "border": null,
            "align_items": null,
            "bottom": null,
            "_model_module": "@jupyter-widgets/base",
            "top": null,
            "grid_column": null,
            "overflow_y": null,
            "overflow_x": null,
            "grid_auto_flow": null,
            "grid_area": null,
            "grid_template_columns": null,
            "flex": null,
            "_model_name": "LayoutModel",
            "justify_items": null,
            "grid_row": null,
            "max_height": null,
            "align_content": null,
            "visibility": null,
            "align_self": null,
            "height": null,
            "min_height": null,
            "padding": null,
            "grid_auto_rows": null,
            "grid_gap": null,
            "max_width": null,
            "order": null,
            "_view_module_version": "1.2.0",
            "grid_template_areas": null,
            "object_position": null,
            "object_fit": null,
            "grid_auto_columns": null,
            "margin": null,
            "display": null,
            "left": null
          }
        },
        "4650fdba65ea4e71b30b3a2faf5113bb": {
          "model_module": "@jupyter-widgets/controls",
          "model_name": "DescriptionStyleModel",
          "model_module_version": "1.5.0",
          "state": {
            "_view_name": "StyleView",
            "_model_name": "DescriptionStyleModel",
            "description_width": "",
            "_view_module": "@jupyter-widgets/base",
            "_model_module_version": "1.5.0",
            "_view_count": null,
            "_view_module_version": "1.2.0",
            "_model_module": "@jupyter-widgets/controls"
          }
        },
        "7c5760ff261c4a28ac77f2fef0237ab6": {
          "model_module": "@jupyter-widgets/base",
          "model_name": "LayoutModel",
          "model_module_version": "1.2.0",
          "state": {
            "_view_name": "LayoutView",
            "grid_template_rows": null,
            "right": null,
            "justify_content": null,
            "_view_module": "@jupyter-widgets/base",
            "overflow": null,
            "_model_module_version": "1.2.0",
            "_view_count": null,
            "flex_flow": null,
            "width": null,
            "min_width": null,
            "border": null,
            "align_items": null,
            "bottom": null,
            "_model_module": "@jupyter-widgets/base",
            "top": null,
            "grid_column": null,
            "overflow_y": null,
            "overflow_x": null,
            "grid_auto_flow": null,
            "grid_area": null,
            "grid_template_columns": null,
            "flex": null,
            "_model_name": "LayoutModel",
            "justify_items": null,
            "grid_row": null,
            "max_height": null,
            "align_content": null,
            "visibility": null,
            "align_self": null,
            "height": null,
            "min_height": null,
            "padding": null,
            "grid_auto_rows": null,
            "grid_gap": null,
            "max_width": null,
            "order": null,
            "_view_module_version": "1.2.0",
            "grid_template_areas": null,
            "object_position": null,
            "object_fit": null,
            "grid_auto_columns": null,
            "margin": null,
            "display": null,
            "left": null
          }
        },
        "abc2d014798c476f8203e81a1f4b9acc": {
          "model_module": "@jupyter-widgets/controls",
          "model_name": "HBoxModel",
          "model_module_version": "1.5.0",
          "state": {
            "_view_name": "HBoxView",
            "_dom_classes": [],
            "_model_name": "HBoxModel",
            "_view_module": "@jupyter-widgets/controls",
            "_model_module_version": "1.5.0",
            "_view_count": null,
            "_view_module_version": "1.5.0",
            "box_style": "",
            "layout": "IPY_MODEL_fc622f11b3884c45880fdc363a929277",
            "_model_module": "@jupyter-widgets/controls",
            "children": [
              "IPY_MODEL_2a686e6439ab451fa90c57aeb2d06b18",
              "IPY_MODEL_a71a541d624342438ed1464440af30b3",
              "IPY_MODEL_4882713499a34555a5434082b54c70e4"
            ]
          }
        },
        "fc622f11b3884c45880fdc363a929277": {
          "model_module": "@jupyter-widgets/base",
          "model_name": "LayoutModel",
          "model_module_version": "1.2.0",
          "state": {
            "_view_name": "LayoutView",
            "grid_template_rows": null,
            "right": null,
            "justify_content": null,
            "_view_module": "@jupyter-widgets/base",
            "overflow": null,
            "_model_module_version": "1.2.0",
            "_view_count": null,
            "flex_flow": null,
            "width": null,
            "min_width": null,
            "border": null,
            "align_items": null,
            "bottom": null,
            "_model_module": "@jupyter-widgets/base",
            "top": null,
            "grid_column": null,
            "overflow_y": null,
            "overflow_x": null,
            "grid_auto_flow": null,
            "grid_area": null,
            "grid_template_columns": null,
            "flex": null,
            "_model_name": "LayoutModel",
            "justify_items": null,
            "grid_row": null,
            "max_height": null,
            "align_content": null,
            "visibility": null,
            "align_self": null,
            "height": null,
            "min_height": null,
            "padding": null,
            "grid_auto_rows": null,
            "grid_gap": null,
            "max_width": null,
            "order": null,
            "_view_module_version": "1.2.0",
            "grid_template_areas": null,
            "object_position": null,
            "object_fit": null,
            "grid_auto_columns": null,
            "margin": null,
            "display": null,
            "left": null
          }
        },
        "2a686e6439ab451fa90c57aeb2d06b18": {
          "model_module": "@jupyter-widgets/controls",
          "model_name": "HTMLModel",
          "model_module_version": "1.5.0",
          "state": {
            "_view_name": "HTMLView",
            "style": "IPY_MODEL_96909596c7f24303b2f88747f38f6b2d",
            "_dom_classes": [],
            "description": "",
            "_model_name": "HTMLModel",
            "placeholder": "​",
            "_view_module": "@jupyter-widgets/controls",
            "_model_module_version": "1.5.0",
            "value": "Downloading: 100%",
            "_view_count": null,
            "_view_module_version": "1.5.0",
            "description_tooltip": null,
            "_model_module": "@jupyter-widgets/controls",
            "layout": "IPY_MODEL_81f0e91022714db4940a4dea19594dfb"
          }
        },
        "a71a541d624342438ed1464440af30b3": {
          "model_module": "@jupyter-widgets/controls",
          "model_name": "FloatProgressModel",
          "model_module_version": "1.5.0",
          "state": {
            "_view_name": "ProgressView",
            "style": "IPY_MODEL_eafad857974346488790ec073a7a97ee",
            "_dom_classes": [],
            "description": "",
            "_model_name": "FloatProgressModel",
            "bar_style": "success",
            "max": 181,
            "_view_module": "@jupyter-widgets/controls",
            "_model_module_version": "1.5.0",
            "value": 181,
            "_view_count": null,
            "_view_module_version": "1.5.0",
            "orientation": "horizontal",
            "min": 0,
            "description_tooltip": null,
            "_model_module": "@jupyter-widgets/controls",
            "layout": "IPY_MODEL_fc6d8cd0b3bf447582a04ac72a831434"
          }
        },
        "4882713499a34555a5434082b54c70e4": {
          "model_module": "@jupyter-widgets/controls",
          "model_name": "HTMLModel",
          "model_module_version": "1.5.0",
          "state": {
            "_view_name": "HTMLView",
            "style": "IPY_MODEL_77d88896f03b414fbeac47038f378fa4",
            "_dom_classes": [],
            "description": "",
            "_model_name": "HTMLModel",
            "placeholder": "​",
            "_view_module": "@jupyter-widgets/controls",
            "_model_module_version": "1.5.0",
            "value": " 181/181 [00:00&lt;00:00, 4.90kB/s]",
            "_view_count": null,
            "_view_module_version": "1.5.0",
            "description_tooltip": null,
            "_model_module": "@jupyter-widgets/controls",
            "layout": "IPY_MODEL_6fe0dd8865a149cbb0905ac0b37f512e"
          }
        },
        "96909596c7f24303b2f88747f38f6b2d": {
          "model_module": "@jupyter-widgets/controls",
          "model_name": "DescriptionStyleModel",
          "model_module_version": "1.5.0",
          "state": {
            "_view_name": "StyleView",
            "_model_name": "DescriptionStyleModel",
            "description_width": "",
            "_view_module": "@jupyter-widgets/base",
            "_model_module_version": "1.5.0",
            "_view_count": null,
            "_view_module_version": "1.2.0",
            "_model_module": "@jupyter-widgets/controls"
          }
        },
        "81f0e91022714db4940a4dea19594dfb": {
          "model_module": "@jupyter-widgets/base",
          "model_name": "LayoutModel",
          "model_module_version": "1.2.0",
          "state": {
            "_view_name": "LayoutView",
            "grid_template_rows": null,
            "right": null,
            "justify_content": null,
            "_view_module": "@jupyter-widgets/base",
            "overflow": null,
            "_model_module_version": "1.2.0",
            "_view_count": null,
            "flex_flow": null,
            "width": null,
            "min_width": null,
            "border": null,
            "align_items": null,
            "bottom": null,
            "_model_module": "@jupyter-widgets/base",
            "top": null,
            "grid_column": null,
            "overflow_y": null,
            "overflow_x": null,
            "grid_auto_flow": null,
            "grid_area": null,
            "grid_template_columns": null,
            "flex": null,
            "_model_name": "LayoutModel",
            "justify_items": null,
            "grid_row": null,
            "max_height": null,
            "align_content": null,
            "visibility": null,
            "align_self": null,
            "height": null,
            "min_height": null,
            "padding": null,
            "grid_auto_rows": null,
            "grid_gap": null,
            "max_width": null,
            "order": null,
            "_view_module_version": "1.2.0",
            "grid_template_areas": null,
            "object_position": null,
            "object_fit": null,
            "grid_auto_columns": null,
            "margin": null,
            "display": null,
            "left": null
          }
        },
        "eafad857974346488790ec073a7a97ee": {
          "model_module": "@jupyter-widgets/controls",
          "model_name": "ProgressStyleModel",
          "model_module_version": "1.5.0",
          "state": {
            "_view_name": "StyleView",
            "_model_name": "ProgressStyleModel",
            "description_width": "",
            "_view_module": "@jupyter-widgets/base",
            "_model_module_version": "1.5.0",
            "_view_count": null,
            "_view_module_version": "1.2.0",
            "bar_color": null,
            "_model_module": "@jupyter-widgets/controls"
          }
        },
        "fc6d8cd0b3bf447582a04ac72a831434": {
          "model_module": "@jupyter-widgets/base",
          "model_name": "LayoutModel",
          "model_module_version": "1.2.0",
          "state": {
            "_view_name": "LayoutView",
            "grid_template_rows": null,
            "right": null,
            "justify_content": null,
            "_view_module": "@jupyter-widgets/base",
            "overflow": null,
            "_model_module_version": "1.2.0",
            "_view_count": null,
            "flex_flow": null,
            "width": null,
            "min_width": null,
            "border": null,
            "align_items": null,
            "bottom": null,
            "_model_module": "@jupyter-widgets/base",
            "top": null,
            "grid_column": null,
            "overflow_y": null,
            "overflow_x": null,
            "grid_auto_flow": null,
            "grid_area": null,
            "grid_template_columns": null,
            "flex": null,
            "_model_name": "LayoutModel",
            "justify_items": null,
            "grid_row": null,
            "max_height": null,
            "align_content": null,
            "visibility": null,
            "align_self": null,
            "height": null,
            "min_height": null,
            "padding": null,
            "grid_auto_rows": null,
            "grid_gap": null,
            "max_width": null,
            "order": null,
            "_view_module_version": "1.2.0",
            "grid_template_areas": null,
            "object_position": null,
            "object_fit": null,
            "grid_auto_columns": null,
            "margin": null,
            "display": null,
            "left": null
          }
        },
        "77d88896f03b414fbeac47038f378fa4": {
          "model_module": "@jupyter-widgets/controls",
          "model_name": "DescriptionStyleModel",
          "model_module_version": "1.5.0",
          "state": {
            "_view_name": "StyleView",
            "_model_name": "DescriptionStyleModel",
            "description_width": "",
            "_view_module": "@jupyter-widgets/base",
            "_model_module_version": "1.5.0",
            "_view_count": null,
            "_view_module_version": "1.2.0",
            "_model_module": "@jupyter-widgets/controls"
          }
        },
        "6fe0dd8865a149cbb0905ac0b37f512e": {
          "model_module": "@jupyter-widgets/base",
          "model_name": "LayoutModel",
          "model_module_version": "1.2.0",
          "state": {
            "_view_name": "LayoutView",
            "grid_template_rows": null,
            "right": null,
            "justify_content": null,
            "_view_module": "@jupyter-widgets/base",
            "overflow": null,
            "_model_module_version": "1.2.0",
            "_view_count": null,
            "flex_flow": null,
            "width": null,
            "min_width": null,
            "border": null,
            "align_items": null,
            "bottom": null,
            "_model_module": "@jupyter-widgets/base",
            "top": null,
            "grid_column": null,
            "overflow_y": null,
            "overflow_x": null,
            "grid_auto_flow": null,
            "grid_area": null,
            "grid_template_columns": null,
            "flex": null,
            "_model_name": "LayoutModel",
            "justify_items": null,
            "grid_row": null,
            "max_height": null,
            "align_content": null,
            "visibility": null,
            "align_self": null,
            "height": null,
            "min_height": null,
            "padding": null,
            "grid_auto_rows": null,
            "grid_gap": null,
            "max_width": null,
            "order": null,
            "_view_module_version": "1.2.0",
            "grid_template_areas": null,
            "object_position": null,
            "object_fit": null,
            "grid_auto_columns": null,
            "margin": null,
            "display": null,
            "left": null
          }
        },
        "736461d938f34f9781ff6ef40a4cdd9a": {
          "model_module": "@jupyter-widgets/controls",
          "model_name": "HBoxModel",
          "model_module_version": "1.5.0",
          "state": {
            "_view_name": "HBoxView",
            "_dom_classes": [],
            "_model_name": "HBoxModel",
            "_view_module": "@jupyter-widgets/controls",
            "_model_module_version": "1.5.0",
            "_view_count": null,
            "_view_module_version": "1.5.0",
            "box_style": "",
            "layout": "IPY_MODEL_eab99eac8395438d8f36e00902d70d49",
            "_model_module": "@jupyter-widgets/controls",
            "children": [
              "IPY_MODEL_4fc2c869f89444a0ae3ce2e5ab2727a2",
              "IPY_MODEL_99ca0d137a4344b7a66fd9f0cf8a8654",
              "IPY_MODEL_66dc6b3622a94e90976c11c1f1c4c561"
            ]
          }
        },
        "eab99eac8395438d8f36e00902d70d49": {
          "model_module": "@jupyter-widgets/base",
          "model_name": "LayoutModel",
          "model_module_version": "1.2.0",
          "state": {
            "_view_name": "LayoutView",
            "grid_template_rows": null,
            "right": null,
            "justify_content": null,
            "_view_module": "@jupyter-widgets/base",
            "overflow": null,
            "_model_module_version": "1.2.0",
            "_view_count": null,
            "flex_flow": null,
            "width": null,
            "min_width": null,
            "border": null,
            "align_items": null,
            "bottom": null,
            "_model_module": "@jupyter-widgets/base",
            "top": null,
            "grid_column": null,
            "overflow_y": null,
            "overflow_x": null,
            "grid_auto_flow": null,
            "grid_area": null,
            "grid_template_columns": null,
            "flex": null,
            "_model_name": "LayoutModel",
            "justify_items": null,
            "grid_row": null,
            "max_height": null,
            "align_content": null,
            "visibility": null,
            "align_self": null,
            "height": null,
            "min_height": null,
            "padding": null,
            "grid_auto_rows": null,
            "grid_gap": null,
            "max_width": null,
            "order": null,
            "_view_module_version": "1.2.0",
            "grid_template_areas": null,
            "object_position": null,
            "object_fit": null,
            "grid_auto_columns": null,
            "margin": null,
            "display": null,
            "left": null
          }
        },
        "4fc2c869f89444a0ae3ce2e5ab2727a2": {
          "model_module": "@jupyter-widgets/controls",
          "model_name": "HTMLModel",
          "model_module_version": "1.5.0",
          "state": {
            "_view_name": "HTMLView",
            "style": "IPY_MODEL_5ceb0ebc9a0f4580b883ec59ebdc4d7b",
            "_dom_classes": [],
            "description": "",
            "_model_name": "HTMLModel",
            "placeholder": "​",
            "_view_module": "@jupyter-widgets/controls",
            "_model_module_version": "1.5.0",
            "value": "Downloading: 100%",
            "_view_count": null,
            "_view_module_version": "1.5.0",
            "description_tooltip": null,
            "_model_module": "@jupyter-widgets/controls",
            "layout": "IPY_MODEL_5ecf18fdd63f4db393502b8f86c4a2b5"
          }
        },
        "99ca0d137a4344b7a66fd9f0cf8a8654": {
          "model_module": "@jupyter-widgets/controls",
          "model_name": "FloatProgressModel",
          "model_module_version": "1.5.0",
          "state": {
            "_view_name": "ProgressView",
            "style": "IPY_MODEL_2c1d582e9b0d4d108a7b714c0e479cdd",
            "_dom_classes": [],
            "description": "",
            "_model_name": "FloatProgressModel",
            "bar_style": "success",
            "max": 3162999,
            "_view_module": "@jupyter-widgets/controls",
            "_model_module_version": "1.5.0",
            "value": 3162999,
            "_view_count": null,
            "_view_module_version": "1.5.0",
            "orientation": "horizontal",
            "min": 0,
            "description_tooltip": null,
            "_model_module": "@jupyter-widgets/controls",
            "layout": "IPY_MODEL_868a8847e8d741248b9a74c2705b8c8f"
          }
        },
        "66dc6b3622a94e90976c11c1f1c4c561": {
          "model_module": "@jupyter-widgets/controls",
          "model_name": "HTMLModel",
          "model_module_version": "1.5.0",
          "state": {
            "_view_name": "HTMLView",
            "style": "IPY_MODEL_0729d30398494792a3cc68f4d439454e",
            "_dom_classes": [],
            "description": "",
            "_model_name": "HTMLModel",
            "placeholder": "​",
            "_view_module": "@jupyter-widgets/controls",
            "_model_module_version": "1.5.0",
            "value": " 3.16M/3.16M [00:00&lt;00:00, 12.2MB/s]",
            "_view_count": null,
            "_view_module_version": "1.5.0",
            "description_tooltip": null,
            "_model_module": "@jupyter-widgets/controls",
            "layout": "IPY_MODEL_fad188b9f81448e6a4b4f9e31ad73ac2"
          }
        },
        "5ceb0ebc9a0f4580b883ec59ebdc4d7b": {
          "model_module": "@jupyter-widgets/controls",
          "model_name": "DescriptionStyleModel",
          "model_module_version": "1.5.0",
          "state": {
            "_view_name": "StyleView",
            "_model_name": "DescriptionStyleModel",
            "description_width": "",
            "_view_module": "@jupyter-widgets/base",
            "_model_module_version": "1.5.0",
            "_view_count": null,
            "_view_module_version": "1.2.0",
            "_model_module": "@jupyter-widgets/controls"
          }
        },
        "5ecf18fdd63f4db393502b8f86c4a2b5": {
          "model_module": "@jupyter-widgets/base",
          "model_name": "LayoutModel",
          "model_module_version": "1.2.0",
          "state": {
            "_view_name": "LayoutView",
            "grid_template_rows": null,
            "right": null,
            "justify_content": null,
            "_view_module": "@jupyter-widgets/base",
            "overflow": null,
            "_model_module_version": "1.2.0",
            "_view_count": null,
            "flex_flow": null,
            "width": null,
            "min_width": null,
            "border": null,
            "align_items": null,
            "bottom": null,
            "_model_module": "@jupyter-widgets/base",
            "top": null,
            "grid_column": null,
            "overflow_y": null,
            "overflow_x": null,
            "grid_auto_flow": null,
            "grid_area": null,
            "grid_template_columns": null,
            "flex": null,
            "_model_name": "LayoutModel",
            "justify_items": null,
            "grid_row": null,
            "max_height": null,
            "align_content": null,
            "visibility": null,
            "align_self": null,
            "height": null,
            "min_height": null,
            "padding": null,
            "grid_auto_rows": null,
            "grid_gap": null,
            "max_width": null,
            "order": null,
            "_view_module_version": "1.2.0",
            "grid_template_areas": null,
            "object_position": null,
            "object_fit": null,
            "grid_auto_columns": null,
            "margin": null,
            "display": null,
            "left": null
          }
        },
        "2c1d582e9b0d4d108a7b714c0e479cdd": {
          "model_module": "@jupyter-widgets/controls",
          "model_name": "ProgressStyleModel",
          "model_module_version": "1.5.0",
          "state": {
            "_view_name": "StyleView",
            "_model_name": "ProgressStyleModel",
            "description_width": "",
            "_view_module": "@jupyter-widgets/base",
            "_model_module_version": "1.5.0",
            "_view_count": null,
            "_view_module_version": "1.2.0",
            "bar_color": null,
            "_model_module": "@jupyter-widgets/controls"
          }
        },
        "868a8847e8d741248b9a74c2705b8c8f": {
          "model_module": "@jupyter-widgets/base",
          "model_name": "LayoutModel",
          "model_module_version": "1.2.0",
          "state": {
            "_view_name": "LayoutView",
            "grid_template_rows": null,
            "right": null,
            "justify_content": null,
            "_view_module": "@jupyter-widgets/base",
            "overflow": null,
            "_model_module_version": "1.2.0",
            "_view_count": null,
            "flex_flow": null,
            "width": null,
            "min_width": null,
            "border": null,
            "align_items": null,
            "bottom": null,
            "_model_module": "@jupyter-widgets/base",
            "top": null,
            "grid_column": null,
            "overflow_y": null,
            "overflow_x": null,
            "grid_auto_flow": null,
            "grid_area": null,
            "grid_template_columns": null,
            "flex": null,
            "_model_name": "LayoutModel",
            "justify_items": null,
            "grid_row": null,
            "max_height": null,
            "align_content": null,
            "visibility": null,
            "align_self": null,
            "height": null,
            "min_height": null,
            "padding": null,
            "grid_auto_rows": null,
            "grid_gap": null,
            "max_width": null,
            "order": null,
            "_view_module_version": "1.2.0",
            "grid_template_areas": null,
            "object_position": null,
            "object_fit": null,
            "grid_auto_columns": null,
            "margin": null,
            "display": null,
            "left": null
          }
        },
        "0729d30398494792a3cc68f4d439454e": {
          "model_module": "@jupyter-widgets/controls",
          "model_name": "DescriptionStyleModel",
          "model_module_version": "1.5.0",
          "state": {
            "_view_name": "StyleView",
            "_model_name": "DescriptionStyleModel",
            "description_width": "",
            "_view_module": "@jupyter-widgets/base",
            "_model_module_version": "1.5.0",
            "_view_count": null,
            "_view_module_version": "1.2.0",
            "_model_module": "@jupyter-widgets/controls"
          }
        },
        "fad188b9f81448e6a4b4f9e31ad73ac2": {
          "model_module": "@jupyter-widgets/base",
          "model_name": "LayoutModel",
          "model_module_version": "1.2.0",
          "state": {
            "_view_name": "LayoutView",
            "grid_template_rows": null,
            "right": null,
            "justify_content": null,
            "_view_module": "@jupyter-widgets/base",
            "overflow": null,
            "_model_module_version": "1.2.0",
            "_view_count": null,
            "flex_flow": null,
            "width": null,
            "min_width": null,
            "border": null,
            "align_items": null,
            "bottom": null,
            "_model_module": "@jupyter-widgets/base",
            "top": null,
            "grid_column": null,
            "overflow_y": null,
            "overflow_x": null,
            "grid_auto_flow": null,
            "grid_area": null,
            "grid_template_columns": null,
            "flex": null,
            "_model_name": "LayoutModel",
            "justify_items": null,
            "grid_row": null,
            "max_height": null,
            "align_content": null,
            "visibility": null,
            "align_self": null,
            "height": null,
            "min_height": null,
            "padding": null,
            "grid_auto_rows": null,
            "grid_gap": null,
            "max_width": null,
            "order": null,
            "_view_module_version": "1.2.0",
            "grid_template_areas": null,
            "object_position": null,
            "object_fit": null,
            "grid_auto_columns": null,
            "margin": null,
            "display": null,
            "left": null
          }
        }
      }
    }
  },
  "cells": [
    {
      "cell_type": "markdown",
      "metadata": {
        "id": "view-in-github",
        "colab_type": "text"
      },
      "source": [
        "<a href=\"https://colab.research.google.com/github/usneek/Multilingual-Conversational-Question-Answering/blob/main/ChatBot_MuRIL.ipynb\" target=\"_parent\"><img src=\"https://colab.research.google.com/assets/colab-badge.svg\" alt=\"Open In Colab\"/></a>"
      ]
    },
    {
      "cell_type": "code",
      "metadata": {
        "colab": {
          "base_uri": "https://localhost:8080/"
        },
        "id": "WNCgK2M1_TW2",
        "outputId": "035e3110-b050-4dfd-f6e5-5ae67ffc0183"
      },
      "source": [
        "!pip install -q -U tensorflow-text\n",
        "!pip install -q tf-models-official"
      ],
      "execution_count": null,
      "outputs": [
        {
          "output_type": "stream",
          "name": "stdout",
          "text": [
            "\u001b[K     |████████████████████████████████| 4.4 MB 31.3 MB/s \n",
            "\u001b[K     |████████████████████████████████| 1.8 MB 27.1 MB/s \n",
            "\u001b[K     |████████████████████████████████| 90 kB 10.1 MB/s \n",
            "\u001b[K     |████████████████████████████████| 636 kB 50.5 MB/s \n",
            "\u001b[K     |████████████████████████████████| 213 kB 77.1 MB/s \n",
            "\u001b[K     |████████████████████████████████| 1.1 MB 41.3 MB/s \n",
            "\u001b[K     |████████████████████████████████| 1.2 MB 59.7 MB/s \n",
            "\u001b[K     |████████████████████████████████| 37.1 MB 52 kB/s \n",
            "\u001b[K     |████████████████████████████████| 43 kB 2.1 MB/s \n",
            "\u001b[K     |████████████████████████████████| 99 kB 9.6 MB/s \n",
            "\u001b[K     |████████████████████████████████| 352 kB 48.1 MB/s \n",
            "\u001b[?25h  Building wheel for py-cpuinfo (setup.py) ... \u001b[?25l\u001b[?25hdone\n",
            "  Building wheel for seqeval (setup.py) ... \u001b[?25l\u001b[?25hdone\n"
          ]
        }
      ]
    },
    {
      "cell_type": "code",
      "metadata": {
        "id": "NLjhQ7sBwt3Q"
      },
      "source": [
        "import pandas as pd\n",
        "import numpy as np\n",
        "np.random.seed(0)\n",
        "from keras.regularizers import l2\n",
        "from keras.models import Model, Sequential\n",
        "from keras.layers import Dense, Input, Dropout, LSTM, Activation, Conv1D, Flatten\n",
        "from keras.layers.embeddings import Embedding\n",
        "from keras.preprocessing import sequence\n",
        "from keras.initializers import glorot_uniform\n",
        "from tensorflow.keras.callbacks import ModelCheckpoint, ReduceLROnPlateau\n",
        "from sklearn.model_selection import train_test_split\n",
        "import tensorflow as tf\n",
        "from sklearn.metrics import f1_score\n",
        "np.random.seed(1)\n",
        "import tensorflow_hub as hub\n",
        "import tensorflow_text as text\n",
        "from official.nlp import optimization\n",
        "import matplotlib.pyplot as plt\n",
        "import re\n",
        "import string\n",
        "import seaborn as sns\n",
        "tf.get_logger().setLevel('ERROR')"
      ],
      "execution_count": null,
      "outputs": []
    },
    {
      "cell_type": "code",
      "metadata": {
        "colab": {
          "base_uri": "https://localhost:8080/"
        },
        "id": "DTd5DH68DMl3",
        "outputId": "2c9bf876-c880-4f0a-a04a-d1391c689002"
      },
      "source": [
        "from google.colab import drive\n",
        "drive.mount('/content/drive')"
      ],
      "execution_count": null,
      "outputs": [
        {
          "output_type": "stream",
          "name": "stdout",
          "text": [
            "Mounted at /content/drive\n"
          ]
        }
      ]
    },
    {
      "cell_type": "code",
      "metadata": {
        "id": "yM-tJwUUFYyS"
      },
      "source": [
        "import json\n",
        "data_file = open('drive/My Drive/Conversational Question Answering System Code Notebooks/data.json',encoding='utf-8').read()\n",
        "intents = json.loads(data_file)"
      ],
      "execution_count": null,
      "outputs": []
    },
    {
      "cell_type": "code",
      "metadata": {
        "id": "wqVdjw3HFkhr"
      },
      "source": [
        "sentence=[]\n",
        "for intent in intents['intents']:\n",
        "    for pattern in intent['patterns']:\n",
        "        sentence.append(pattern)"
      ],
      "execution_count": null,
      "outputs": []
    },
    {
      "cell_type": "code",
      "metadata": {
        "id": "qxCll5Ml_zGs"
      },
      "source": [
        "classes=[]\n",
        "for intent in intents['intents']:\n",
        "  for pattern in intent['patterns']:\n",
        "    classes.append(intent['tag'])"
      ],
      "execution_count": null,
      "outputs": []
    },
    {
      "cell_type": "code",
      "metadata": {
        "colab": {
          "base_uri": "https://localhost:8080/"
        },
        "id": "qKy-3AKgAR2z",
        "outputId": "6ac2aee7-7c8f-40ad-8892-150879981907"
      },
      "source": [
        "print(sentence)"
      ],
      "execution_count": null,
      "outputs": [
        {
          "output_type": "stream",
          "name": "stdout",
          "text": [
            "['सीज़ेंट्रिक्स कॉलबैक', 'सीजेड कैक्लबैक', 'सीज़ेंट्रिक्स कॉल बैक', 'C केंद्र कॉल बैक', 'सीज़ेंट्रिक्स कॉल बैक', 'वापस कॉल करें', 'क्या आप कॉल बैक सुविधा प्रदान करते हैं', 'कॉल बैक सॉल्यूशन', 'एक कॉल बैक समाधान की तलाश में', 'कॉल बैक सेवा की आवश्यकता है', 'कॉल बैक सॉल्यूशन है', 'सीज़ेंट्रिक्स कॉलबैक क्या है', 'क्या आप मुझे सीज़ेंट्रिक्स कॉलबैक समाधान में मदद कर सकते हैं', 'क्या आप मुझे सीज़ेंट्रिक्स कॉल बैक सॉल्यूशन में मदद कर सकते हैं', 'क्या आप मुझे कॉल बैक समाधान के बारे में बता सकते हैं', 'ठीक है धन्यवाद मुझे सीज़ेंट्रिक्स कॉलबैक के बारे में बताओ', 'धन्यवाद, मुझे कॉलबैक के बारे में बताएं', 'थैंक्यू, कॉल बैक क्या है', 'अच्छा, क्या आप मुझे कॉलबैक के बारे में बता सकते हैं?', 'धन्यवाद मुझे सीज़ेंट्रिक्स कॉलबैक के बारे में बताएं', ' सीज़ेंट्रिक्स हेल्पडेस्क', 'सीज़ेंट्रिक्सहेल्पडेस्क', 'सीज़ेंट्रिक्स मदद', 'सीज़ेंट्रिक्स हेल्पडेस्क', 'मदद', 'सहायता केंद्र', 'हेल्प डेस्क', 'सीज़ेंट्रिक्स हेल्पडेस्क', 'क्या आप हेल्पडेस्क सुविधा प्रदान करते हैं', 'एक हेल्प डेस्क समाधान की तलाश में', 'मदद डेस्क सेवा की जरूरत है', 'हेल्प डेस्क समाधान है', 'क्या आप सीज़ेंट्रिक्स हेल्पडेस्क समाधान के साथ मेरी मदद कर सकते हैं', 'क्या आप मेरी मदद कर सकते हैं सीज़ेंट्रिक्स सहायता डेस्क समाधान के साथ', 'क्या आप मुझे हेल्प डेस्क समाधान के बारे में बता सकते हैं', 'ठीक है धन्यवाद आप मुझे सीज़ेंट्रिक्स हेल्पडेस्क के बारे में बताएं', 'Thankyou, सीज़ेंट्रिक्स helpdesk क्या है', 'अच्छा, क्या आप मुझे सीज़ेंट्रिक्स हेल्पडेस्क के बारे में बता सकते हैं?', 'धन्यवाद हेल्पडेस्क के बारे में मुझे बताएं', ' सीआरएम आवेदन', 'सीआरएम का अनुप्रयोग', 'सीआरएम संबंधित अनुप्रयोग', 'क्या आप सीआरएम एप्लीकेशन से मेरी मदद कर सकते हैं', 'क्या आप मुझे सीआरएम एप्लिकेशन के बारे में बता सकते हैं', 'क्या आपके पास सीआरएम अनुप्रयोग है', 'सीआरएम एप्लीकेशन क्या है', 'सीआरएम एप्लिकेशन के बारे में बताएं', 'सीआरएम एप्लीकेशन', 'सीआरएम आवेदन', 'सीआरएमआवेदन', 'ठीक है धन्यवाद मुझे सीआरएम आवेदन के बारे में बताओ', 'थैंक्यू, सीआरएम एप्लीकेशन क्या है', 'अच्छा, क्या आप मुझे सीआरएम एप्लिकेशन के बारे में बता सकते हैं?', 'धन्यवाद मुझे सीआरएम एप्लिकेशन के बारे में बताएं', ' नॉन वॉयस प्रोसेस', 'आवाज के साथ गैर प्रक्रिया', 'गैर आवाज', 'नॉन वॉइस प्रोसेस', 'नॉन वॉइस प्रोसेस संबंधी', 'गैर आवाज संबंधी प्रक्रिया', 'गैरआवाज प्रक्रिया', 'आवाज के साथ गैरप्रक्रिया', 'गैरआवाज़ संबंधी', 'गैरआवाज़ संबंधी प्रक्रिया', 'क्या आप नॉन वॉयस प्रोसेस में मेरी मदद कर सकते हैं', 'क्या आप मुझे नॉन वॉयस प्रक्रिया के बारे में बता सकते हैं', 'क्या आपके पास नॉन वॉयस प्रक्रिया है', 'नॉन वॉयस प्रोसेस क्या है', 'मुझे नॉन वॉयस प्रोसेस के बारे में बताएं', 'ठीक है धन्यवाद मुझे गैरआवाज प्रक्रिया के बारे में बताएं', 'थैंक्यू, आपके पास किस प्रकार की गैरध्वनि प्रक्रिया समाधान है', 'अच्छा, क्या आप मुझे नॉन वॉयस प्रक्रिया के बारे में बता सकते हैं?', 'धन्यवाद मुझे नॉन वॉयस प्रक्रिया के बारे में बताएं', ' प्रॊगरेशिव डायलर', 'प्रॊगरेशिव डायलर', 'प्रगतिशील बोली', 'डायलर प्रॊगरेशिव', 'प्रोग्रेसिव डायलर क्या है', 'प्रगतिशील डायलर चाहते हैं', 'प्रॊगरेशिव डायलर की तलाश है', 'क्या आपके पास डायलर का प्रॊगरेशिव मोड है।', 'क्या आपके पास डायलिंग का प्रगतिशील मोड है।', 'क्या आप प्रॊगरेशिव डायलर के साथ मेरी मदद कर सकते हैं', 'क्या आप मुझे प्रगतिशील डायलर के बारे में बता सकते हैं', 'ठीक है आप मुझे प्रगतिशील डायलर के बारे में बताएं', 'थान्यकौ, प्रगतिशील डायलर क्या है', 'अच्छा, क्या आप मुझे प्रगतिशील डायलर के बारे में बता सकते हैं?', 'धन्यवाद मुझे प्रॊगरेशिव डायलर के बारे में बताएं', ' डायलर का पूर्वावलोकन करें', 'प्रीव्यू डायलर', 'डायलर प्रीव्यू', 'पूर्वावलोकनडायलर', 'प्रीव्यू डायलर', 'आप प्रीव्यू डायलर के साथ मेरी मदद कर सकते हैं', 'क्या आप मुझे प्रीव्यू डायलर के बारे में बता सकते हैं', 'प्रीव्यू डायलर क्या है', 'पूर्वावलोकन डायलर चाहते हैं', 'प्रीव्यू डायलर की तलाश में', 'क्या आपके पास डायल करने का प्रीव्यू मोड है', 'क्या आपके पास डायलर का पूर्वावलोकन मोड है', 'क्या आपके पास डायलर पूर्वावलोकन है', 'ठीक है, आप मुझे प्रीव्यू डायलर के बारे में बताएं', 'थानकीउ, प्रगतिशील पूर्वावलोकन डायलर क्या है', 'अच्छा, क्या आप मुझे पूर्वावलोकन डायलर के बारे में बता सकते हैं?', 'धन्यवाद मुझे प्रीव्यू डायलर के बारे में बताएं', ' सीज़ेंट्रिक्स मिस्ड कॉल', 'सीज मिस्ड कॉल', 'सीज़ेंट्रिक्स मिस्ड कॉल', 'सीज़ेंट्रिक्स मिस्ड कॉल', 'सीजेड मिस्ड कॉल', 'सीज़ेंट्रिक्स मिस्ड कॉल सुविधा प्रदान करते हैं', 'मिस कॉल', 'क्या है मिस्ड कॉल सॉल्यूशन', 'मिस्ड कॉल सेवा', 'सीज़ेंट्रिक्स मिस्ड कॉल', 'क्या आप कॉल समाधान से चूक गए हैं', 'मुझे मिस्ड कॉल की तलाश है', 'मिस्ड कॉल सेवा की आवश्यकता है', 'क्या सीज़ेंट्रिक्स में मिस्ड कॉल फीचर है', 'क्या सीज़ेंट्रिक्स में मिस्ड कॉल सॉल्यूशन है', 'क्या आप मिस्ड कॉल सुविधा प्रदान करते हैं', 'क्या आप मुझे सीज़ेंट्रिक्स मिस्ड कॉल सॉल्यूशन में मदद कर सकते हैं', 'क्या आप मिस्ड कॉल समाधान में मेरी मदद कर सकते हैं', 'क्या आप मुझे मिस्ड कॉल समाधान के बारे में बता सकते हैं', 'ठीक है धन्यवाद मुझे सीज़ेंट्रिक्स मिस्ड कॉल के बारे में बताएं', 'थैंक्यू, मिस्ड कॉल फीचर क्या है', 'अच्छा, क्या आप मुझे मिस्ड कॉल समाधान के बारे में बता सकते हैं?', 'धन्यवाद मुझे सीज़ेंट्रिक्स मिस्ड कॉल के बारे में बताएं', ' सीज़ेंट्रिक्स डायलर', 'सीज़ेंट्रिक्स डायलर के बारे में बता सकते हैं', 'डायलर के बारे में बता सकते हैं', 'सीज़ेंट्रिक्स डायलर', 'सीज़ेंट्रिक्स डायलर', 'डायलर', 'डायलर संबंधी', 'सीज़ेंट्रिक्स डायल', 'क्या सीज़ेंट्रिक्स में डायलर फीचर है', 'क्या सीज़ेंट्रिक्स में एक डायलर है', 'क्या सीज़ेंट्रिक्स में डायलर सॉल्यूशन है', 'क्या सीज़ेंट्रिक्स में डायलर है', 'क्या आप डायलर सुविधा प्रदान करते हैं', 'क्या आप डायलर प्रदान करते हैं', 'क्या आप डायलर समाधान प्रदान करते हैं?', 'क्या आपके पास डायलर सुविधा है?', 'क्या आप मुझे सीज़ेंट्रिक्स डायलर समाधान के साथ मदद कर सकते हैं', 'क्या आप सीज़ेंट्रिक्स डायलर समाधान के साथ मेरी मदद कर सकते हैं', 'क्या आप मुझे डायलर समाधान के बारे में बता सकते हैं', 'ठीक है मुझे सीज़ेंट्रिक्स डायलर के बारे में बताओ', 'थैंकीउ, क्या है सीज़ेंट्रिक्स डायलर', 'अच्छा, क्या आप मुझे डायलर के बारे में बता सकते हैं?', 'धन्यवाद मुझे सीज़ेंट्रिक्स डायलर के बारे में बताओ', ' मैनुअल डायलर', 'डायलर मैनुअल', 'क्या आपके पास डायलर का मैनुअल मोड है', 'डायलर का मैनुअल मोड।', 'क्या आप डायलिंग का मैनुअल मोड प्रदान करते हैं।', 'क्या आप डायलर का मैनुअल मोड प्रदान करते हैं', 'क्या आप मैनुअल डायलर से मेरी मदद कर सकते हैं', 'आप मैनुअल डायलर के साथ मेरी मदद कर सकते हैं', 'क्या आप मुझे मैनुअल डायलर के बारे में बता सकते हैं', 'ठीक है आप मुझे मैनुअल डायलर के बारे में बताएं', 'थानकीउ, प्रगतिशील मैनुअल डायलर क्या है', 'अच्छा, क्या आप मुझे मैनुअल डायलर के बारे में बता सकते हैं?', 'धन्यवाद मुझे मैनुअल डायलर के बारे में बताएं', ' सीज़ेंट्रिक्स बार', 'बार', 'सीज़ेंट्रिक्स बार', 'सीज़ेंट्रिक्स का बार', 'बार बार', 'सीज़ेंट्रिक्स बार', 'सीज़ेंट्रिक्स बार', 'सीजेड बार क्या है', 'मुझे सीज़ेंट्रिक्स बार फीचर के बारे में बताएं', 'एक बार समाधान की तलाश में', 'सीज़ेंट्रिक्स बार सेवा की आवश्यकता है', 'क्या आप सीज़ेंट्रिक्स बार सुविधा प्रदान करते हैं', 'मुझे सीज़ेंट्रिक्स बार सॉल्यूशन चाहिए', 'क्या आप सीज़ेंट्रिक्स बार समाधान के साथ मेरी मदद कर सकते हैं', 'क्या आप सीज़ेंट्रिक्स बार समाधान के साथ मेरी मदद कर सकते हैं', 'क्या आप मुझे बार समाधान के बारे में बता सकते हैं', 'ठीक है धन्यवाद आप मुझे सीज़ेंट्रिक्स बार के बारे में बताएं', 'थैंक्यू, क्या है सीज़ेंट्रिक्स बार', 'अच्छा, क्या आप मुझे सीज़ेंट्रिक्स बार के बारे में बता सकते हैं?', 'धन्यवाद मुझे सीज़ेंट्रिक्स बार के बारे में बताएं', ' सीज़ेंट्रिक्स कॉलब्लास्ट', 'सीजी कॉलब्लास्ट', 'सीज़ेंट्रिक्स कॉल ब्लास्ट', 'सीसेंट्रिक्स कॉल ब्लास्ट', 'कॉल ब्लास्ट', 'कॉलब्लास्ट समाधान क्या है', 'क्या आपके पास कॉल ब्लास्ट समाधान है', 'क्या आप कॉल ब्लास्ट सुविधा प्रदान करते हैं', 'क्या CZentrix में कॉलब्लास्ट फीचर है', 'कॉल विस्फोट समाधान', 'क्या आप मुझे कॉल ब्लास्ट समाधान में मदद कर सकते हैं', 'क्या आप मुझे कॉल ब्लास्ट समाधान के बारे में बता सकते हैं', 'ठीक है धन्यवाद मुझे सीज़ेंट्रिक्स कॉलब्लास्ट के बारे में बताओ', 'थैंक्यू, सीज़ेंट्रिक्स कॉलब्लास्ट क्या है', 'अच्छा, क्या आप मुझे कॉल ब्लास्ट के बारे में बता सकते हैं?', 'धन्यवाद मुझे सीज़ेंट्रिक्स कॉल ब्लास्ट के बारे में बताएं', ' सीज़ेंट्रिक्स चैट', 'सीज चैत', 'चेज़ेंट्रिक्स चैट', 'बातचीत', 'सीज़ेंट्रिक्स के साथ चैट करें', 'सीज़ेंट्रिक्स चैट', 'सीज़ेंट्रिक्स चैट क्या है', 'क्या आपके पास चैट समाधान है', 'क्या आप चैटिंग की सुविधा प्रदान करते हैं', 'क्या सीज़ेंट्रिक्स में चैट फीचर है', 'चैट', 'क्या आप मुझे सीज़ेंट्रिक्स चैट सॉल्यूशन में मदद कर सकते हैं', 'आप सीजेड चैट समाधान के साथ मेरी मदद कर सकते हैं', 'क्या आप मुझे चैट समाधान के बारे में बता सकते हैं', 'ठीक है धन्यवाद मुझे सीज़ेंट्रिक्स चैट के बारे में बताएं', 'थैंक्यू, सीज़ेंट्रिक्स चैट क्या है', 'अच्छा, क्या आप मुझे चैट के बारे में बता सकते हैं?', 'धन्यवाद मुझे सीज़ेंट्रिक्स चैट के बारे में बताएं', ' हाँ', 'बेशक', 'हांजी', 'हाँ हाँ', 'हां', ' सीज़ेंट्रिक्स मैजिक कॉल', 'सीज़ेंट्रिक्स मैजिक कॉल', 'सीज़ेंट्रिक्स मैजिक कॉल', 'जादू की पुकार', 'सीज़ेंट्रिक्स मैजिक कॉल', 'मैजिक कॉल सॉल्यूशन क्या है', 'जादू कॉल सेवा के लिए देख रहे हैं', 'जादू कॉल समाधान', 'एक जादू कॉल सेवा की जरूरत है', 'क्या आप मुझे सीज़ेंट्रिक्स मैजिक कॉल सॉल्यूशन में मदद कर सकते हैं', 'आप सीज़ेंट्रिक्स जादू कॉल समाधान के साथ मेरी मदद कर सकते हैं', 'क्या आप मुझे मैजिक कॉल सॉल्यूशन के बारे में बता सकते हैं', 'ठीक है मुझे सीज़ेंट्रिक्स जादू कॉल के बारे में बताओ', 'थैंक्यू, सीज़ेंट्रिक्स मैजिक कॉल क्या है', 'अच्छा, क्या आप मुझे मैजिक कॉल के बारे में बता सकते हैं?', 'धन्यवाद मुझे सीज़ेंट्रिक्स मैजिक कॉल के बारे में बताएं', ' कार्यबल प्रबंधन', 'वर्कफोर्स मैनेजमेंट क्या है', 'क्या है', 'वर्कफोर्स मैनेजमेंट बारे में बताएं', 'कार्य बल प्रबंधन प्रणाली', 'कार्य बल का प्रबंधन', 'क्या आप कार्य बल प्रबंधन में मेरी मदद कर सकते हैं', 'क्या आप मुझे कार्य बल प्रबंधन के बारे में बता सकते हैं', 'क्या आपके पास कार्य बल प्रबंधन है', 'कार्य बल प्रबंधन क्या है', 'ठीक है धन्यवाद मुझे कार्य बल प्रबंधन के बारे में बताएं', 'थैंक्यू, कार्य बल प्रबंधन क्या है', 'अच्छा, क्या आप मुझे कार्य बल प्रबंधन के बारे में बता सकते हैं?', 'धन्यवाद मुझे कार्य बल प्रबंधन के बारे में बताएं', ' स्वयं सेवा समाधान', 'सेल्फ सर्विस सॉल्यूशंस', 'क्या आप मेरी सेल्फ सर्विस सॉल्यूशंस में मदद कर सकते हैं', 'क्या आप मुझे स्वयं सेवा समाधान के बारे में बता सकते हैं', 'क्या आपके पास स्वयं सेवा समाधान है', 'सेल्फ सर्विस सॉल्यूशंस क्या है', 'मुझे स्वयं सेवा समाधान के बारे में बताएं', 'ठीक है धन्यवाद मुझे सेल्फ सर्विस सॉल्यूशंस के बारे में बताएं', 'थैंक्यू, स्वयं सेवा समाधान क्या है', 'अच्छा, क्या आप मुझे स्वयं सेवा समाधान के बारे में बता सकते हैं?', 'धन्यवाद मुझे सेल्फ सर्विस सॉल्यूशंस के बारे में बताएं', 'मुझे सेल्फ सर्विस सॉल्यूशंस बारे में बताएं', 'होम पर जाए', 'सीज़ेंट्रिक्स के बारे में', 'सीज़ेंट्रिक्स के बारे में', 'सीज़ेंट्रिक्स', 'उत्पाद', 'उत्पाद की जानकारी', 'प्रोडक्ट विवरण', 'उत्पाद जांच के लिए', 'प्रोडक्ट संबंधी', 'उत्पाद संबंधी', 'आपके पास क्या उत्पाद हैं?', 'आपके पास कितने प्रोडक्ट हैं?', 'मुझे अपने उत्पादों के बारे में बताओ', 'आपकी कंपनी किस तरह के उत्पाद पेश करती है?', 'आपके पास क्या उपाय है?', 'आप कितने समाधान प्रदान करते हैं', 'आपके पास किस प्रकार के समाधान हैं', 'उत्पादों', 'समाधान', 'ठीक है धन्यवाद मुझे अपने उत्पादों के बारे में बताओ', 'धन्यवाद आपके पास क्या प्रोडक्ट हैं?', 'थैंक्यू, आपके पास किस प्रकार के समाधान हैं', 'अच्छा आप मुझे अपने उत्पादों के बारे में बता सकते हैं?', 'धन्यवाद, आपके पास किस प्रकार के समाधान हैं', 'प्रोडक्ट', 'सीज़ेंट्रिक्स स्क्रीन  लॉगर', 'स्क्रीन लॉग इन करें', 'स्क्रीन लॉगर क्या है', 'स्क्रीन लॉगर क्या है', 'मुझे सीज़ेंट्रिक्स स्क्रीन लॉगर सुविधा के बारे में बताओ', 'एक सीज़ेंट्रिक्स स्क्रीन लॉगर समाधान के लिए देख रहे हैं', 'सीज़ेंट्रिक्स स्क्रीन लॉगर सेवा की जरूरत है', 'क्या आप सीज़ेंट्रिक्स स्क्रीन लॉगर सुविधा प्रदान करते हैं', 'मुझे सीज़ेंट्रिक्स स्क्रीन लॉगर समाधान चाहिए', 'क्या आप मेरी मदद कर सकते हैं सीज़ेंट्रिक्स स्क्रीन लकड़हारा', 'आप सीज़ेंट्रिक्स स्क्रीन लॉगर के साथ मेरी मदद कर सकते हैं', 'क्या आप मुझे स्क्रीन लॉगर के बारे में बता सकते हैं', 'ठीक है धन्यवाद आप मुझे सीज़ेंट्रिक्स स्क्रीन लॉगर के बारे में बताओ', 'Thankyou, सीज़ेंट्रिक्स स्क्रीन लॉगर क्या है', 'अच्छा, क्या आप मुझे स्क्रीन लॉगर के बारे में बता सकते हैं?', 'धन्यवाद मुझे सीज़ेंट्रिक्स स्क्रीन लॉगर के बारे में बताओ', 'सीज़ेंट्रिक्स कॉन्फरेन्स', 'सम्मेलन', 'सीज़ेंट्रिक्स-सम्मेलन', 'सी.जेड कांफ्रेस', 'सीज़ेंट्रिक्स सम्मेलन क्या है', 'मुझे सीज़ेंट्रिक्स सम्मेलन सुविधा के बारे में बताएं', 'एक सीज़ेंट्रिक्स सम्मेलन समाधान की तलाश में', 'सीज़ेंट्रिक्स सम्मेलन सेवा की आवश्यकता है', 'क्या आप सीज़ेंट्रिक्स सम्मेलन सुविधा प्रदान करते हैं', 'मुझे सीज़ेंट्रिक्स सम्मेलन समाधान चाहिए', 'क्या आप मुझे सीज़ेंट्रिक्स सम्मेलन में मदद कर सकते हैं', 'क्या आप मुझे सीज़ेंट्रिक्स सम्मेलन के बारे में बता सकते हैं', 'ठीक है धन्यवाद मुझे सीज़ेंट्रिक्स सम्मेलन के बारे में बताओ', 'थैंक्यू, क्या है सीज़ेंट्रिक्स सम्मेलन', 'अच्छा, क्या आप मुझे सम्मेलन के बारे में बता सकते हैं?', 'धन्यवाद मुझे सीज़ेंट्रिक्स सम्मेलन के बारे में बताएं', 'सीज़ेंट्रिक्स सम्मेलन', 'कॉन्फरेन्स', 'सीज़ेंट्रिक्स कॉन्फरेन्स के बारे में बताएं', 'आवाज की प्रक्रिया', 'आवाज के साथ प्रक्रिया', 'आवाज़', 'वॉइस संबंधी', 'वॉइस प्रोसेस', 'आवाज संबंधी प्रक्रिया', 'क्या आप मुझे आवाज की प्रक्रिया में मदद कर सकते हैं', 'क्या आप मुझे आवाज की प्रक्रिया के बारे में बता सकते हैं', 'क्या आपके पास वॉयस प्रक्रिया है', 'आवाज प्रक्रिया क्या है', 'मुझे आवाज की प्रक्रिया के बारे में बताएं', 'ठीक है मुझे वॉइस प्रोसेस के बारे में बताएं', 'थैंक्यू, आपके पास किस प्रकार की आवाज प्रक्रिया समाधान है', 'अच्छा, क्या आप मुझे वॉइस प्रोसेस के बारे में बता सकते हैं?', 'धन्यवाद मुझे आवाज की प्रक्रिया के बारे में बताएं', 'सीज़ेंट्रिक्स बॉट', 'बॉट', 'सीज़ेंट्रिक्स बॉट क्या है', 'सीज़ेंट्रिक्स बॉट क्या है', 'मुझे सीज़ेंट्रिक्स bot सुविधा के बारे में बताएं', 'एक बॉट समाधान की तलाश में', 'बॉट सेवा की जरूरत है', 'क्या आप सीज़ेंट्रिक्स बॉट सुविधा प्रदान करते हैं', 'मुझे सीज़ेंट्रिक्स बॉट समाधान चाहिए', 'क्या आप मुझे सीज़ेंट्रिक्स बॉट समाधान के साथ मदद कर सकते हैं', 'क्या आप सीज़ेंट्रिक्स बॉट समाधान के साथ मेरी मदद कर सकते हैं', 'क्या आप मुझे बॉट समाधान के बारे में बता सकते हैं', 'ठीक है, धन्यवाद मुझे सीज़ेंट्रिक्स बॉट के बारे में बताओ', 'थैंक्यू, सीजी बॉट क्या है', 'अच्छा, क्या आप मुझे बॉट के बारे में बता सकते हैं?', 'धन्यवाद मुझे सीज़ेंट्रिक्स बॉट के बारे में बताएं', 'नहीं', 'कभी नहीँ', 'ना ना', 'ना', 'स्वयं सेवा समाधान', 'सेल्फ सर्विस सॉल्यूशंस', 'क्या आप मेरी सेल्फ सर्विस सॉल्यूशंस में मदद कर सकते हैं', 'क्या आप मुझे स्वयं सेवा समाधान के बारे में बता सकते हैं', 'क्या आपके पास स्वयं सेवा समाधान है', 'सेल्फ सर्विस सॉल्यूशंस क्या है', 'मुझे स्वयं सेवा समाधान के बारे में बताएं', 'ठीक है धन्यवाद मुझे सेल्फ सर्विस सॉल्यूशंस के बारे में बताएं', 'थैंक्यू, स्वयं सेवा समाधान क्या है', 'अच्छा, क्या आप मुझे स्वयं सेवा समाधान के बारे में बता सकते हैं?', 'धन्यवाद मुझे सेल्फ सर्विस सॉल्यूशंस के बारे में बताएं', 'मुझे सेल्फ सर्विस सॉल्यूशंस बारे में बताएं', ' सीजेड एलएमएस', 'सीज़ेंट्रिक्स एलएमएस', 'सीज़ेंट्रिक्स एलएमएस', 'एलएमएस', 'सीज़ेंट्रिक्स एलएमएस', 'सीज़ेंट्रिक्स एलएमएस', 'एलएमएस क्या है', 'एलएमएस क्या है', 'एलएमएस फीचर के बारे में बताएं', 'क्या आप एलएमएस सुविधा प्रदान करते हैं', 'एक एलएमएस समाधान की तलाश में', 'एलएमएस सेवा की जरूरत है', 'एलएमएस समाधान है', 'क्या आप एलएमएस समाधान के साथ मेरी मदद कर सकते हैं', 'क्या आप मुझे एलएमएस समाधान के बारे में बता सकते हैं', 'ठीक है धन्यवाद आप मुझे सीज़ेंट्रिक्स एलएमएस के बारे में बताएं', 'थैंक्यू, क्या है सीज़ेंट्रिक्स एलएमएस', 'अच्छा, क्या आप मुझे एलएमएस के बारे में बता सकते हैं?', 'धन्यवाद मुझे सीज़ेंट्रिक्स एलएमएस के बारे में बताएं', 'सीज़ेंट्रिक्स मोबाइल', 'मोबाइल', 'सीज मोबाइल', 'भाग मोबाइल', 'क्या है सीज़ेंट्रिक्स mobile', 'मुझे सीज़ेंट्रिक्स मोबाइल फीचर के बारे में बताएं', 'एक सीज़ेंट्रिक्स मोबाइल समाधान की तलाश में', 'सीज़ेंट्रिक्स मोबाइल सेवा चाहिए', 'क्या आप सीज़ेंट्रिक्स मोबाइल सुविधा प्रदान करते हैं', 'मुझे सीज़ेंट्रिक्स मोबाइल सॉल्यूशन चाहिए', 'क्या आप मुझे सीज़ेंट्रिक्स मोबाइल में मदद कर सकते हैं', 'क्या आप मुझे सीज़ेंट्रिक्स मोबाइल के बारे में बता सकते हैं', 'ठीक है धन्यवाद आप मुझे सीज़ेंट्रिक्स मोबाइल के बारे में बताएं', 'Thankyou, सीज़ेंट्रिक्स mobile क्या है', 'अच्छा, क्या आप मुझे सीज़ेंट्रिक्स मोबाइल के बारे में बता सकते हैं?', 'धन्यवाद मुझे सीज़ेंट्रिक्स मोबाइल के बारे में बताएं', 'सीज़ेंट्रिक्स मोबाइल', ' सीज़ेंट्रिक्स गाइड', 'सीजेड गाइड', 'सीज़ेंट्रिक्सगाइड', 'मार्गदर्शक', 'सीज़ेंट्रिक्स गाइड क्या है', 'सीज़ेंट्रिक्स गाइड क्या है', 'मुझे सीज़ेंट्रिक्स गाइड फीचर के बारे में बताएं', 'एक सीज़ेंट्रिक्स गाइड समाधान की तलाश में', 'सीज़ेंट्रिक्स गाइड सेवा की आवश्यकता है', 'क्या आप सीज़ेंट्रिक्स गाइड सुविधा प्रदान करते हैं', 'मुझे सीज़ेंट्रिक्स गाइड समाधान चाहिए', 'क्या आप मुझे सीज़ेंट्रिक्स गाइड समाधान के साथ मदद कर सकते हैं', 'क्या आप सीज़ेंट्रिक्स गाइड समाधान के साथ मेरी मदद कर सकते हैं', 'क्या आप मुझे गाइड समाधान के बारे में बता सकते हैं', 'ठीक है धन्यवाद आप मुझे सीज़ेंट्रिक्स गाइड के बारे में बताएं', 'थैंक्यू, सीजी गाइड क्या है', 'अच्छा, क्या आप मुझे सीज़ेंट्रिक्स गाइड के बारे में बता सकते हैं?', 'धन्यवाद मुझे सीज़ेंट्रिक्स गाइड के बारे में बताएं', ' सीज़ेंट्रिक्स आवाज  लॉगर', 'वॉइस लॉगर', 'सीज़ेंट्रिक्स वॉइस लॉगर', 'सीज़ेंट्रिक्स वॉइस लॉगर सेवा की जरूरत है', 'क्या आप सीज़ेंट्रिक्स वॉइस लॉगरसुविधा प्रदान करते हैं', 'मैं सीज़ेंट्रिक्स आवाज लकड़हारा समाधान चाहता हूँ', 'क्या आप मुझे सीज़ेंट्रिक्स वॉयस लॉगर की मदद कर सकते हैं', 'आप सीज़ेंट्रिक्स आवाज लकड़हारा के साथ मेरी मदद कर सकते हैं', 'क्या आप मुझे सीज़ेंट्रिक्स वॉइस लॉगर के बारे में बता सकते हैं', 'ठीक है धन्यवाद आप मुझे सीज़ेंट्रिक्स आवाज लकड़हारा के बारे में बताओ', 'Thankyou, सीज़ेंट्रिक्स वॉइस लॉगर क्या है', 'अच्छा, क्या आप मुझे आवाज लकड़हारे के बारे में बता सकते हैं?', 'धन्यवाद मुझे cz आवाज लकड़हारा के बारे में बताओ', ' सीज़ेंट्रिक्स एसीडी', 'सीज़ेंट्रिक्स एसीडी', 'सीजेड एसीडी', 'एसीडी', 'क्या सीज़ेंट्रिक्स में एसीडी फीचर है', 'क्या सीज़ेंट्रिक्स में स्वचालित कॉल वितरक है', 'क्या सीज़ेंट्रिक्स में एक स्वचालित कॉल वितरक सुविधा है', 'क्या सीज़ेंट्रिक्स में कॉल रूटिंग फीचर है', 'क्या आप एसीडी सुविधा प्रदान करते हैं', 'क्या आप स्वचालित कॉल वितरक प्रदान करते हैं', 'क्या आप एसीडी प्रदान करते हैं?', 'क्या आपके पास कॉल रूटिंग समाधान है?', 'क्या सीज़ेंट्रिक्स एजेंटों के भीतर कॉल ट्रांसफरिंग सुविधा प्रदान करता है?', 'स्वचालित कॉल वितरक', 'क्या आप मेरी मदद कर सकते हैं सीज़ेंट्रिक्स एसीडी समाधान के साथ', 'क्या आप सीज़ेंट्रिक्स एसीडी समाधान के साथ मेरी मदद कर सकते हैं', 'क्या आप मुझे एसीडी समाधान के बारे में बता सकते हैं', 'ठीक है धन्यवाद मुझे सीज़ेंट्रिक्स एसीडी के बारे में बताओ', 'थैंक्यू, क्या है सीज़ेंट्रिक्स एसीडी', 'अच्छा, क्या आप मुझे एसीडी के बारे में बता सकते हैं?', 'धन्यवाद मुझे सीज़ेंट्रिक्स एसीडी के बारे में बताएं', 'एसीडी', ' ठीक', 'ठंडा', 'धन्यवाद', 'अच्छा', 'चियर्स', 'देवता', 'अच्छा धन्यवाद', 'द्वारा', 'अलविदा', 'ओह बाय', 'ओहक थैंक्यू', 'ठीक है', 'नमस्ते', 'समझ गया। धन्यवाद', 'अलविदा फिर मिलेंगे', 'फिर मिलते हैं', 'मिलते हैं तात', 'प्रणाली', 'आपने आस', 'पास देखो', 'बाद में मिलते है', 'हम्मम धन्यवाद', 'धन्यवाद', 'फिर मिलेंगे', 'बाद में मिलते हैं, धन्यवाद', 'ओह ठीक है', 'ठीक है फिर बाय', ' डायलर प्रडिक्टिव करें', 'प्रडिक्टिव डायलर', 'डायलर प्रेडिक्टिव', 'प्रडिक्टिवडायलर', 'प्रेडिक्टिव डायलर क्या है', 'प्रडिक्टिव डायलर चाहते हैं', 'प्रिडिक्टिव डायलर की तलाश', 'क्या आपके पास प्रेडिक्टिव डायलर है', 'क्या आपके पास डायलर का प्रेडिक्टिव मोड है', 'क्या आपके पास डाइविंग का प्रेडिक्टिव मोड है।', 'क्या आप मुझे भविष्यवाणियों के साथ मदद कर सकते हैं', 'क्या आप मेरी भविष्यवाणी डायलर के साथ कर सकते हैं', 'क्या आप मुझे भविष्य कहनेवाला डायलर के बारे में बता सकते हैं', 'ठीक है आप मुझे भविष्य कहनेवाला डायलर के बारे में बताओ', 'थैंक्यू, भविष्य कहनेवाला डायलर है', 'अच्छा, क्या आप मुझे प्रेडिक्टिव डायलर के बारे में बता सकते हैं?', 'धन्यवाद मुझे प्रडिक्टिव डायलर के बारे में बताता है', ' हे', 'हैलो', 'नमस्ते', 'शुभ प्रभात', 'सुसंध्या', 'सुनो', ' सीज़ेंट्रिक्स ivr', 'आईवीआर', 'सीजेड आईवीआर', 'सीज़ेंट्रिक्सआईवीआर', 'सीज़ेंट्रिक्स बार क्या है', 'सीजेड बार क्या है', 'मुझे सीज़ेंट्रिक्स ivr फीचर के बारे में बताएं', 'एक आईवीआर समाधान की तलाश में', 'आईवीआर सेवा की जरूरत है', 'क्या आप सीज़ेंट्रिक्स ivr सुविधा प्रदान करते हैं', 'मुझे सीज़ेंट्रिक्स ivr समाधान चाहिए', 'क्या आप सीज़ेंट्रिक्स ivr समाधान के साथ मेरी मदद कर सकते हैं', 'आप सीज़ेंट्रिक्स आईवीआर समाधान के साथ मेरी मदद कर सकते हैं', 'क्या आप मुझे ivr समाधान के बारे में बता सकते हैं', 'ठीक है धन्यवाद मुझे सीज़ेंट्रिक्स ivr के बारे में बताओ', 'आईवीआर क्या है थैंक्यू', 'अच्छा, क्या आप मुझे सीज़ेंट्रिक्स IVR के बारे में बता सकते हैं?', 'धन्यवाद मुझे सीज़ेंट्रिक्स ivr के बारे में बताएं', 'ivr']\n"
          ]
        }
      ]
    },
    {
      "cell_type": "code",
      "metadata": {
        "colab": {
          "base_uri": "https://localhost:8080/"
        },
        "id": "J_OawF_sAVAf",
        "outputId": "d19bbc2d-7fbd-423b-9e21-0141e104231c"
      },
      "source": [
        "print(classes)"
      ],
      "execution_count": null,
      "outputs": [
        {
          "output_type": "stream",
          "name": "stdout",
          "text": [
            "['cz_callback', 'cz_callback', 'cz_callback', 'cz_callback', 'cz_callback', 'cz_callback', 'cz_callback', 'cz_callback', 'cz_callback', 'cz_callback', 'cz_callback', 'cz_callback', 'cz_callback', 'cz_callback', 'cz_callback', 'cz_callback', 'cz_callback', 'cz_callback', 'cz_callback', 'cz_callback', 'cz_helpdesk', 'cz_helpdesk', 'cz_helpdesk', 'cz_helpdesk', 'cz_helpdesk', 'cz_helpdesk', 'cz_helpdesk', 'cz_helpdesk', 'cz_helpdesk', 'cz_helpdesk', 'cz_helpdesk', 'cz_helpdesk', 'cz_helpdesk', 'cz_helpdesk', 'cz_helpdesk', 'cz_helpdesk', 'cz_helpdesk', 'cz_helpdesk', 'cz_helpdesk', 'crm_application', 'crm_application', 'crm_application', 'crm_application', 'crm_application', 'crm_application', 'crm_application', 'crm_application', 'crm_application', 'crm_application', 'crm_application', 'crm_application', 'crm_application', 'crm_application', 'crm_application', 'non_voice_process', 'non_voice_process', 'non_voice_process', 'non_voice_process', 'non_voice_process', 'non_voice_process', 'non_voice_process', 'non_voice_process', 'non_voice_process', 'non_voice_process', 'non_voice_process', 'non_voice_process', 'non_voice_process', 'non_voice_process', 'non_voice_process', 'non_voice_process', 'non_voice_process', 'non_voice_process', 'non_voice_process', 'progressive_dialer', 'progressive_dialer', 'progressive_dialer', 'progressive_dialer', 'progressive_dialer', 'progressive_dialer', 'progressive_dialer', 'progressive_dialer', 'progressive_dialer', 'progressive_dialer', 'progressive_dialer', 'progressive_dialer', 'progressive_dialer', 'progressive_dialer', 'progressive_dialer', 'preview_dialer', 'preview_dialer', 'preview_dialer', 'preview_dialer', 'preview_dialer', 'preview_dialer', 'preview_dialer', 'preview_dialer', 'preview_dialer', 'preview_dialer', 'preview_dialer', 'preview_dialer', 'preview_dialer', 'preview_dialer', 'preview_dialer', 'preview_dialer', 'preview_dialer', 'cz_missed_call', 'cz_missed_call', 'cz_missed_call', 'cz_missed_call', 'cz_missed_call', 'cz_missed_call', 'cz_missed_call', 'cz_missed_call', 'cz_missed_call', 'cz_missed_call', 'cz_missed_call', 'cz_missed_call', 'cz_missed_call', 'cz_missed_call', 'cz_missed_call', 'cz_missed_call', 'cz_missed_call', 'cz_missed_call', 'cz_missed_call', 'cz_missed_call', 'cz_missed_call', 'cz_missed_call', 'cz_missed_call', 'cz_dialer', 'cz_dialer', 'cz_dialer', 'cz_dialer', 'cz_dialer', 'cz_dialer', 'cz_dialer', 'cz_dialer', 'cz_dialer', 'cz_dialer', 'cz_dialer', 'cz_dialer', 'cz_dialer', 'cz_dialer', 'cz_dialer', 'cz_dialer', 'cz_dialer', 'cz_dialer', 'cz_dialer', 'cz_dialer', 'cz_dialer', 'cz_dialer', 'cz_dialer', 'manual_dialer', 'manual_dialer', 'manual_dialer', 'manual_dialer', 'manual_dialer', 'manual_dialer', 'manual_dialer', 'manual_dialer', 'manual_dialer', 'manual_dialer', 'manual_dialer', 'manual_dialer', 'manual_dialer', 'cz_bar', 'cz_bar', 'cz_bar', 'cz_bar', 'cz_bar', 'cz_bar', 'cz_bar', 'cz_bar', 'cz_bar', 'cz_bar', 'cz_bar', 'cz_bar', 'cz_bar', 'cz_bar', 'cz_bar', 'cz_bar', 'cz_bar', 'cz_bar', 'cz_bar', 'cz_bar', 'cz_callblast', 'cz_callblast', 'cz_callblast', 'cz_callblast', 'cz_callblast', 'cz_callblast', 'cz_callblast', 'cz_callblast', 'cz_callblast', 'cz_callblast', 'cz_callblast', 'cz_callblast', 'cz_callblast', 'cz_callblast', 'cz_callblast', 'cz_callblast', 'cz_chat', 'cz_chat', 'cz_chat', 'cz_chat', 'cz_chat', 'cz_chat', 'cz_chat', 'cz_chat', 'cz_chat', 'cz_chat', 'cz_chat', 'cz_chat', 'cz_chat', 'cz_chat', 'cz_chat', 'cz_chat', 'cz_chat', 'cz_chat', 'affirm', 'affirm', 'affirm', 'affirm', 'affirm', 'cz_magic_call', 'cz_magic_call', 'cz_magic_call', 'cz_magic_call', 'cz_magic_call', 'cz_magic_call', 'cz_magic_call', 'cz_magic_call', 'cz_magic_call', 'cz_magic_call', 'cz_magic_call', 'cz_magic_call', 'cz_magic_call', 'cz_magic_call', 'cz_magic_call', 'cz_magic_call', 'work_force_management', 'work_force_management', 'work_force_management', 'work_force_management', 'work_force_management', 'work_force_management', 'work_force_management', 'work_force_management', 'work_force_management', 'work_force_management', 'work_force_management', 'work_force_management', 'work_force_management', 'work_force_management', 'self_service_solutions', 'self_service_solutions', 'self_service_solutions', 'self_service_solutions', 'self_service_solutions', 'self_service_solutions', 'self_service_solutions', 'self_service_solutions', 'self_service_solutions', 'self_service_solutions', 'self_service_solutions', 'self_service_solutions', 'home', 'home', 'home', 'home', 'product', 'product', 'product', 'product', 'product', 'product', 'product', 'product', 'product', 'product', 'product', 'product', 'product', 'product', 'product', 'product', 'product', 'product', 'product', 'product', 'product', 'cz_screen_logger', 'cz_screen_logger', 'cz_screen_logger', 'cz_screen_logger', 'cz_screen_logger', 'cz_screen_logger', 'cz_screen_logger', 'cz_screen_logger', 'cz_screen_logger', 'cz_screen_logger', 'cz_screen_logger', 'cz_screen_logger', 'cz_screen_logger', 'cz_screen_logger', 'cz_screen_logger', 'cz_screen_logger', 'cz_conference', 'cz_conference', 'cz_conference', 'cz_conference', 'cz_conference', 'cz_conference', 'cz_conference', 'cz_conference', 'cz_conference', 'cz_conference', 'cz_conference', 'cz_conference', 'cz_conference', 'cz_conference', 'cz_conference', 'cz_conference', 'cz_conference', 'cz_conference', 'cz_conference', 'voice_process', 'voice_process', 'voice_process', 'voice_process', 'voice_process', 'voice_process', 'voice_process', 'voice_process', 'voice_process', 'voice_process', 'voice_process', 'voice_process', 'voice_process', 'voice_process', 'voice_process', 'cz_bot', 'cz_bot', 'cz_bot', 'cz_bot', 'cz_bot', 'cz_bot', 'cz_bot', 'cz_bot', 'cz_bot', 'cz_bot', 'cz_bot', 'cz_bot', 'cz_bot', 'cz_bot', 'cz_bot', 'cz_bot', 'deny', 'deny', 'deny', 'deny', '', '', '', '', '', '', '', '', '', '', '', '', 'cz_lms', 'cz_lms', 'cz_lms', 'cz_lms', 'cz_lms', 'cz_lms', 'cz_lms', 'cz_lms', 'cz_lms', 'cz_lms', 'cz_lms', 'cz_lms', 'cz_lms', 'cz_lms', 'cz_lms', 'cz_lms', 'cz_lms', 'cz_lms', 'cz_lms', 'cz_mobile', 'cz_mobile', 'cz_mobile', 'cz_mobile', 'cz_mobile', 'cz_mobile', 'cz_mobile', 'cz_mobile', 'cz_mobile', 'cz_mobile', 'cz_mobile', 'cz_mobile', 'cz_mobile', 'cz_mobile', 'cz_mobile', 'cz_mobile', 'cz_mobile', 'cz_guide', 'cz_guide', 'cz_guide', 'cz_guide', 'cz_guide', 'cz_guide', 'cz_guide', 'cz_guide', 'cz_guide', 'cz_guide', 'cz_guide', 'cz_guide', 'cz_guide', 'cz_guide', 'cz_guide', 'cz_guide', 'cz_guide', 'cz_guide', 'cz_voice_logger', 'cz_voice_logger', 'cz_voice_logger', 'cz_voice_logger', 'cz_voice_logger', 'cz_voice_logger', 'cz_voice_logger', 'cz_voice_logger', 'cz_voice_logger', 'cz_voice_logger', 'cz_voice_logger', 'cz_voice_logger', 'cz_voice_logger', 'cz_acd', 'cz_acd', 'cz_acd', 'cz_acd', 'cz_acd', 'cz_acd', 'cz_acd', 'cz_acd', 'cz_acd', 'cz_acd', 'cz_acd', 'cz_acd', 'cz_acd', 'cz_acd', 'cz_acd', 'cz_acd', 'cz_acd', 'cz_acd', 'cz_acd', 'cz_acd', 'cz_acd', 'cz_acd', 'thankyou', 'thankyou', 'thankyou', 'thankyou', 'thankyou', 'thankyou', 'thankyou', 'thankyou', 'thankyou', 'thankyou', 'thankyou', 'thankyou', 'thankyou', 'thankyou', 'thankyou', 'thankyou', 'thankyou', 'thankyou', 'thankyou', 'thankyou', 'thankyou', 'thankyou', 'thankyou', 'thankyou', 'thankyou', 'thankyou', 'thankyou', 'predictive_dialer', 'predictive_dialer', 'predictive_dialer', 'predictive_dialer', 'predictive_dialer', 'predictive_dialer', 'predictive_dialer', 'predictive_dialer', 'predictive_dialer', 'predictive_dialer', 'predictive_dialer', 'predictive_dialer', 'predictive_dialer', 'predictive_dialer', 'predictive_dialer', 'predictive_dialer', 'predictive_dialer', 'greet', 'greet', 'greet', 'greet', 'greet', 'greet', 'cz_ivr', 'cz_ivr', 'cz_ivr', 'cz_ivr', 'cz_ivr', 'cz_ivr', 'cz_ivr', 'cz_ivr', 'cz_ivr', 'cz_ivr', 'cz_ivr', 'cz_ivr', 'cz_ivr', 'cz_ivr', 'cz_ivr', 'cz_ivr', 'cz_ivr', 'cz_ivr', 'cz_ivr']\n"
          ]
        }
      ]
    },
    {
      "cell_type": "code",
      "metadata": {
        "id": "fFbxPxDVDQaR"
      },
      "source": [
        "from numpy import array\n",
        "from numpy import argmax\n",
        "from keras.utils import np_utils\n",
        "from sklearn.preprocessing import LabelEncoder\n",
        "from sklearn.preprocessing import OneHotEncoder\n",
        "encoder = LabelEncoder()\n",
        "encoder.fit(classes)\n",
        "encoded_Y = encoder.transform(classes)\n",
        "encoded_Y=np_utils.to_categorical(encoded_Y)"
      ],
      "execution_count": null,
      "outputs": []
    },
    {
      "cell_type": "code",
      "metadata": {
        "colab": {
          "base_uri": "https://localhost:8080/"
        },
        "id": "-C_idJGWGfEF",
        "outputId": "86ef40d2-542e-41ae-e6e8-d4fe98800b37"
      },
      "source": [
        "print(encoded_Y)"
      ],
      "execution_count": null,
      "outputs": [
        {
          "output_type": "stream",
          "name": "stdout",
          "text": [
            "[[0. 0. 0. ... 0. 0. 0.]\n",
            " [0. 0. 0. ... 0. 0. 0.]\n",
            " [0. 0. 0. ... 0. 0. 0.]\n",
            " ...\n",
            " [0. 0. 0. ... 0. 0. 0.]\n",
            " [0. 0. 0. ... 0. 0. 0.]\n",
            " [0. 0. 0. ... 0. 0. 0.]]\n"
          ]
        }
      ]
    },
    {
      "cell_type": "code",
      "metadata": {
        "id": "gaaDazOFVd24"
      },
      "source": [
        "X=[]\n",
        "for i in sentence:\n",
        "  X.append(i)"
      ],
      "execution_count": null,
      "outputs": []
    },
    {
      "cell_type": "code",
      "metadata": {
        "colab": {
          "base_uri": "https://localhost:8080/"
        },
        "id": "GLok09eMDy2V",
        "outputId": "6466bb91-c662-431f-a737-c8c8ebd8571a"
      },
      "source": [
        "print(X)"
      ],
      "execution_count": null,
      "outputs": [
        {
          "output_type": "stream",
          "name": "stdout",
          "text": [
            "['सीज़ेंट्रिक्स कॉलबैक', 'सीजेड कैक्लबैक', 'सीज़ेंट्रिक्स कॉल बैक', 'C केंद्र कॉल बैक', 'सीज़ेंट्रिक्स कॉल बैक', 'वापस कॉल करें', 'क्या आप कॉल बैक सुविधा प्रदान करते हैं', 'कॉल बैक सॉल्यूशन', 'एक कॉल बैक समाधान की तलाश में', 'कॉल बैक सेवा की आवश्यकता है', 'कॉल बैक सॉल्यूशन है', 'सीज़ेंट्रिक्स कॉलबैक क्या है', 'क्या आप मुझे सीज़ेंट्रिक्स कॉलबैक समाधान में मदद कर सकते हैं', 'क्या आप मुझे सीज़ेंट्रिक्स कॉल बैक सॉल्यूशन में मदद कर सकते हैं', 'क्या आप मुझे कॉल बैक समाधान के बारे में बता सकते हैं', 'ठीक है धन्यवाद मुझे सीज़ेंट्रिक्स कॉलबैक के बारे में बताओ', 'धन्यवाद, मुझे कॉलबैक के बारे में बताएं', 'थैंक्यू, कॉल बैक क्या है', 'अच्छा, क्या आप मुझे कॉलबैक के बारे में बता सकते हैं?', 'धन्यवाद मुझे सीज़ेंट्रिक्स कॉलबैक के बारे में बताएं', ' सीज़ेंट्रिक्स हेल्पडेस्क', 'सीज़ेंट्रिक्सहेल्पडेस्क', 'सीज़ेंट्रिक्स मदद', 'सीज़ेंट्रिक्स हेल्पडेस्क', 'मदद', 'सहायता केंद्र', 'हेल्प डेस्क', 'सीज़ेंट्रिक्स हेल्पडेस्क', 'क्या आप हेल्पडेस्क सुविधा प्रदान करते हैं', 'एक हेल्प डेस्क समाधान की तलाश में', 'मदद डेस्क सेवा की जरूरत है', 'हेल्प डेस्क समाधान है', 'क्या आप सीज़ेंट्रिक्स हेल्पडेस्क समाधान के साथ मेरी मदद कर सकते हैं', 'क्या आप मेरी मदद कर सकते हैं सीज़ेंट्रिक्स सहायता डेस्क समाधान के साथ', 'क्या आप मुझे हेल्प डेस्क समाधान के बारे में बता सकते हैं', 'ठीक है धन्यवाद आप मुझे सीज़ेंट्रिक्स हेल्पडेस्क के बारे में बताएं', 'Thankyou, सीज़ेंट्रिक्स helpdesk क्या है', 'अच्छा, क्या आप मुझे सीज़ेंट्रिक्स हेल्पडेस्क के बारे में बता सकते हैं?', 'धन्यवाद हेल्पडेस्क के बारे में मुझे बताएं', ' सीआरएम आवेदन', 'सीआरएम का अनुप्रयोग', 'सीआरएम संबंधित अनुप्रयोग', 'क्या आप सीआरएम एप्लीकेशन से मेरी मदद कर सकते हैं', 'क्या आप मुझे सीआरएम एप्लिकेशन के बारे में बता सकते हैं', 'क्या आपके पास सीआरएम अनुप्रयोग है', 'सीआरएम एप्लीकेशन क्या है', 'सीआरएम एप्लिकेशन के बारे में बताएं', 'सीआरएम एप्लीकेशन', 'सीआरएम आवेदन', 'सीआरएमआवेदन', 'ठीक है धन्यवाद मुझे सीआरएम आवेदन के बारे में बताओ', 'थैंक्यू, सीआरएम एप्लीकेशन क्या है', 'अच्छा, क्या आप मुझे सीआरएम एप्लिकेशन के बारे में बता सकते हैं?', 'धन्यवाद मुझे सीआरएम एप्लिकेशन के बारे में बताएं', ' नॉन वॉयस प्रोसेस', 'आवाज के साथ गैर प्रक्रिया', 'गैर आवाज', 'नॉन वॉइस प्रोसेस', 'नॉन वॉइस प्रोसेस संबंधी', 'गैर आवाज संबंधी प्रक्रिया', 'गैरआवाज प्रक्रिया', 'आवाज के साथ गैरप्रक्रिया', 'गैरआवाज़ संबंधी', 'गैरआवाज़ संबंधी प्रक्रिया', 'क्या आप नॉन वॉयस प्रोसेस में मेरी मदद कर सकते हैं', 'क्या आप मुझे नॉन वॉयस प्रक्रिया के बारे में बता सकते हैं', 'क्या आपके पास नॉन वॉयस प्रक्रिया है', 'नॉन वॉयस प्रोसेस क्या है', 'मुझे नॉन वॉयस प्रोसेस के बारे में बताएं', 'ठीक है धन्यवाद मुझे गैरआवाज प्रक्रिया के बारे में बताएं', 'थैंक्यू, आपके पास किस प्रकार की गैरध्वनि प्रक्रिया समाधान है', 'अच्छा, क्या आप मुझे नॉन वॉयस प्रक्रिया के बारे में बता सकते हैं?', 'धन्यवाद मुझे नॉन वॉयस प्रक्रिया के बारे में बताएं', ' प्रॊगरेशिव डायलर', 'प्रॊगरेशिव डायलर', 'प्रगतिशील बोली', 'डायलर प्रॊगरेशिव', 'प्रोग्रेसिव डायलर क्या है', 'प्रगतिशील डायलर चाहते हैं', 'प्रॊगरेशिव डायलर की तलाश है', 'क्या आपके पास डायलर का प्रॊगरेशिव मोड है।', 'क्या आपके पास डायलिंग का प्रगतिशील मोड है।', 'क्या आप प्रॊगरेशिव डायलर के साथ मेरी मदद कर सकते हैं', 'क्या आप मुझे प्रगतिशील डायलर के बारे में बता सकते हैं', 'ठीक है आप मुझे प्रगतिशील डायलर के बारे में बताएं', 'थान्यकौ, प्रगतिशील डायलर क्या है', 'अच्छा, क्या आप मुझे प्रगतिशील डायलर के बारे में बता सकते हैं?', 'धन्यवाद मुझे प्रॊगरेशिव डायलर के बारे में बताएं', ' डायलर का पूर्वावलोकन करें', 'प्रीव्यू डायलर', 'डायलर प्रीव्यू', 'पूर्वावलोकनडायलर', 'प्रीव्यू डायलर', 'आप प्रीव्यू डायलर के साथ मेरी मदद कर सकते हैं', 'क्या आप मुझे प्रीव्यू डायलर के बारे में बता सकते हैं', 'प्रीव्यू डायलर क्या है', 'पूर्वावलोकन डायलर चाहते हैं', 'प्रीव्यू डायलर की तलाश में', 'क्या आपके पास डायल करने का प्रीव्यू मोड है', 'क्या आपके पास डायलर का पूर्वावलोकन मोड है', 'क्या आपके पास डायलर पूर्वावलोकन है', 'ठीक है, आप मुझे प्रीव्यू डायलर के बारे में बताएं', 'थानकीउ, प्रगतिशील पूर्वावलोकन डायलर क्या है', 'अच्छा, क्या आप मुझे पूर्वावलोकन डायलर के बारे में बता सकते हैं?', 'धन्यवाद मुझे प्रीव्यू डायलर के बारे में बताएं', ' सीज़ेंट्रिक्स मिस्ड कॉल', 'सीज मिस्ड कॉल', 'सीज़ेंट्रिक्स मिस्ड कॉल', 'सीज़ेंट्रिक्स मिस्ड कॉल', 'सीजेड मिस्ड कॉल', 'सीज़ेंट्रिक्स मिस्ड कॉल सुविधा प्रदान करते हैं', 'मिस कॉल', 'क्या है मिस्ड कॉल सॉल्यूशन', 'मिस्ड कॉल सेवा', 'सीज़ेंट्रिक्स मिस्ड कॉल', 'क्या आप कॉल समाधान से चूक गए हैं', 'मुझे मिस्ड कॉल की तलाश है', 'मिस्ड कॉल सेवा की आवश्यकता है', 'क्या सीज़ेंट्रिक्स में मिस्ड कॉल फीचर है', 'क्या सीज़ेंट्रिक्स में मिस्ड कॉल सॉल्यूशन है', 'क्या आप मिस्ड कॉल सुविधा प्रदान करते हैं', 'क्या आप मुझे सीज़ेंट्रिक्स मिस्ड कॉल सॉल्यूशन में मदद कर सकते हैं', 'क्या आप मिस्ड कॉल समाधान में मेरी मदद कर सकते हैं', 'क्या आप मुझे मिस्ड कॉल समाधान के बारे में बता सकते हैं', 'ठीक है धन्यवाद मुझे सीज़ेंट्रिक्स मिस्ड कॉल के बारे में बताएं', 'थैंक्यू, मिस्ड कॉल फीचर क्या है', 'अच्छा, क्या आप मुझे मिस्ड कॉल समाधान के बारे में बता सकते हैं?', 'धन्यवाद मुझे सीज़ेंट्रिक्स मिस्ड कॉल के बारे में बताएं', ' सीज़ेंट्रिक्स डायलर', 'सीज़ेंट्रिक्स डायलर के बारे में बता सकते हैं', 'डायलर के बारे में बता सकते हैं', 'सीज़ेंट्रिक्स डायलर', 'सीज़ेंट्रिक्स डायलर', 'डायलर', 'डायलर संबंधी', 'सीज़ेंट्रिक्स डायल', 'क्या सीज़ेंट्रिक्स में डायलर फीचर है', 'क्या सीज़ेंट्रिक्स में एक डायलर है', 'क्या सीज़ेंट्रिक्स में डायलर सॉल्यूशन है', 'क्या सीज़ेंट्रिक्स में डायलर है', 'क्या आप डायलर सुविधा प्रदान करते हैं', 'क्या आप डायलर प्रदान करते हैं', 'क्या आप डायलर समाधान प्रदान करते हैं?', 'क्या आपके पास डायलर सुविधा है?', 'क्या आप मुझे सीज़ेंट्रिक्स डायलर समाधान के साथ मदद कर सकते हैं', 'क्या आप सीज़ेंट्रिक्स डायलर समाधान के साथ मेरी मदद कर सकते हैं', 'क्या आप मुझे डायलर समाधान के बारे में बता सकते हैं', 'ठीक है मुझे सीज़ेंट्रिक्स डायलर के बारे में बताओ', 'थैंकीउ, क्या है सीज़ेंट्रिक्स डायलर', 'अच्छा, क्या आप मुझे डायलर के बारे में बता सकते हैं?', 'धन्यवाद मुझे सीज़ेंट्रिक्स डायलर के बारे में बताओ', ' मैनुअल डायलर', 'डायलर मैनुअल', 'क्या आपके पास डायलर का मैनुअल मोड है', 'डायलर का मैनुअल मोड।', 'क्या आप डायलिंग का मैनुअल मोड प्रदान करते हैं।', 'क्या आप डायलर का मैनुअल मोड प्रदान करते हैं', 'क्या आप मैनुअल डायलर से मेरी मदद कर सकते हैं', 'आप मैनुअल डायलर के साथ मेरी मदद कर सकते हैं', 'क्या आप मुझे मैनुअल डायलर के बारे में बता सकते हैं', 'ठीक है आप मुझे मैनुअल डायलर के बारे में बताएं', 'थानकीउ, प्रगतिशील मैनुअल डायलर क्या है', 'अच्छा, क्या आप मुझे मैनुअल डायलर के बारे में बता सकते हैं?', 'धन्यवाद मुझे मैनुअल डायलर के बारे में बताएं', ' सीज़ेंट्रिक्स बार', 'बार', 'सीज़ेंट्रिक्स बार', 'सीज़ेंट्रिक्स का बार', 'बार बार', 'सीज़ेंट्रिक्स बार', 'सीज़ेंट्रिक्स बार', 'सीजेड बार क्या है', 'मुझे सीज़ेंट्रिक्स बार फीचर के बारे में बताएं', 'एक बार समाधान की तलाश में', 'सीज़ेंट्रिक्स बार सेवा की आवश्यकता है', 'क्या आप सीज़ेंट्रिक्स बार सुविधा प्रदान करते हैं', 'मुझे सीज़ेंट्रिक्स बार सॉल्यूशन चाहिए', 'क्या आप सीज़ेंट्रिक्स बार समाधान के साथ मेरी मदद कर सकते हैं', 'क्या आप सीज़ेंट्रिक्स बार समाधान के साथ मेरी मदद कर सकते हैं', 'क्या आप मुझे बार समाधान के बारे में बता सकते हैं', 'ठीक है धन्यवाद आप मुझे सीज़ेंट्रिक्स बार के बारे में बताएं', 'थैंक्यू, क्या है सीज़ेंट्रिक्स बार', 'अच्छा, क्या आप मुझे सीज़ेंट्रिक्स बार के बारे में बता सकते हैं?', 'धन्यवाद मुझे सीज़ेंट्रिक्स बार के बारे में बताएं', ' सीज़ेंट्रिक्स कॉलब्लास्ट', 'सीजी कॉलब्लास्ट', 'सीज़ेंट्रिक्स कॉल ब्लास्ट', 'सीसेंट्रिक्स कॉल ब्लास्ट', 'कॉल ब्लास्ट', 'कॉलब्लास्ट समाधान क्या है', 'क्या आपके पास कॉल ब्लास्ट समाधान है', 'क्या आप कॉल ब्लास्ट सुविधा प्रदान करते हैं', 'क्या CZentrix में कॉलब्लास्ट फीचर है', 'कॉल विस्फोट समाधान', 'क्या आप मुझे कॉल ब्लास्ट समाधान में मदद कर सकते हैं', 'क्या आप मुझे कॉल ब्लास्ट समाधान के बारे में बता सकते हैं', 'ठीक है धन्यवाद मुझे सीज़ेंट्रिक्स कॉलब्लास्ट के बारे में बताओ', 'थैंक्यू, सीज़ेंट्रिक्स कॉलब्लास्ट क्या है', 'अच्छा, क्या आप मुझे कॉल ब्लास्ट के बारे में बता सकते हैं?', 'धन्यवाद मुझे सीज़ेंट्रिक्स कॉल ब्लास्ट के बारे में बताएं', ' सीज़ेंट्रिक्स चैट', 'सीज चैत', 'चेज़ेंट्रिक्स चैट', 'बातचीत', 'सीज़ेंट्रिक्स के साथ चैट करें', 'सीज़ेंट्रिक्स चैट', 'सीज़ेंट्रिक्स चैट क्या है', 'क्या आपके पास चैट समाधान है', 'क्या आप चैटिंग की सुविधा प्रदान करते हैं', 'क्या सीज़ेंट्रिक्स में चैट फीचर है', 'चैट', 'क्या आप मुझे सीज़ेंट्रिक्स चैट सॉल्यूशन में मदद कर सकते हैं', 'आप सीजेड चैट समाधान के साथ मेरी मदद कर सकते हैं', 'क्या आप मुझे चैट समाधान के बारे में बता सकते हैं', 'ठीक है धन्यवाद मुझे सीज़ेंट्रिक्स चैट के बारे में बताएं', 'थैंक्यू, सीज़ेंट्रिक्स चैट क्या है', 'अच्छा, क्या आप मुझे चैट के बारे में बता सकते हैं?', 'धन्यवाद मुझे सीज़ेंट्रिक्स चैट के बारे में बताएं', ' हाँ', 'बेशक', 'हांजी', 'हाँ हाँ', 'हां', ' सीज़ेंट्रिक्स मैजिक कॉल', 'सीज़ेंट्रिक्स मैजिक कॉल', 'सीज़ेंट्रिक्स मैजिक कॉल', 'जादू की पुकार', 'सीज़ेंट्रिक्स मैजिक कॉल', 'मैजिक कॉल सॉल्यूशन क्या है', 'जादू कॉल सेवा के लिए देख रहे हैं', 'जादू कॉल समाधान', 'एक जादू कॉल सेवा की जरूरत है', 'क्या आप मुझे सीज़ेंट्रिक्स मैजिक कॉल सॉल्यूशन में मदद कर सकते हैं', 'आप सीज़ेंट्रिक्स जादू कॉल समाधान के साथ मेरी मदद कर सकते हैं', 'क्या आप मुझे मैजिक कॉल सॉल्यूशन के बारे में बता सकते हैं', 'ठीक है मुझे सीज़ेंट्रिक्स जादू कॉल के बारे में बताओ', 'थैंक्यू, सीज़ेंट्रिक्स मैजिक कॉल क्या है', 'अच्छा, क्या आप मुझे मैजिक कॉल के बारे में बता सकते हैं?', 'धन्यवाद मुझे सीज़ेंट्रिक्स मैजिक कॉल के बारे में बताएं', ' कार्यबल प्रबंधन', 'वर्कफोर्स मैनेजमेंट क्या है', 'क्या है', 'वर्कफोर्स मैनेजमेंट बारे में बताएं', 'कार्य बल प्रबंधन प्रणाली', 'कार्य बल का प्रबंधन', 'क्या आप कार्य बल प्रबंधन में मेरी मदद कर सकते हैं', 'क्या आप मुझे कार्य बल प्रबंधन के बारे में बता सकते हैं', 'क्या आपके पास कार्य बल प्रबंधन है', 'कार्य बल प्रबंधन क्या है', 'ठीक है धन्यवाद मुझे कार्य बल प्रबंधन के बारे में बताएं', 'थैंक्यू, कार्य बल प्रबंधन क्या है', 'अच्छा, क्या आप मुझे कार्य बल प्रबंधन के बारे में बता सकते हैं?', 'धन्यवाद मुझे कार्य बल प्रबंधन के बारे में बताएं', ' स्वयं सेवा समाधान', 'सेल्फ सर्विस सॉल्यूशंस', 'क्या आप मेरी सेल्फ सर्विस सॉल्यूशंस में मदद कर सकते हैं', 'क्या आप मुझे स्वयं सेवा समाधान के बारे में बता सकते हैं', 'क्या आपके पास स्वयं सेवा समाधान है', 'सेल्फ सर्विस सॉल्यूशंस क्या है', 'मुझे स्वयं सेवा समाधान के बारे में बताएं', 'ठीक है धन्यवाद मुझे सेल्फ सर्विस सॉल्यूशंस के बारे में बताएं', 'थैंक्यू, स्वयं सेवा समाधान क्या है', 'अच्छा, क्या आप मुझे स्वयं सेवा समाधान के बारे में बता सकते हैं?', 'धन्यवाद मुझे सेल्फ सर्विस सॉल्यूशंस के बारे में बताएं', 'मुझे सेल्फ सर्विस सॉल्यूशंस बारे में बताएं', 'होम पर जाए', 'सीज़ेंट्रिक्स के बारे में', 'सीज़ेंट्रिक्स के बारे में', 'सीज़ेंट्रिक्स', 'उत्पाद', 'उत्पाद की जानकारी', 'प्रोडक्ट विवरण', 'उत्पाद जांच के लिए', 'प्रोडक्ट संबंधी', 'उत्पाद संबंधी', 'आपके पास क्या उत्पाद हैं?', 'आपके पास कितने प्रोडक्ट हैं?', 'मुझे अपने उत्पादों के बारे में बताओ', 'आपकी कंपनी किस तरह के उत्पाद पेश करती है?', 'आपके पास क्या उपाय है?', 'आप कितने समाधान प्रदान करते हैं', 'आपके पास किस प्रकार के समाधान हैं', 'उत्पादों', 'समाधान', 'ठीक है धन्यवाद मुझे अपने उत्पादों के बारे में बताओ', 'धन्यवाद आपके पास क्या प्रोडक्ट हैं?', 'थैंक्यू, आपके पास किस प्रकार के समाधान हैं', 'अच्छा आप मुझे अपने उत्पादों के बारे में बता सकते हैं?', 'धन्यवाद, आपके पास किस प्रकार के समाधान हैं', 'प्रोडक्ट', 'सीज़ेंट्रिक्स स्क्रीन  लॉगर', 'स्क्रीन लॉग इन करें', 'स्क्रीन लॉगर क्या है', 'स्क्रीन लॉगर क्या है', 'मुझे सीज़ेंट्रिक्स स्क्रीन लॉगर सुविधा के बारे में बताओ', 'एक सीज़ेंट्रिक्स स्क्रीन लॉगर समाधान के लिए देख रहे हैं', 'सीज़ेंट्रिक्स स्क्रीन लॉगर सेवा की जरूरत है', 'क्या आप सीज़ेंट्रिक्स स्क्रीन लॉगर सुविधा प्रदान करते हैं', 'मुझे सीज़ेंट्रिक्स स्क्रीन लॉगर समाधान चाहिए', 'क्या आप मेरी मदद कर सकते हैं सीज़ेंट्रिक्स स्क्रीन लकड़हारा', 'आप सीज़ेंट्रिक्स स्क्रीन लॉगर के साथ मेरी मदद कर सकते हैं', 'क्या आप मुझे स्क्रीन लॉगर के बारे में बता सकते हैं', 'ठीक है धन्यवाद आप मुझे सीज़ेंट्रिक्स स्क्रीन लॉगर के बारे में बताओ', 'Thankyou, सीज़ेंट्रिक्स स्क्रीन लॉगर क्या है', 'अच्छा, क्या आप मुझे स्क्रीन लॉगर के बारे में बता सकते हैं?', 'धन्यवाद मुझे सीज़ेंट्रिक्स स्क्रीन लॉगर के बारे में बताओ', 'सीज़ेंट्रिक्स कॉन्फरेन्स', 'सम्मेलन', 'सीज़ेंट्रिक्स-सम्मेलन', 'सी.जेड कांफ्रेस', 'सीज़ेंट्रिक्स सम्मेलन क्या है', 'मुझे सीज़ेंट्रिक्स सम्मेलन सुविधा के बारे में बताएं', 'एक सीज़ेंट्रिक्स सम्मेलन समाधान की तलाश में', 'सीज़ेंट्रिक्स सम्मेलन सेवा की आवश्यकता है', 'क्या आप सीज़ेंट्रिक्स सम्मेलन सुविधा प्रदान करते हैं', 'मुझे सीज़ेंट्रिक्स सम्मेलन समाधान चाहिए', 'क्या आप मुझे सीज़ेंट्रिक्स सम्मेलन में मदद कर सकते हैं', 'क्या आप मुझे सीज़ेंट्रिक्स सम्मेलन के बारे में बता सकते हैं', 'ठीक है धन्यवाद मुझे सीज़ेंट्रिक्स सम्मेलन के बारे में बताओ', 'थैंक्यू, क्या है सीज़ेंट्रिक्स सम्मेलन', 'अच्छा, क्या आप मुझे सम्मेलन के बारे में बता सकते हैं?', 'धन्यवाद मुझे सीज़ेंट्रिक्स सम्मेलन के बारे में बताएं', 'सीज़ेंट्रिक्स सम्मेलन', 'कॉन्फरेन्स', 'सीज़ेंट्रिक्स कॉन्फरेन्स के बारे में बताएं', 'आवाज की प्रक्रिया', 'आवाज के साथ प्रक्रिया', 'आवाज़', 'वॉइस संबंधी', 'वॉइस प्रोसेस', 'आवाज संबंधी प्रक्रिया', 'क्या आप मुझे आवाज की प्रक्रिया में मदद कर सकते हैं', 'क्या आप मुझे आवाज की प्रक्रिया के बारे में बता सकते हैं', 'क्या आपके पास वॉयस प्रक्रिया है', 'आवाज प्रक्रिया क्या है', 'मुझे आवाज की प्रक्रिया के बारे में बताएं', 'ठीक है मुझे वॉइस प्रोसेस के बारे में बताएं', 'थैंक्यू, आपके पास किस प्रकार की आवाज प्रक्रिया समाधान है', 'अच्छा, क्या आप मुझे वॉइस प्रोसेस के बारे में बता सकते हैं?', 'धन्यवाद मुझे आवाज की प्रक्रिया के बारे में बताएं', 'सीज़ेंट्रिक्स बॉट', 'बॉट', 'सीज़ेंट्रिक्स बॉट क्या है', 'सीज़ेंट्रिक्स बॉट क्या है', 'मुझे सीज़ेंट्रिक्स bot सुविधा के बारे में बताएं', 'एक बॉट समाधान की तलाश में', 'बॉट सेवा की जरूरत है', 'क्या आप सीज़ेंट्रिक्स बॉट सुविधा प्रदान करते हैं', 'मुझे सीज़ेंट्रिक्स बॉट समाधान चाहिए', 'क्या आप मुझे सीज़ेंट्रिक्स बॉट समाधान के साथ मदद कर सकते हैं', 'क्या आप सीज़ेंट्रिक्स बॉट समाधान के साथ मेरी मदद कर सकते हैं', 'क्या आप मुझे बॉट समाधान के बारे में बता सकते हैं', 'ठीक है, धन्यवाद मुझे सीज़ेंट्रिक्स बॉट के बारे में बताओ', 'थैंक्यू, सीजी बॉट क्या है', 'अच्छा, क्या आप मुझे बॉट के बारे में बता सकते हैं?', 'धन्यवाद मुझे सीज़ेंट्रिक्स बॉट के बारे में बताएं', 'नहीं', 'कभी नहीँ', 'ना ना', 'ना', 'स्वयं सेवा समाधान', 'सेल्फ सर्विस सॉल्यूशंस', 'क्या आप मेरी सेल्फ सर्विस सॉल्यूशंस में मदद कर सकते हैं', 'क्या आप मुझे स्वयं सेवा समाधान के बारे में बता सकते हैं', 'क्या आपके पास स्वयं सेवा समाधान है', 'सेल्फ सर्विस सॉल्यूशंस क्या है', 'मुझे स्वयं सेवा समाधान के बारे में बताएं', 'ठीक है धन्यवाद मुझे सेल्फ सर्विस सॉल्यूशंस के बारे में बताएं', 'थैंक्यू, स्वयं सेवा समाधान क्या है', 'अच्छा, क्या आप मुझे स्वयं सेवा समाधान के बारे में बता सकते हैं?', 'धन्यवाद मुझे सेल्फ सर्विस सॉल्यूशंस के बारे में बताएं', 'मुझे सेल्फ सर्विस सॉल्यूशंस बारे में बताएं', ' सीजेड एलएमएस', 'सीज़ेंट्रिक्स एलएमएस', 'सीज़ेंट्रिक्स एलएमएस', 'एलएमएस', 'सीज़ेंट्रिक्स एलएमएस', 'सीज़ेंट्रिक्स एलएमएस', 'एलएमएस क्या है', 'एलएमएस क्या है', 'एलएमएस फीचर के बारे में बताएं', 'क्या आप एलएमएस सुविधा प्रदान करते हैं', 'एक एलएमएस समाधान की तलाश में', 'एलएमएस सेवा की जरूरत है', 'एलएमएस समाधान है', 'क्या आप एलएमएस समाधान के साथ मेरी मदद कर सकते हैं', 'क्या आप मुझे एलएमएस समाधान के बारे में बता सकते हैं', 'ठीक है धन्यवाद आप मुझे सीज़ेंट्रिक्स एलएमएस के बारे में बताएं', 'थैंक्यू, क्या है सीज़ेंट्रिक्स एलएमएस', 'अच्छा, क्या आप मुझे एलएमएस के बारे में बता सकते हैं?', 'धन्यवाद मुझे सीज़ेंट्रिक्स एलएमएस के बारे में बताएं', 'सीज़ेंट्रिक्स मोबाइल', 'मोबाइल', 'सीज मोबाइल', 'भाग मोबाइल', 'क्या है सीज़ेंट्रिक्स mobile', 'मुझे सीज़ेंट्रिक्स मोबाइल फीचर के बारे में बताएं', 'एक सीज़ेंट्रिक्स मोबाइल समाधान की तलाश में', 'सीज़ेंट्रिक्स मोबाइल सेवा चाहिए', 'क्या आप सीज़ेंट्रिक्स मोबाइल सुविधा प्रदान करते हैं', 'मुझे सीज़ेंट्रिक्स मोबाइल सॉल्यूशन चाहिए', 'क्या आप मुझे सीज़ेंट्रिक्स मोबाइल में मदद कर सकते हैं', 'क्या आप मुझे सीज़ेंट्रिक्स मोबाइल के बारे में बता सकते हैं', 'ठीक है धन्यवाद आप मुझे सीज़ेंट्रिक्स मोबाइल के बारे में बताएं', 'Thankyou, सीज़ेंट्रिक्स mobile क्या है', 'अच्छा, क्या आप मुझे सीज़ेंट्रिक्स मोबाइल के बारे में बता सकते हैं?', 'धन्यवाद मुझे सीज़ेंट्रिक्स मोबाइल के बारे में बताएं', 'सीज़ेंट्रिक्स मोबाइल', ' सीज़ेंट्रिक्स गाइड', 'सीजेड गाइड', 'सीज़ेंट्रिक्सगाइड', 'मार्गदर्शक', 'सीज़ेंट्रिक्स गाइड क्या है', 'सीज़ेंट्रिक्स गाइड क्या है', 'मुझे सीज़ेंट्रिक्स गाइड फीचर के बारे में बताएं', 'एक सीज़ेंट्रिक्स गाइड समाधान की तलाश में', 'सीज़ेंट्रिक्स गाइड सेवा की आवश्यकता है', 'क्या आप सीज़ेंट्रिक्स गाइड सुविधा प्रदान करते हैं', 'मुझे सीज़ेंट्रिक्स गाइड समाधान चाहिए', 'क्या आप मुझे सीज़ेंट्रिक्स गाइड समाधान के साथ मदद कर सकते हैं', 'क्या आप सीज़ेंट्रिक्स गाइड समाधान के साथ मेरी मदद कर सकते हैं', 'क्या आप मुझे गाइड समाधान के बारे में बता सकते हैं', 'ठीक है धन्यवाद आप मुझे सीज़ेंट्रिक्स गाइड के बारे में बताएं', 'थैंक्यू, सीजी गाइड क्या है', 'अच्छा, क्या आप मुझे सीज़ेंट्रिक्स गाइड के बारे में बता सकते हैं?', 'धन्यवाद मुझे सीज़ेंट्रिक्स गाइड के बारे में बताएं', ' सीज़ेंट्रिक्स आवाज  लॉगर', 'वॉइस लॉगर', 'सीज़ेंट्रिक्स वॉइस लॉगर', 'सीज़ेंट्रिक्स वॉइस लॉगर सेवा की जरूरत है', 'क्या आप सीज़ेंट्रिक्स वॉइस लॉगरसुविधा प्रदान करते हैं', 'मैं सीज़ेंट्रिक्स आवाज लकड़हारा समाधान चाहता हूँ', 'क्या आप मुझे सीज़ेंट्रिक्स वॉयस लॉगर की मदद कर सकते हैं', 'आप सीज़ेंट्रिक्स आवाज लकड़हारा के साथ मेरी मदद कर सकते हैं', 'क्या आप मुझे सीज़ेंट्रिक्स वॉइस लॉगर के बारे में बता सकते हैं', 'ठीक है धन्यवाद आप मुझे सीज़ेंट्रिक्स आवाज लकड़हारा के बारे में बताओ', 'Thankyou, सीज़ेंट्रिक्स वॉइस लॉगर क्या है', 'अच्छा, क्या आप मुझे आवाज लकड़हारे के बारे में बता सकते हैं?', 'धन्यवाद मुझे cz आवाज लकड़हारा के बारे में बताओ', ' सीज़ेंट्रिक्स एसीडी', 'सीज़ेंट्रिक्स एसीडी', 'सीजेड एसीडी', 'एसीडी', 'क्या सीज़ेंट्रिक्स में एसीडी फीचर है', 'क्या सीज़ेंट्रिक्स में स्वचालित कॉल वितरक है', 'क्या सीज़ेंट्रिक्स में एक स्वचालित कॉल वितरक सुविधा है', 'क्या सीज़ेंट्रिक्स में कॉल रूटिंग फीचर है', 'क्या आप एसीडी सुविधा प्रदान करते हैं', 'क्या आप स्वचालित कॉल वितरक प्रदान करते हैं', 'क्या आप एसीडी प्रदान करते हैं?', 'क्या आपके पास कॉल रूटिंग समाधान है?', 'क्या सीज़ेंट्रिक्स एजेंटों के भीतर कॉल ट्रांसफरिंग सुविधा प्रदान करता है?', 'स्वचालित कॉल वितरक', 'क्या आप मेरी मदद कर सकते हैं सीज़ेंट्रिक्स एसीडी समाधान के साथ', 'क्या आप सीज़ेंट्रिक्स एसीडी समाधान के साथ मेरी मदद कर सकते हैं', 'क्या आप मुझे एसीडी समाधान के बारे में बता सकते हैं', 'ठीक है धन्यवाद मुझे सीज़ेंट्रिक्स एसीडी के बारे में बताओ', 'थैंक्यू, क्या है सीज़ेंट्रिक्स एसीडी', 'अच्छा, क्या आप मुझे एसीडी के बारे में बता सकते हैं?', 'धन्यवाद मुझे सीज़ेंट्रिक्स एसीडी के बारे में बताएं', 'एसीडी', ' ठीक', 'ठंडा', 'धन्यवाद', 'अच्छा', 'चियर्स', 'देवता', 'अच्छा धन्यवाद', 'द्वारा', 'अलविदा', 'ओह बाय', 'ओहक थैंक्यू', 'ठीक है', 'नमस्ते', 'समझ गया। धन्यवाद', 'अलविदा फिर मिलेंगे', 'फिर मिलते हैं', 'मिलते हैं तात', 'प्रणाली', 'आपने आस', 'पास देखो', 'बाद में मिलते है', 'हम्मम धन्यवाद', 'धन्यवाद', 'फिर मिलेंगे', 'बाद में मिलते हैं, धन्यवाद', 'ओह ठीक है', 'ठीक है फिर बाय', ' डायलर प्रडिक्टिव करें', 'प्रडिक्टिव डायलर', 'डायलर प्रेडिक्टिव', 'प्रडिक्टिवडायलर', 'प्रेडिक्टिव डायलर क्या है', 'प्रडिक्टिव डायलर चाहते हैं', 'प्रिडिक्टिव डायलर की तलाश', 'क्या आपके पास प्रेडिक्टिव डायलर है', 'क्या आपके पास डायलर का प्रेडिक्टिव मोड है', 'क्या आपके पास डाइविंग का प्रेडिक्टिव मोड है।', 'क्या आप मुझे भविष्यवाणियों के साथ मदद कर सकते हैं', 'क्या आप मेरी भविष्यवाणी डायलर के साथ कर सकते हैं', 'क्या आप मुझे भविष्य कहनेवाला डायलर के बारे में बता सकते हैं', 'ठीक है आप मुझे भविष्य कहनेवाला डायलर के बारे में बताओ', 'थैंक्यू, भविष्य कहनेवाला डायलर है', 'अच्छा, क्या आप मुझे प्रेडिक्टिव डायलर के बारे में बता सकते हैं?', 'धन्यवाद मुझे प्रडिक्टिव डायलर के बारे में बताता है', ' हे', 'हैलो', 'नमस्ते', 'शुभ प्रभात', 'सुसंध्या', 'सुनो', ' सीज़ेंट्रिक्स ivr', 'आईवीआर', 'सीजेड आईवीआर', 'सीज़ेंट्रिक्सआईवीआर', 'सीज़ेंट्रिक्स बार क्या है', 'सीजेड बार क्या है', 'मुझे सीज़ेंट्रिक्स ivr फीचर के बारे में बताएं', 'एक आईवीआर समाधान की तलाश में', 'आईवीआर सेवा की जरूरत है', 'क्या आप सीज़ेंट्रिक्स ivr सुविधा प्रदान करते हैं', 'मुझे सीज़ेंट्रिक्स ivr समाधान चाहिए', 'क्या आप सीज़ेंट्रिक्स ivr समाधान के साथ मेरी मदद कर सकते हैं', 'आप सीज़ेंट्रिक्स आईवीआर समाधान के साथ मेरी मदद कर सकते हैं', 'क्या आप मुझे ivr समाधान के बारे में बता सकते हैं', 'ठीक है धन्यवाद मुझे सीज़ेंट्रिक्स ivr के बारे में बताओ', 'आईवीआर क्या है थैंक्यू', 'अच्छा, क्या आप मुझे सीज़ेंट्रिक्स IVR के बारे में बता सकते हैं?', 'धन्यवाद मुझे सीज़ेंट्रिक्स ivr के बारे में बताएं', 'ivr']\n"
          ]
        }
      ]
    },
    {
      "cell_type": "code",
      "metadata": {
        "colab": {
          "base_uri": "https://localhost:8080/"
        },
        "id": "Q7P1wnpYK9YI",
        "outputId": "159b31ad-cacc-4d63-d549-a4e29c3c782d"
      },
      "source": [
        "!pip install sentence-transformers"
      ],
      "execution_count": null,
      "outputs": [
        {
          "output_type": "stream",
          "name": "stdout",
          "text": [
            "Collecting sentence-transformers\n",
            "  Downloading sentence-transformers-2.1.0.tar.gz (78 kB)\n",
            "\u001b[K     |████████████████████████████████| 78 kB 6.9 MB/s \n",
            "\u001b[?25hCollecting transformers<5.0.0,>=4.6.0\n",
            "  Downloading transformers-4.11.2-py3-none-any.whl (2.9 MB)\n",
            "\u001b[K     |████████████████████████████████| 2.9 MB 40.5 MB/s \n",
            "\u001b[?25hCollecting tokenizers>=0.10.3\n",
            "  Downloading tokenizers-0.10.3-cp37-cp37m-manylinux_2_5_x86_64.manylinux1_x86_64.manylinux_2_12_x86_64.manylinux2010_x86_64.whl (3.3 MB)\n",
            "\u001b[K     |████████████████████████████████| 3.3 MB 53.1 MB/s \n",
            "\u001b[?25hRequirement already satisfied: tqdm in /usr/local/lib/python3.7/dist-packages (from sentence-transformers) (4.62.3)\n",
            "Requirement already satisfied: torch>=1.6.0 in /usr/local/lib/python3.7/dist-packages (from sentence-transformers) (1.9.0+cu102)\n",
            "Requirement already satisfied: torchvision in /usr/local/lib/python3.7/dist-packages (from sentence-transformers) (0.10.0+cu102)\n",
            "Requirement already satisfied: numpy in /usr/local/lib/python3.7/dist-packages (from sentence-transformers) (1.19.5)\n",
            "Requirement already satisfied: scikit-learn in /usr/local/lib/python3.7/dist-packages (from sentence-transformers) (0.22.2.post1)\n",
            "Requirement already satisfied: scipy in /usr/local/lib/python3.7/dist-packages (from sentence-transformers) (1.4.1)\n",
            "Requirement already satisfied: nltk in /usr/local/lib/python3.7/dist-packages (from sentence-transformers) (3.2.5)\n",
            "Requirement already satisfied: sentencepiece in /usr/local/lib/python3.7/dist-packages (from sentence-transformers) (0.1.96)\n",
            "Collecting huggingface-hub\n",
            "  Downloading huggingface_hub-0.0.18-py3-none-any.whl (56 kB)\n",
            "\u001b[K     |████████████████████████████████| 56 kB 5.5 MB/s \n",
            "\u001b[?25hRequirement already satisfied: typing-extensions in /usr/local/lib/python3.7/dist-packages (from torch>=1.6.0->sentence-transformers) (3.7.4.3)\n",
            "Requirement already satisfied: regex!=2019.12.17 in /usr/local/lib/python3.7/dist-packages (from transformers<5.0.0,>=4.6.0->sentence-transformers) (2019.12.20)\n",
            "Requirement already satisfied: pyyaml>=5.1 in /usr/local/lib/python3.7/dist-packages (from transformers<5.0.0,>=4.6.0->sentence-transformers) (5.4.1)\n",
            "Requirement already satisfied: requests in /usr/local/lib/python3.7/dist-packages (from transformers<5.0.0,>=4.6.0->sentence-transformers) (2.23.0)\n",
            "Requirement already satisfied: importlib-metadata in /usr/local/lib/python3.7/dist-packages (from transformers<5.0.0,>=4.6.0->sentence-transformers) (4.8.1)\n",
            "Requirement already satisfied: packaging>=20.0 in /usr/local/lib/python3.7/dist-packages (from transformers<5.0.0,>=4.6.0->sentence-transformers) (21.0)\n",
            "Requirement already satisfied: filelock in /usr/local/lib/python3.7/dist-packages (from transformers<5.0.0,>=4.6.0->sentence-transformers) (3.0.12)\n",
            "Collecting sacremoses\n",
            "  Downloading sacremoses-0.0.46-py3-none-any.whl (895 kB)\n",
            "\u001b[K     |████████████████████████████████| 895 kB 42.1 MB/s \n",
            "\u001b[?25hCollecting ruamel.yaml==0.17.16\n",
            "  Downloading ruamel.yaml-0.17.16-py3-none-any.whl (109 kB)\n",
            "\u001b[K     |████████████████████████████████| 109 kB 74.7 MB/s \n",
            "\u001b[?25hCollecting ruamel.yaml.clib>=0.1.2\n",
            "  Downloading ruamel.yaml.clib-0.2.6-cp37-cp37m-manylinux1_x86_64.whl (546 kB)\n",
            "\u001b[K     |████████████████████████████████| 546 kB 60.6 MB/s \n",
            "\u001b[?25hRequirement already satisfied: pyparsing>=2.0.2 in /usr/local/lib/python3.7/dist-packages (from packaging>=20.0->transformers<5.0.0,>=4.6.0->sentence-transformers) (2.4.7)\n",
            "Requirement already satisfied: zipp>=0.5 in /usr/local/lib/python3.7/dist-packages (from importlib-metadata->transformers<5.0.0,>=4.6.0->sentence-transformers) (3.5.0)\n",
            "Requirement already satisfied: six in /usr/local/lib/python3.7/dist-packages (from nltk->sentence-transformers) (1.15.0)\n",
            "Requirement already satisfied: idna<3,>=2.5 in /usr/local/lib/python3.7/dist-packages (from requests->transformers<5.0.0,>=4.6.0->sentence-transformers) (2.10)\n",
            "Requirement already satisfied: urllib3!=1.25.0,!=1.25.1,<1.26,>=1.21.1 in /usr/local/lib/python3.7/dist-packages (from requests->transformers<5.0.0,>=4.6.0->sentence-transformers) (1.24.3)\n",
            "Requirement already satisfied: chardet<4,>=3.0.2 in /usr/local/lib/python3.7/dist-packages (from requests->transformers<5.0.0,>=4.6.0->sentence-transformers) (3.0.4)\n",
            "Requirement already satisfied: certifi>=2017.4.17 in /usr/local/lib/python3.7/dist-packages (from requests->transformers<5.0.0,>=4.6.0->sentence-transformers) (2021.5.30)\n",
            "Requirement already satisfied: joblib in /usr/local/lib/python3.7/dist-packages (from sacremoses->transformers<5.0.0,>=4.6.0->sentence-transformers) (1.0.1)\n",
            "Requirement already satisfied: click in /usr/local/lib/python3.7/dist-packages (from sacremoses->transformers<5.0.0,>=4.6.0->sentence-transformers) (7.1.2)\n",
            "Requirement already satisfied: pillow>=5.3.0 in /usr/local/lib/python3.7/dist-packages (from torchvision->sentence-transformers) (7.1.2)\n",
            "Building wheels for collected packages: sentence-transformers\n",
            "  Building wheel for sentence-transformers (setup.py) ... \u001b[?25l\u001b[?25hdone\n",
            "  Created wheel for sentence-transformers: filename=sentence_transformers-2.1.0-py3-none-any.whl size=121000 sha256=b7831cb55ccebb2d14726eb7f464fb0a772732dda9dd69237993081b56f68266\n",
            "  Stored in directory: /root/.cache/pip/wheels/90/f0/bb/ed1add84da70092ea526466eadc2bfb197c4bcb8d4fa5f7bad\n",
            "Successfully built sentence-transformers\n",
            "Installing collected packages: ruamel.yaml.clib, ruamel.yaml, tokenizers, sacremoses, huggingface-hub, transformers, sentence-transformers\n",
            "Successfully installed huggingface-hub-0.0.18 ruamel.yaml-0.17.16 ruamel.yaml.clib-0.2.6 sacremoses-0.0.46 sentence-transformers-2.1.0 tokenizers-0.10.3 transformers-4.11.2\n"
          ]
        }
      ]
    },
    {
      "cell_type": "code",
      "metadata": {
        "colab": {
          "base_uri": "https://localhost:8080/",
          "height": 328,
          "referenced_widgets": [
            "bdce14b9832e42d4a6c56720b236e545",
            "34a8993e2fa344b3a68a92ecab604328",
            "8952fa9ca3b245708cfdce1390e72c8c",
            "e69b5d36ba4947e2b178c366180c1fc6",
            "def4ac1a6132485f81fdb450789e77fd",
            "d36fcaaeed4944da8bdadb16639e20cf",
            "402c91bb61ab40f991c6a165a241cac7",
            "f1d6a8a63a87489b8efd10fe79b0df33",
            "f12861b4188b4eaa960f8a21af010384",
            "2a73107b67bb40ddbff7b0acca733fca",
            "36d0b2a837e84911aa27601546610787",
            "44ace198d2764616a19804eb0748e27c",
            "255051fbb67c40059fca80b36c9701cf",
            "a4ab4064a4b445eea28c2a88d9e4b2ff",
            "408c9ef48a37407d9076e257f667d8b5",
            "e2b5753348c745cdb042267b7a1754d6",
            "dd14b92e5f10411f84b7483f02190e92",
            "d07ae2aa6bd74b41a1f0dc5589572421",
            "95523a32482e43e198d93b3444a8d970",
            "29948ed8c8574fe9b720807f5699c5fc",
            "5d59eb418a894c4e9176af4f90680d64",
            "9ee40d30aac0404cb15c5431379eb2c9",
            "de079b81f6a945d9af523a1daccf2858",
            "d1fc91db4dfb4be9aa1494ad0f9e82b7",
            "269b0d2cec3b44799f8d67e84be84e41",
            "a3c19ee1675144c98c957fffdbe917f8",
            "33248264d1e745d598a82b176aeadaad",
            "54e10072e4554695ba900af7614ac9e6",
            "61e18700928e4826b6bb47da88518b0c",
            "001bc6b1ef854dd68f4316b8ee22b78b",
            "bfdd328350b5429eab747cf31cba2fb4",
            "de35f55435fc42b48237bd9e5bdfa8dc",
            "89e1640dec8e49bca2f89161de41ed32",
            "d79c70c79e9d4fbf940de11b417bcad9",
            "9eb454593a6546c5a95697849e2d52a0",
            "a3ec4af28c1844858a89a2145e2b47d8",
            "35be9eb480a0458fbbbe6111b27dc621",
            "0037c6017eeb4edc9729255cf2f9e382",
            "958c18b2dae842fd933ea465a1cb52a4",
            "7f5a937ce7c04dde917c8fd1f4f6b083",
            "b1d42832eb8c4706a8b92a62357bb62b",
            "6ae3358b6fea41a19112f4cccc8f71d6",
            "b644f82d41f74762ab6420c52e247b80",
            "40fb40eb1acf49b4b14d4a1eafc0d0ba",
            "8fb2ae001f1f43c2983fc4be355086b4",
            "54f40b1ae4b34b149d1f86da759f0e54",
            "5b25eb5cd10b4a9b9b7e71334331cb24",
            "339a6e17309848ef88d6ca62538165d5",
            "c8437df083444482b11ed51a826016fe",
            "19c2fc1fa38846e5ba20ab56e00ef509",
            "860e8c78d3874b68a797b16831cce292",
            "5ae9619bf5bd4c249a86297cad804836",
            "2db225df5dea4e43abbf1edacaacc48c",
            "4650fdba65ea4e71b30b3a2faf5113bb",
            "7c5760ff261c4a28ac77f2fef0237ab6",
            "abc2d014798c476f8203e81a1f4b9acc",
            "fc622f11b3884c45880fdc363a929277",
            "2a686e6439ab451fa90c57aeb2d06b18",
            "a71a541d624342438ed1464440af30b3",
            "4882713499a34555a5434082b54c70e4",
            "96909596c7f24303b2f88747f38f6b2d",
            "81f0e91022714db4940a4dea19594dfb",
            "eafad857974346488790ec073a7a97ee",
            "fc6d8cd0b3bf447582a04ac72a831434",
            "77d88896f03b414fbeac47038f378fa4",
            "6fe0dd8865a149cbb0905ac0b37f512e",
            "736461d938f34f9781ff6ef40a4cdd9a",
            "eab99eac8395438d8f36e00902d70d49",
            "4fc2c869f89444a0ae3ce2e5ab2727a2",
            "99ca0d137a4344b7a66fd9f0cf8a8654",
            "66dc6b3622a94e90976c11c1f1c4c561",
            "5ceb0ebc9a0f4580b883ec59ebdc4d7b",
            "5ecf18fdd63f4db393502b8f86c4a2b5",
            "2c1d582e9b0d4d108a7b714c0e479cdd",
            "868a8847e8d741248b9a74c2705b8c8f",
            "0729d30398494792a3cc68f4d439454e",
            "fad188b9f81448e6a4b4f9e31ad73ac2"
          ]
        },
        "id": "VE-dRqQQL6Hp",
        "outputId": "1d8bcf19-4799-459b-fb97-26c4cb5ee200"
      },
      "source": [
        "from sentence_transformers import SentenceTransformer\n",
        "sbert_model = SentenceTransformer('google/muril-base-cased')"
      ],
      "execution_count": null,
      "outputs": [
        {
          "output_type": "display_data",
          "data": {
            "application/vnd.jupyter.widget-view+json": {
              "model_id": "bdce14b9832e42d4a6c56720b236e545",
              "version_minor": 0,
              "version_major": 2
            },
            "text/plain": [
              "Downloading:   0%|          | 0.00/736 [00:00<?, ?B/s]"
            ]
          },
          "metadata": {}
        },
        {
          "output_type": "display_data",
          "data": {
            "application/vnd.jupyter.widget-view+json": {
              "model_id": "44ace198d2764616a19804eb0748e27c",
              "version_minor": 0,
              "version_major": 2
            },
            "text/plain": [
              "Downloading:   0%|          | 0.00/9.04k [00:00<?, ?B/s]"
            ]
          },
          "metadata": {}
        },
        {
          "output_type": "display_data",
          "data": {
            "application/vnd.jupyter.widget-view+json": {
              "model_id": "de079b81f6a945d9af523a1daccf2858",
              "version_minor": 0,
              "version_major": 2
            },
            "text/plain": [
              "Downloading:   0%|          | 0.00/411 [00:00<?, ?B/s]"
            ]
          },
          "metadata": {}
        },
        {
          "output_type": "display_data",
          "data": {
            "application/vnd.jupyter.widget-view+json": {
              "model_id": "d79c70c79e9d4fbf940de11b417bcad9",
              "version_minor": 0,
              "version_major": 2
            },
            "text/plain": [
              "Downloading:   0%|          | 0.00/953M [00:00<?, ?B/s]"
            ]
          },
          "metadata": {}
        },
        {
          "output_type": "display_data",
          "data": {
            "application/vnd.jupyter.widget-view+json": {
              "model_id": "8fb2ae001f1f43c2983fc4be355086b4",
              "version_minor": 0,
              "version_major": 2
            },
            "text/plain": [
              "Downloading:   0%|          | 0.00/113 [00:00<?, ?B/s]"
            ]
          },
          "metadata": {}
        },
        {
          "output_type": "display_data",
          "data": {
            "application/vnd.jupyter.widget-view+json": {
              "model_id": "abc2d014798c476f8203e81a1f4b9acc",
              "version_minor": 0,
              "version_major": 2
            },
            "text/plain": [
              "Downloading:   0%|          | 0.00/181 [00:00<?, ?B/s]"
            ]
          },
          "metadata": {}
        },
        {
          "output_type": "display_data",
          "data": {
            "application/vnd.jupyter.widget-view+json": {
              "model_id": "736461d938f34f9781ff6ef40a4cdd9a",
              "version_minor": 0,
              "version_major": 2
            },
            "text/plain": [
              "Downloading:   0%|          | 0.00/3.16M [00:00<?, ?B/s]"
            ]
          },
          "metadata": {}
        },
        {
          "output_type": "stream",
          "name": "stderr",
          "text": [
            "WARNING:root:No sentence-transformers model found with name /root/.cache/torch/sentence_transformers/google_muril-base-cased. Creating a new one with MEAN pooling.\n",
            "Some weights of the model checkpoint at /root/.cache/torch/sentence_transformers/google_muril-base-cased were not used when initializing BertModel: ['cls.predictions.transform.dense.weight', 'cls.predictions.transform.LayerNorm.weight', 'cls.predictions.transform.LayerNorm.bias', 'cls.predictions.decoder.bias', 'cls.seq_relationship.bias', 'cls.predictions.bias', 'cls.predictions.transform.dense.bias', 'cls.predictions.decoder.weight', 'cls.seq_relationship.weight']\n",
            "- This IS expected if you are initializing BertModel from the checkpoint of a model trained on another task or with another architecture (e.g. initializing a BertForSequenceClassification model from a BertForPreTraining model).\n",
            "- This IS NOT expected if you are initializing BertModel from the checkpoint of a model that you expect to be exactly identical (initializing a BertForSequenceClassification model from a BertForSequenceClassification model).\n"
          ]
        }
      ]
    },
    {
      "cell_type": "code",
      "metadata": {
        "id": "kVAF-NKnM524",
        "colab": {
          "base_uri": "https://localhost:8080/"
        },
        "outputId": "6f0fd5dd-bd36-4668-aa23-3267612f126c"
      },
      "source": [
        "sentence_embedding=sbert_model.encode(X)"
      ],
      "execution_count": null,
      "outputs": [
        {
          "output_type": "stream",
          "name": "stderr",
          "text": [
            "/usr/local/lib/python3.7/dist-packages/transformers/tokenization_utils_base.py:2227: UserWarning: `max_length` is ignored when `padding`=`True`.\n",
            "  warnings.warn(\"`max_length` is ignored when `padding`=`True`.\")\n"
          ]
        }
      ]
    },
    {
      "cell_type": "code",
      "metadata": {
        "id": "R524_h09Gvtd"
      },
      "source": [
        "model = Sequential()\n",
        "model.add(Dense(256, input_shape=(sentence_embedding.shape[1],), activation='relu'))\n",
        "model.add(Dropout(0.5))\n",
        "model.add(Dense(128, activation='relu'))\n",
        "model.add(Dropout(0.5))\n",
        "model.add(Dense(33, activation='softmax'))\n",
        "model.compile(loss='categorical_crossentropy', optimizer='adam', metrics=['accuracy']) \n",
        "hist = model.fit(sentence_embedding,encoded_Y, epochs=600, batch_size=10, verbose=1)\n",
        "model.save('chatbot_model.h5', hist)\n",
        "print(\"model created\")"
      ],
      "execution_count": null,
      "outputs": []
    },
    {
      "cell_type": "code",
      "metadata": {
        "id": "QePl7nRzUV92"
      },
      "source": [
        "import random\n",
        "def getResponse(ints, intents_json):\n",
        "    tag = ints[0]['intent']\n",
        "    list_of_intents = intents_json['intents']\n",
        "    for i in list_of_intents:\n",
        "        if(i['tag']== tag):\n",
        "            result = random.choice(i['responses'])\n",
        "            break\n",
        "    return result"
      ],
      "execution_count": null,
      "outputs": []
    },
    {
      "cell_type": "code",
      "metadata": {
        "id": "OrT8MQ4maElr"
      },
      "source": [
        "final=['','affirm','crm_application','cz_acd','cz_bar','cz_bot','cz_callback',\n",
        " 'cz_callblast','cz_chat','cz_conference','cz_dialer','cz_guide',\n",
        " 'cz_helpdesk','cz_ivr','cz_lms','cz_magic_call','cz_missed_call',\n",
        " 'cz_mobile','cz_screen_logger','cz_voice_logger','deny','greet','home',\n",
        " 'manual_dialer','non_voice_process','predictive_dialer','preview_dialer',\n",
        " 'product','progressive_dialer','self_service_solutions','thankyou',\n",
        " 'voice_process','work_force_management']"
      ],
      "execution_count": null,
      "outputs": []
    },
    {
      "cell_type": "code",
      "metadata": {
        "id": "8tCKZ4C1U2VG"
      },
      "source": [
        "def chatbot_response(text):\n",
        "  text=[text]\n",
        "  em=sbert_model.encode(text)\n",
        "  res = model.predict(em)[0]\n",
        "  ERROR_THRESHOLD = 0.3\n",
        "  results = [[i,r] for i,r in enumerate(res) if r>ERROR_THRESHOLD]\n",
        "  results.sort(key=lambda x: x[1], reverse=True)\n",
        "  return_list = []\n",
        "  for r in results:\n",
        "      return_list.append({\"intent\": final[r[0]], \"probability\": str(r[1])})\n",
        "  res = getResponse(return_list, intents)\n",
        "  print(res)\n",
        " "
      ],
      "execution_count": null,
      "outputs": []
    },
    {
      "cell_type": "code",
      "metadata": {
        "colab": {
          "base_uri": "https://localhost:8080/"
        },
        "id": "vMcizSdTVji7",
        "outputId": "3a594a6c-6152-41a6-b848-00e2c809e1eb"
      },
      "source": [
        "chatbot_response(\"सीज़ेंट्रिक्स कॉलबैक\")"
      ],
      "execution_count": null,
      "outputs": [
        {
          "output_type": "stream",
          "name": "stdout",
          "text": [
            "सीज़ेंट्रिक्स कॉलबैक समाधान आपके भावी ग्राहकों को लंबे समय तक कॉल पर प्रतीक्षा नहींकरने में मदद करता है। उन्हें तुरंत कॉल करें या उनकी सुविधानुसार कॉल शेड्यूल  करें। आगंतुक या ग्राहक अपना संपर्क नंबर प्रदान कर सकते हैं और संबंधित एजेंटवापस कॉल करेंगे। यह आपके ग्राहक के ड्रॉपआउट दरों को बचाता है। अधिक जानकारी केलिए लिंक पर जाएं\n"
          ]
        },
        {
          "output_type": "stream",
          "name": "stderr",
          "text": [
            "/usr/local/lib/python3.7/dist-packages/transformers/tokenization_utils_base.py:2227: UserWarning: `max_length` is ignored when `padding`=`True`.\n",
            "  warnings.warn(\"`max_length` is ignored when `padding`=`True`.\")\n"
          ]
        }
      ]
    },
    {
      "cell_type": "code",
      "metadata": {
        "colab": {
          "base_uri": "https://localhost:8080/"
        },
        "id": "QMNwO8fSWx48",
        "outputId": "311c40b1-0cac-4ea8-f288-c8e754d31958"
      },
      "source": [
        "chatbot_response(\"kya aapke paas dialer ka progressive mode hai\")"
      ],
      "execution_count": null,
      "outputs": [
        {
          "output_type": "stream",
          "name": "stdout",
          "text": [
            "सीज़ेंट्रिक्स मोबाइल, मोबाइल पहला समाधान है जो लैपटॉप / डेस्कटॉप / PRI / लैंडलाइन पर एजेंटों की निर्भरता को हटाकर और उनके स्मार्टफ़ोन पर टेलीफोनी लाकर अधिक गतिशीलता को प्रोत्साहित करता है। यह बिक्री, सहायता और संग्रह में वितरित कार्यबल के लिए काफी हद तक उपयोगी है। अधिक जानकारी के लिए लिंक पर जाएं,<a href='https://www.czentrix.com/products/czmobile'>यहाँ क्लिक करें</a>\n"
          ]
        },
        {
          "output_type": "stream",
          "name": "stderr",
          "text": [
            "/usr/local/lib/python3.7/dist-packages/transformers/tokenization_utils_base.py:2227: UserWarning: `max_length` is ignored when `padding`=`True`.\n",
            "  warnings.warn(\"`max_length` is ignored when `padding`=`True`.\")\n"
          ]
        }
      ]
    },
    {
      "cell_type": "code",
      "metadata": {
        "colab": {
          "base_uri": "https://localhost:8080/"
        },
        "id": "T8fDhb2aWwTU",
        "outputId": "9dda1215-4d97-477f-b777-d2aa4c104a88"
      },
      "source": [
        "chatbot_response(\"हांजी\")"
      ],
      "execution_count": null,
      "outputs": [
        {
          "output_type": "stream",
          "name": "stdout",
          "text": [
            "आपकी प्रतिक्रिया के लिए आपका धन्यवाद। होम पर जाए\n"
          ]
        },
        {
          "output_type": "stream",
          "name": "stderr",
          "text": [
            "/usr/local/lib/python3.7/dist-packages/transformers/tokenization_utils_base.py:2227: UserWarning: `max_length` is ignored when `padding`=`True`.\n",
            "  warnings.warn(\"`max_length` is ignored when `padding`=`True`.\")\n"
          ]
        }
      ]
    },
    {
      "cell_type": "code",
      "metadata": {
        "colab": {
          "base_uri": "https://localhost:8080/"
        },
        "id": "YfdFHWYgUigV",
        "outputId": "a7fda4db-df8b-49fa-e6a2-863568f6992e"
      },
      "source": [
        "chatbot_response(\"hello\")"
      ],
      "execution_count": null,
      "outputs": [
        {
          "output_type": "stream",
          "name": "stdout",
          "text": [
            "सीज़ेंट्रिक्स चैट टेक्स्ट, ऑडियो और वीडियो चैट प्रदान करता है। सोशल मीडिया चैट और व्हाट्सएप के साथ इसका एकीकरण केक पर आइसिंग जोड़ता है। चैट विंडो को दिखाने के लिए लचीलापन है, उस पर क्या दिखाना है और अपने ग्राहक की यात्रा के अनुसार संदेशों को अनुकूलित करना है। अधिक जानकारी के लिए लिंक पर जाएं,<a href='https://www.czentrix.com/products/czchat'>यहाँ क्लिक करें</a>\n"
          ]
        },
        {
          "output_type": "stream",
          "name": "stderr",
          "text": [
            "/usr/local/lib/python3.7/dist-packages/transformers/tokenization_utils_base.py:2227: UserWarning: `max_length` is ignored when `padding`=`True`.\n",
            "  warnings.warn(\"`max_length` is ignored when `padding`=`True`.\")\n"
          ]
        }
      ]
    },
    {
      "cell_type": "code",
      "metadata": {
        "colab": {
          "base_uri": "https://localhost:8080/"
        },
        "id": "AfFijN1rV2iK",
        "outputId": "71ba2538-f592-462f-a58e-fa8b600686b9"
      },
      "source": [
        "chatbot_response(\"मिस्ड कॉल के बारे में बताओ\")"
      ],
      "execution_count": null,
      "outputs": [
        {
          "output_type": "stream",
          "name": "stdout",
          "text": [
            "सीज़ेड मिस्ड कॉल समाधान उत्पन्न लीड की तरह बहुत कुछ कर सकता है, अंत उपयोगकर्ताओं को कनेक्ट करने, संख्याओं की पुष्टि करने, प्रतिक्रिया एकत्र करने, वोटों का संचालन करने और यहां तक कि प्रतियोगिता चलाने के लिए एक निःशुल्क मंच प्रदान करता है। उपयोगकर्ता बस एक मिस्ड कॉल कर सकता है और हमारे समाधान द्वारा आराम का ध्यान रखा जाता है। अधिक जानकारी के लिए यात्रा लिंक,<a href='https://www.czentrix.com/products/czmissedcallservice'>यहाँ क्लिक करें</a>\n"
          ]
        },
        {
          "output_type": "stream",
          "name": "stderr",
          "text": [
            "/usr/local/lib/python3.7/dist-packages/transformers/tokenization_utils_base.py:2227: UserWarning: `max_length` is ignored when `padding`=`True`.\n",
            "  warnings.warn(\"`max_length` is ignored when `padding`=`True`.\")\n"
          ]
        }
      ]
    },
    {
      "cell_type": "code",
      "metadata": {
        "id": "sR2nhgQJAwst",
        "colab": {
          "base_uri": "https://localhost:8080/"
        },
        "outputId": "df90a38b-603e-4770-c7bb-157d80f9373d"
      },
      "source": [
        "chatbot_response(\"Tell me about dialers\")"
      ],
      "execution_count": null,
      "outputs": [
        {
          "output_type": "stream",
          "name": "stdout",
          "text": [
            "सीज़ेंट्रिक्स डायलर न केवल आपको डेटाबेस आयात करने का एक आसान विकल्प देता है, बल्कि वेबसाइट, सीआरएम, एलएमएस आदि जैसे तीसरे पक्ष के लीड स्रोतों के साथ आसानी से एकीकृत करता है ताकि लीड सीधे डायलर से वास्तविक समय में जुड़ सकें। चार प्रकार के डायलर हैं 1. प्रडिक्टिव डायलर 2. प्रॊगरेशिव डायलर 3. प्रीव्यू डायलर 4. मैनुअल डायलर\n"
          ]
        },
        {
          "output_type": "stream",
          "name": "stderr",
          "text": [
            "/usr/local/lib/python3.7/dist-packages/transformers/tokenization_utils_base.py:2227: UserWarning: `max_length` is ignored when `padding`=`True`.\n",
            "  warnings.warn(\"`max_length` is ignored when `padding`=`True`.\")\n"
          ]
        }
      ]
    },
    {
      "cell_type": "code",
      "metadata": {
        "colab": {
          "base_uri": "https://localhost:8080/"
        },
        "id": "1o4SMZtJWYTV",
        "outputId": "ea08f5d4-441b-40bf-b4a6-224024b15c6f"
      },
      "source": [
        "chatbot_response(\"ਮੈਨੂੰ ਡਾਇਲਰ ਬਾਰੇ ਦੱਸੋ\")"
      ],
      "execution_count": null,
      "outputs": [
        {
          "output_type": "stream",
          "name": "stdout",
          "text": [
            "सीज़ेंट्रिक्स डायलर न केवल आपको डेटाबेस आयात करने का एक आसान विकल्प देता है, बल्कि वेबसाइट, सीआरएम, एलएमएस आदि जैसे तीसरे पक्ष के लीड स्रोतों के साथ आसानी से एकीकृत करता है ताकि लीड सीधे डायलर से वास्तविक समय में जुड़ सकें। चार प्रकार के डायलर हैं 1. प्रडिक्टिव डायलर 2. प्रॊगरेशिव डायलर 3. प्रीव्यू डायलर 4. मैनुअल डायलर\n"
          ]
        },
        {
          "output_type": "stream",
          "name": "stderr",
          "text": [
            "/usr/local/lib/python3.7/dist-packages/transformers/tokenization_utils_base.py:2227: UserWarning: `max_length` is ignored when `padding`=`True`.\n",
            "  warnings.warn(\"`max_length` is ignored when `padding`=`True`.\")\n"
          ]
        }
      ]
    }
  ]
}